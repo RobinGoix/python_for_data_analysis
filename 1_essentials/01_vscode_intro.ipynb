{
 "cells": [
  {
   "cell_type": "markdown",
   "metadata": {},
   "source": [
    "# Modes commande et édition\n",
    "Le notebook est utilisable selon deux modes:\n",
    "* le mode commande: on y accède en tapant `echap`. Il permet de naviguer facilement entre les cellules, avec les flèches directionnelles du clavier, et d'accéder à certains raccourcis\n",
    "* le mode édition: on y accède en tapant `entrée`. Il permet d'éditer le contenu des ceulules."
   ]
  },
  {
   "cell_type": "markdown",
   "metadata": {},
   "source": [
    "# Exécuter du code"
   ]
  },
  {
   "cell_type": "markdown",
   "metadata": {},
   "source": [
    "Avant tout, VSCode permet d'écrire et d'exécuter du code de manière interactive.\n",
    "\n",
    "VSCode peut exécuter du code dans de nombreux languages, mais chaque notebook est associé à un seul interpréteur. Pendant cette session, on se concentre sur les notebooks python.\n"
   ]
  },
  {
   "cell_type": "markdown",
   "metadata": {},
   "source": [
    "# Les cellules de code vous permettent d'écrire et d'exécuter du code"
   ]
  },
  {
   "cell_type": "markdown",
   "metadata": {},
   "source": [
    "Exécutez une cellule de code en appuyant sur `Shift+Entrée` ou en cliquant sur le bouton <svg xmlns=\"http://www.w3.org/2000/svg\" width=\"16\" height=\"16\" fill=\"currentColor\" class=\"bi bi-play\" viewBox=\"0 0 16 16\">\n",
    "  <path d=\"M10.804 8 5 4.633v6.734L10.804 8zm.792-.696a.802.802 0 0 1 0 1.392l-6.363 3.692C4.713 12.69 4 12.345 4 11.692V4.308c0-.653.713-.998 1.233-.696l6.363 3.692z\"/>\n",
    "</svg> qui apparaît au survol d'une cellule sur la gauche.\n",
    "\n"
   ]
  },
  {
   "cell_type": "code",
   "execution_count": 1,
   "metadata": {
    "collapsed": true
   },
   "outputs": [],
   "source": [
    "a=10\n",
    "a += 1"
   ]
  },
  {
   "cell_type": "code",
   "execution_count": 2,
   "metadata": {},
   "outputs": [
    {
     "name": "stdout",
     "output_type": "stream",
     "text": [
      "11\n"
     ]
    }
   ],
   "source": [
    "print(a)"
   ]
  },
  {
   "cell_type": "code",
   "execution_count": 3,
   "metadata": {},
   "outputs": [
    {
     "data": {
      "text/plain": [
       "11"
      ]
     },
     "execution_count": 3,
     "metadata": {},
     "output_type": "execute_result"
    }
   ],
   "source": [
    "a"
   ]
  },
  {
   "cell_type": "markdown",
   "metadata": {},
   "source": [
    "Il y a deux autre raccourcis pour exécuter du code:\n",
    "\n",
    "* `Alt-Enter` exécute la cellule courante et insère une nouvelle cellule en-dessous.\n",
    "* `Ctrl-Enter` exécute la cellule courante et passe en mode commande."
   ]
  },
  {
   "cell_type": "markdown",
   "metadata": {},
   "source": [
    "# Le kernel est l'entité sur laquelle le code s'exécute"
   ]
  },
  {
   "cell_type": "markdown",
   "metadata": {},
   "source": [
    "Vous pouvez l'arrêter et le redémarrer.\n",
    "\n",
    "C'est particulièrement pratique si:\n",
    "* vous avez lancé un calcul long que vous voulez annuler\n",
    "* vous souhaitez vider la mémoire pour éliminer les variables que vous avez pu instancier, et repartir d'un état \"propre\""
   ]
  },
  {
   "cell_type": "markdown",
   "metadata": {},
   "source": [
    "Essayez de couper l'exécution du kernel en appuyant sur le bouton <button class=\"btn btn-primary rounded\" style=\"border-color: #dd4b39;\"> </button> <font size=\"2\">Interrupt</font> dans la barre des tâches juste après avoir lancé l'exécution de cette cellule:\n"
   ]
  },
  {
   "cell_type": "code",
   "execution_count": 4,
   "metadata": {},
   "outputs": [],
   "source": [
    "import time\n",
    "time.sleep(10)"
   ]
  },
  {
   "cell_type": "code",
   "execution_count": 6,
   "metadata": {},
   "outputs": [
    {
     "name": "stdout",
     "output_type": "stream",
     "text": [
      "11\n"
     ]
    }
   ],
   "source": [
    "print(a)"
   ]
  },
  {
   "cell_type": "markdown",
   "metadata": {},
   "source": [
    "Essayez de redémarrer le kernel en appuyant sur le bouton <svg xmlns=\"http://www.w3.org/2000/svg\" width=\"16\" height=\"16\" fill=\"currentColor\" class=\"bi bi-arrow-counterclockwise\" viewBox=\"0 0 16 16\">\n",
    "  <path fill-rule=\"evenodd\" d=\"M8 3a5 5 0 1 1-4.546 2.914.5.5 0 0 0-.908-.417A6 6 0 1 0 8 2v1z\"/>\n",
    "  <path d=\"M8 4.466V.534a.25.25 0 0 0-.41-.192L5.23 2.308a.25.25 0 0 0 0 .384l2.36 1.966A.25.25 0 0 0 8 4.466z\"/>\n",
    "</svg> <font size=\"2\">Restart</font>\n",
    " et de sortir à nouveau la valeur de la variable a:\n",
    "\n"
   ]
  },
  {
   "cell_type": "code",
   "execution_count": 5,
   "metadata": {},
   "outputs": [
    {
     "name": "stdout",
     "output_type": "stream",
     "text": [
      "11\n"
     ]
    }
   ],
   "source": [
    "print(a)"
   ]
  },
  {
   "cell_type": "markdown",
   "metadata": {},
   "source": [
    "Vous pouvez lancer toutes les cellules d'un notebook en cliquant sur le bouton <font size=\"2\">Run All</font>, très pratique pour lancer tout un notebook et vérifier que les étapes s'enchaînent bien"
   ]
  },
  {
   "cell_type": "markdown",
   "metadata": {},
   "source": [
    "# Le menu \"cell\""
   ]
  },
  {
   "cell_type": "markdown",
   "metadata": {},
   "source": [
    "Le menu \"Cell\" a plusieurs options pour exécuter du code. Elles incluent:\n",
    "*  <font size=\"2\">Execute Above Cells  </font> -> très pratique pour lancer les étapes précédentes et continuer à travailler sur une partie intéermédiaire d'un notebook\n",
    "* <font size=\"2\"> Execute Cell and Below</font> -> très pratique pour lancer toutes les étapes suivantes"
   ]
  },
  {
   "cell_type": "markdown",
   "metadata": {},
   "source": [
    "# Types de cellules"
   ]
  },
  {
   "cell_type": "markdown",
   "metadata": {},
   "source": [
    "Le menu déroulant de chaque cellule vous permet de changer son type. Parmi les types, certains sont particulièrement intéressants:\n",
    "* Code: *pour les cellules de code*\n",
    "* Markdown: *pour les cellules de commentaires, écrites en [Markdown](https://jupyter.brynmawr.edu/services/public/dblank/Jupyter%20Notebook%20Users%20Manual.ipynb#4.-Using-Markdown-Cells-for-Writing)*\n",
    "\n"
   ]
  },
  {
   "cell_type": "markdown",
   "metadata": {},
   "source": [
    "# Outputs\n",
    "Python prévoit deux sorties pour les choses que l'on imprime: \n",
    "* stdout: la sortie standard pour imprimer des choses normales\n",
    "* std err: la sortie standard pour imprimer les erreurs et avertissements"
   ]
  },
  {
   "cell_type": "code",
   "execution_count": 7,
   "metadata": {},
   "outputs": [
    {
     "name": "stdout",
     "output_type": "stream",
     "text": [
      "hi, stdout\n"
     ]
    }
   ],
   "source": [
    "print(\"hi, stdout\")"
   ]
  },
  {
   "cell_type": "code",
   "execution_count": 8,
   "metadata": {},
   "outputs": [
    {
     "name": "stderr",
     "output_type": "stream",
     "text": [
      "hi, stderr\n"
     ]
    }
   ],
   "source": [
    "import sys\n",
    "print('hi, stderr', file=sys.stderr)"
   ]
  },
  {
   "cell_type": "code",
   "execution_count": 9,
   "metadata": {},
   "outputs": [
    {
     "name": "stderr",
     "output_type": "stream",
     "text": [
      "C:\\Users\\rgoix\\AppData\\Local\\Continuum\\anaconda3\\envs\\quetzal_env\\lib\\site-packages\\ipykernel_launcher.py:3: UserWarning: hello\n",
      "  This is separate from the ipykernel package so we can avoid doing imports until\n"
     ]
    }
   ],
   "source": [
    "#stderr est utilisée aussi pour les alertes (warnings)\n",
    "import warnings\n",
    "warnings.warn('hello')"
   ]
  },
  {
   "cell_type": "markdown",
   "metadata": {},
   "source": [
    "# L'output est asynchrone\n",
    "Ca veut dire que l'on va imprimer dans le notebook les sorties dès qu'elles sont disponibles"
   ]
  },
  {
   "cell_type": "code",
   "execution_count": 10,
   "metadata": {},
   "outputs": [
    {
     "name": "stdout",
     "output_type": "stream",
     "text": [
      "0\n",
      "1\n",
      "2\n",
      "3\n",
      "4\n"
     ]
    }
   ],
   "source": [
    "import time\n",
    "for i in range(5):\n",
    "    time.sleep(1)\n",
    "    print(i)"
   ]
  },
  {
   "cell_type": "markdown",
   "metadata": {},
   "source": [
    "# L'output est automatiquement réduite (collapsed)\n",
    "Lorsque la sortie prend trop de place, elle est réduite et peut être ouverte dans un autre onglet de VSCode."
   ]
  },
  {
   "cell_type": "code",
   "execution_count": 12,
   "metadata": {
    "scrolled": false
   },
   "outputs": [
    {
     "name": "stdout",
     "output_type": "stream",
     "text": [
      "0\n",
      "1\n",
      "2\n",
      "3\n",
      "4\n",
      "5\n",
      "6\n",
      "7\n",
      "8\n",
      "9\n",
      "10\n",
      "11\n",
      "12\n",
      "13\n",
      "14\n",
      "15\n",
      "16\n",
      "17\n",
      "18\n",
      "19\n",
      "20\n",
      "21\n",
      "22\n",
      "23\n",
      "24\n",
      "25\n",
      "26\n",
      "27\n",
      "28\n",
      "29\n",
      "30\n",
      "31\n",
      "32\n",
      "33\n",
      "34\n",
      "35\n",
      "36\n",
      "37\n",
      "38\n",
      "39\n",
      "40\n",
      "41\n",
      "42\n",
      "43\n",
      "44\n",
      "45\n",
      "46\n",
      "47\n",
      "48\n",
      "49\n"
     ]
    }
   ],
   "source": [
    "for i in range(50):\n",
    "    print(i)"
   ]
  },
  {
   "cell_type": "code",
   "execution_count": 13,
   "metadata": {},
   "outputs": [],
   "source": [
    "a = 1"
   ]
  },
  {
   "cell_type": "markdown",
   "metadata": {},
   "source": [
    "# Au secours: j'ai supprimé une cellule utile!\n",
    "supprimez cette cellule à l'aide du bouton <svg xmlns=\"http://www.w3.org/2000/svg\" width=\"16\" height=\"16\" fill=\"currentColor\" class=\"bi bi-trash\" viewBox=\"0 0 16 16\">\n",
    "  <path d=\"M5.5 5.5A.5.5 0 0 1 6 6v6a.5.5 0 0 1-1 0V6a.5.5 0 0 1 .5-.5zm2.5 0a.5.5 0 0 1 .5.5v6a.5.5 0 0 1-1 0V6a.5.5 0 0 1 .5-.5zm3 .5a.5.5 0 0 0-1 0v6a.5.5 0 0 0 1 0V6z\"/>\n",
    "  <path fill-rule=\"evenodd\" d=\"M14.5 3a1 1 0 0 1-1 1H13v9a2 2 0 0 1-2 2H5a2 2 0 0 1-2-2V4h-.5a1 1 0 0 1-1-1V2a1 1 0 0 1 1-1H6a1 1 0 0 1 1-1h2a1 1 0 0 1 1 1h3.5a1 1 0 0 1 1 1v1zM4.118 4 4 4.059V13a1 1 0 0 0 1 1h6a1 1 0 0 0 1-1V4.059L11.882 4H4.118zM2.5 3V2h11v1h-11z\"/>\n",
    "</svg>, puis allez dans *Edit > Undo* pour la faire revenir"
   ]
  },
  {
   "cell_type": "markdown",
   "metadata": {},
   "source": [
    "# Raccourcis\n",
    "VSCode est rempli de raccourcis clavier. Les principaux:\n",
    "\n",
    "* ctrl+s : Save\n",
    "* esc : Change the cell mode  \n",
    "* En mode commande :\n",
    "    * a : Add a cell above\n",
    "    * b : Add a cell below\n",
    "    * dd ou x: Delete selected cell\n",
    "    * ctrl+z : Undo the last change\n",
    "    * m : switch the cell type to Markdown\n",
    "    * y : switch the cell type to code\n",
    "    * L : Enable/Disable line numbers  \n",
    "* En mode édition:\n",
    "    * tab: autocomplétion"
   ]
  },
  {
   "cell_type": "code",
   "execution_count": 12,
   "metadata": {
    "collapsed": true
   },
   "outputs": [],
   "source": [
    "# Testez un peu les raccourcis clavier ici"
   ]
  },
  {
   "cell_type": "code",
   "execution_count": 10,
   "metadata": {
    "collapsed": true
   },
   "outputs": [],
   "source": [
    "# Testez un peu les raccourcis clavier ici"
   ]
  },
  {
   "cell_type": "markdown",
   "metadata": {},
   "source": [
    "# Bonus: plus de documentation"
   ]
  },
  {
   "cell_type": "markdown",
   "metadata": {},
   "source": [
    "- les raccourcis :  https://bbyond.medium.com/vscode-jupyter-notebook-keyboard-shortcuts-31fab95fa301\n",
    "- la documentation : https://code.visualstudio.com/docs/datascience/jupyter-notebooks"
   ]
  },
  {
   "cell_type": "markdown",
   "metadata": {},
   "source": []
  }
 ],
 "metadata": {
  "hide_input": false,
  "kernelspec": {
   "display_name": "Python 3",
   "language": "python",
   "name": "python3"
  },
  "language_info": {
   "codemirror_mode": {
    "name": "ipython",
    "version": 3
   },
   "file_extension": ".py",
   "mimetype": "text/x-python",
   "name": "python",
   "nbconvert_exporter": "python",
   "pygments_lexer": "ipython3",
   "version": "3.7.9"
  }
 },
 "nbformat": 4,
 "nbformat_minor": 2
}
