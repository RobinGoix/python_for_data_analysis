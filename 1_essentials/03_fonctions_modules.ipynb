{
 "cells": [
  {
   "cell_type": "markdown",
   "metadata": {},
   "source": [
    "# Fonctions\n",
    "Les fonctions peuvent représenter des fonctions mathématiques. Mais plus important, elles peuvent encapsuler des morceaux de code que l'on veut réutiliser et appeler facilement."
   ]
  },
  {
   "cell_type": "markdown",
   "metadata": {},
   "source": [
    "Voici la syntaxe typique d'une fonction:\n",
    "\n",
    "\n",
    "```python\n",
    "def funcname(arg1, arg2,... argN):\n",
    "    ''' Document String'''\n",
    "    statements\n",
    "    return <value>```"
   ]
  },
  {
   "cell_type": "markdown",
   "metadata": {},
   "source": [
    "Voici comment lire les lignes ci-dessus:\n",
    "- une fonction \"funcname\" est définie\n",
    "- elle accepte des arguments arg1, arg2, ... argN\n",
    "- elle est documentée par ''' Document String '''\n",
    "- elle exécute des commandes (statements)\n",
    "- et elle envoie une valeur. Ceci est optionnel: si on ne le précise pas elle renvoie **None**"
   ]
  },
  {
   "cell_type": "code",
   "execution_count": 1,
   "metadata": {},
   "outputs": [
    {
     "data": {
      "text/plain": [
       "1"
      ]
     },
     "execution_count": 1,
     "metadata": {},
     "output_type": "execute_result"
    }
   ],
   "source": [
    "def test_1(x):\n",
    "    '''returns the argument'''\n",
    "    return x\n",
    "test_1(1)"
   ]
  },
  {
   "cell_type": "code",
   "execution_count": 2,
   "metadata": {},
   "outputs": [
    {
     "data": {
      "text/plain": [
       "2"
      ]
     },
     "execution_count": 2,
     "metadata": {},
     "output_type": "execute_result"
    }
   ],
   "source": [
    "def test_2(x):\n",
    "    '''doubles the argument'''\n",
    "    x = x * 2\n",
    "    return x\n",
    "test_2(1)"
   ]
  },
  {
   "cell_type": "code",
   "execution_count": 3,
   "metadata": {},
   "outputs": [
    {
     "data": {
      "text/plain": [
       "[1, 2, 1, 2]"
      ]
     },
     "execution_count": 3,
     "metadata": {},
     "output_type": "execute_result"
    }
   ],
   "source": [
    "a = [1, 2]\n",
    "test_2(a)"
   ]
  },
  {
   "cell_type": "markdown",
   "metadata": {},
   "source": [
    "Pourquoi une docstring ?"
   ]
  },
  {
   "cell_type": "code",
   "execution_count": 4,
   "metadata": {},
   "outputs": [
    {
     "name": "stdout",
     "output_type": "stream",
     "text": [
      "Help on function test_2 in module __main__:\n",
      "\n",
      "test_2(x)\n",
      "    doubles the argument\n",
      "\n"
     ]
    }
   ],
   "source": [
    "help(test_2)"
   ]
  },
  {
   "cell_type": "code",
   "execution_count": 5,
   "metadata": {},
   "outputs": [
    {
     "name": "stdout",
     "output_type": "stream",
     "text": [
      "\u001b[1;31mSignature:\u001b[0m \u001b[0mtest_2\u001b[0m\u001b[1;33m(\u001b[0m\u001b[0mx\u001b[0m\u001b[1;33m)\u001b[0m\u001b[1;33m\u001b[0m\u001b[1;33m\u001b[0m\u001b[0m\n",
      "\u001b[1;31mDocstring:\u001b[0m doubles the argument\n",
      "\u001b[1;31mFile:\u001b[0m      c:\\users\\rgoix\\appdata\\local\\temp\\ipykernel_8440\\723485260.py\n",
      "\u001b[1;31mType:\u001b[0m      function\n"
     ]
    }
   ],
   "source": [
    "test_2?"
   ]
  },
  {
   "cell_type": "markdown",
   "metadata": {},
   "source": [
    "#### Exercice\n",
    "Ecrivez une fonction nommée `calculate_area_of_sphere_fom_radius`, qui prend en argument un nombre et qui retourne la surface d'une sphère de rayon la valeur du nombre donné.\n",
    "\n",
    "aides: \n",
    "* la surface vaut: 4 x pi x r²\n",
    "* pi se trouve dans le package math de Python"
   ]
  },
  {
   "cell_type": "code",
   "execution_count": 6,
   "metadata": {},
   "outputs": [
    {
     "data": {
      "text/plain": [
       "3.141592653589793"
      ]
     },
     "execution_count": 6,
     "metadata": {},
     "output_type": "execute_result"
    }
   ],
   "source": [
    "import math\n",
    "math.pi"
   ]
  },
  {
   "cell_type": "code",
   "execution_count": null,
   "metadata": {},
   "outputs": [],
   "source": []
  },
  {
   "cell_type": "markdown",
   "metadata": {},
   "source": [
    "#### Exercice\n",
    "Ecrivez une fonction nommée `is_father_of_luke`,  qui renvoie vrai si l'argument entré vaut `\"Dark Vador\"`"
   ]
  },
  {
   "cell_type": "code",
   "execution_count": null,
   "metadata": {
    "collapsed": true
   },
   "outputs": [],
   "source": []
  },
  {
   "cell_type": "markdown",
   "metadata": {},
   "source": [
    "## Plusieurs retours"
   ]
  },
  {
   "cell_type": "code",
   "execution_count": 7,
   "metadata": {},
   "outputs": [
    {
     "data": {
      "text/plain": [
       "(4, 8)"
      ]
     },
     "execution_count": 7,
     "metadata": {},
     "output_type": "execute_result"
    }
   ],
   "source": [
    "def func(x):\n",
    "    return x, x*2\n",
    "func(4)"
   ]
  },
  {
   "cell_type": "markdown",
   "metadata": {},
   "source": [
    "## Des arguments par défaut"
   ]
  },
  {
   "cell_type": "code",
   "execution_count": 8,
   "metadata": {},
   "outputs": [
    {
     "name": "stdout",
     "output_type": "stream",
     "text": [
      "1 * 1 * 0 = 0\n",
      "1 * 3 * 1 = 3\n",
      "1 * 1 * 1 = 1\n"
     ]
    },
    {
     "data": {
      "text/plain": [
       "1"
      ]
     },
     "execution_count": 8,
     "metadata": {},
     "output_type": "execute_result"
    }
   ],
   "source": [
    "def func(x, y=1, z=0):\n",
    "    print(\"{} * {} * {} = {}\".format(x, y, z, x * y * z))\n",
    "    return x * y * z\n",
    "func(1) # y et z prennent leurs valeurs par défaut\n",
    "func(1,3,1) # on donne les valeurs de y et z en utilisant la position\n",
    "func(1,z=1) # on précise spécifiquement z"
   ]
  },
  {
   "cell_type": "markdown",
   "metadata": {},
   "source": [
    "## Variables locales (namespace)"
   ]
  },
  {
   "cell_type": "markdown",
   "metadata": {},
   "source": [
    "Les variables déclarées dans les fonctions restent dans les fonctions:"
   ]
  },
  {
   "cell_type": "code",
   "execution_count": 9,
   "metadata": {},
   "outputs": [
    {
     "name": "stdout",
     "output_type": "stream",
     "text": [
      "dans f2: x = 2\n",
      "dans f1: x = 1\n"
     ]
    }
   ],
   "source": [
    "def f1():\n",
    "    x = 1\n",
    "    def f2():\n",
    "        x = 2\n",
    "        print(\"dans f2: x = {}\".format(x))\n",
    "    f2()\n",
    "    print(\"dans f1: x = {}\".format(x))\n",
    "f1()"
   ]
  },
  {
   "cell_type": "markdown",
   "metadata": {},
   "source": [
    "A moins qu'elles ne soient pas réassignées:"
   ]
  },
  {
   "cell_type": "code",
   "execution_count": 10,
   "metadata": {},
   "outputs": [
    {
     "name": "stdout",
     "output_type": "stream",
     "text": [
      "dans f2: x = 1\n",
      "dans f1: x = 1\n"
     ]
    }
   ],
   "source": [
    "def f1():\n",
    "    x = 1\n",
    "    def f2():\n",
    "        print(\"dans f2: x = {}\".format(x))\n",
    "    f2()\n",
    "    print(\"dans f1: x = {}\".format(x))\n",
    "f1()"
   ]
  },
  {
   "cell_type": "markdown",
   "metadata": {},
   "source": [
    "Du coup, on peut même renvoyer des fonctions avec leurs variables locales:"
   ]
  },
  {
   "cell_type": "code",
   "execution_count": 11,
   "metadata": {},
   "outputs": [
    {
     "name": "stdout",
     "output_type": "stream",
     "text": [
      "mon message\n"
     ]
    }
   ],
   "source": [
    "def f1(text):\n",
    "    def f2():\n",
    "        print(text)\n",
    "    return f2\n",
    "fonction_a = f1('mon message')  # la fonction f2 va être définie et prendre la valeur de texte à cette ligne\n",
    "fonction_a()"
   ]
  },
  {
   "cell_type": "markdown",
   "metadata": {},
   "source": [
    "## Fonction lambda\n",
    "On peut définir des fonctions temporaires plus rapidement avec la variable réservée ```lambda```. A utiliser lorsque l'on a besoin d'une fonction simple"
   ]
  },
  {
   "cell_type": "code",
   "execution_count": 12,
   "metadata": {},
   "outputs": [
    {
     "data": {
      "text/plain": [
       "4"
      ]
     },
     "execution_count": 12,
     "metadata": {},
     "output_type": "execute_result"
    }
   ],
   "source": [
    "a = lambda x: x * 2\n",
    "a(2)"
   ]
  },
  {
   "cell_type": "markdown",
   "metadata": {},
   "source": [
    "# Usage général des fonctions\n",
    "Le but d'une fonction est d'être réutilisée.\n",
    "Elle doit donc être indépendante de son contexte d'utilisation, par exemple la fonction suivante n'est pas bien écrite car elle dépend d'une variable externe."
   ]
  },
  {
   "cell_type": "code",
   "execution_count": 13,
   "metadata": {},
   "outputs": [
    {
     "name": "stdout",
     "output_type": "stream",
     "text": [
      "2\n",
      "3\n"
     ]
    }
   ],
   "source": [
    "x = 1\n",
    "def ajoute_1(y):\n",
    "    return y + x\n",
    "print(ajoute_1(1))\n",
    "x = 2\n",
    "print(ajoute_1(1))"
   ]
  },
  {
   "cell_type": "markdown",
   "metadata": {},
   "source": [
    "Si ma fonction dépend d'éléments externes, cela veut dire que:\n",
    "* je ne peux pas la copier-coller et l'utiliser ailleurs\n",
    "* je ne peux pas l'importer ailleurs\n",
    "* pour l'utiliser, il faute que je fasse bien attention à ce que le contexte soit similaire (quelles cellules de notebook j'avais fait tourner, etc\n",
    "* je peux très difficilement la débugger, car je n'ai pas défini toutes ses entrées"
   ]
  },
  {
   "cell_type": "markdown",
   "metadata": {},
   "source": [
    "#### Exercice\n",
    "Réécrivez la fonction ajoute_1 correctement "
   ]
  },
  {
   "cell_type": "code",
   "execution_count": null,
   "metadata": {},
   "outputs": [],
   "source": []
  },
  {
   "cell_type": "markdown",
   "metadata": {},
   "source": [
    "# Modules et paquets"
   ]
  },
  {
   "cell_type": "markdown",
   "metadata": {
    "collapsed": true
   },
   "source": [
    "On appelle __module__ tout fichier constitué de code Python (c’est-à-dire tout fichier avec l’extension .py) importé dans un autre fichier, un script, un notebook .ipynb.\n",
    "\n",
    "Les modules permettent la séparation et donc une meilleure organisation du code. En effet, il est courant dans un projet de découper son code en différents fichiers qui vont contenir des parties cohérentes du programme final pour faciliter la compréhension générale du code, la maintenance et le travail d’équipe si on travaille à plusieurs sur le projet.\n",
    "\n",
    "En Python, on peut distinguer trois grandes catégories de module en les classant selon leur éditeur :\n",
    "\n",
    "* Les modules standards qui ne font pas partie du langage en soi mais sont intégrés automatiquement par Python ;\n",
    "* Les modules développés par des développeurs externes qu’on va pouvoir utiliser ;\n",
    "* Les modules qu’on va développer nous mêmes.\n",
    "\n",
    "Un __paquet__ est tout simplement un ensemble de plusieurs modules regroupés entre eux. On va pouvoir importer des paquets de la même façon que des modules et accéder à un module ou à un élément en particulier en utilisant la syntaxe nom-paquet.nom-module.nom-element\n",
    "\n",
    "(https://www.pierre-giraud.com/python-apprendre-programmer-cours/module-paquet/)\n",
    "\n",
    "La plupart des packages non standards peuvent être installé via le gestionnaire de package __pip__"
   ]
  },
  {
   "cell_type": "code",
   "execution_count": 1,
   "metadata": {},
   "outputs": [],
   "source": [
    "import math"
   ]
  },
  {
   "cell_type": "code",
   "execution_count": 2,
   "metadata": {},
   "outputs": [
    {
     "data": {
      "text/plain": [
       "3.141592653589793"
      ]
     },
     "execution_count": 2,
     "metadata": {},
     "output_type": "execute_result"
    }
   ],
   "source": [
    "math.pi"
   ]
  },
  {
   "cell_type": "code",
   "execution_count": 3,
   "metadata": {},
   "outputs": [
    {
     "data": {
      "text/plain": [
       "-1.0"
      ]
     },
     "execution_count": 3,
     "metadata": {},
     "output_type": "execute_result"
    }
   ],
   "source": [
    "math.cos(math.pi)"
   ]
  },
  {
   "cell_type": "code",
   "execution_count": 4,
   "metadata": {},
   "outputs": [
    {
     "data": {
      "text/plain": [
       "array([0, 2, 4, 6, 8])"
      ]
     },
     "execution_count": 4,
     "metadata": {},
     "output_type": "execute_result"
    }
   ],
   "source": [
    "import numpy as np \n",
    "np.arange(0, 10, 2)"
   ]
  },
  {
   "cell_type": "code",
   "execution_count": 5,
   "metadata": {},
   "outputs": [
    {
     "data": {
      "text/plain": [
       "'c:\\\\Users\\\\rgoix\\\\Documents\\\\dev\\\\python_for_data_analysis\\\\1_essentials'"
      ]
     },
     "execution_count": 5,
     "metadata": {},
     "output_type": "execute_result"
    }
   ],
   "source": [
    "import os\n",
    "cwd = os.getcwd()\n",
    "cwd"
   ]
  },
  {
   "cell_type": "code",
   "execution_count": 6,
   "metadata": {},
   "outputs": [
    {
     "data": {
      "text/plain": [
       "'.'"
      ]
     },
     "execution_count": 6,
     "metadata": {},
     "output_type": "execute_result"
    }
   ],
   "source": [
    "from os.path import relpath\n",
    "relpath(cwd)"
   ]
  }
 ],
 "metadata": {
  "hide_input": false,
  "interpreter": {
   "hash": "cd08e8f141c3c7c16b21c92fe06b33acb085612bdb610462ffd7016d01b3a515"
  },
  "kernelspec": {
   "display_name": "Python [conda env:quetzal_env]",
   "language": "python",
   "name": "python3"
  },
  "language_info": {
   "codemirror_mode": {
    "name": "ipython",
    "version": 3
   },
   "file_extension": ".py",
   "mimetype": "text/x-python",
   "name": "python",
   "nbconvert_exporter": "python",
   "pygments_lexer": "ipython3",
   "version": "3.8.3"
  }
 },
 "nbformat": 4,
 "nbformat_minor": 2
}
