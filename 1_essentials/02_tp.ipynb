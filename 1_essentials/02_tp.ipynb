{
 "cells": [
  {
   "cell_type": "markdown",
   "metadata": {},
   "source": [
    "Il nous arrive souvent de jouer avec des chiffres pour les convertir, ou les placer dans un groupe.\n",
    "Ici, nous partons de la population d'Ajaccio en 2017 et nous cherchons son arrondi au millier inférieur"
   ]
  },
  {
   "cell_type": "code",
   "execution_count": 2,
   "metadata": {},
   "outputs": [
    {
     "name": "stdout",
     "output_type": "stream",
     "text": [
      "0\n"
     ]
    }
   ],
   "source": [
    "population_ajaccio = '68587'\n",
    "population_ajaccio = 0  # convertissez en entier\n",
    "population_ajaccio = 0  # arrondisser au millier inférieur\n",
    "print(population_ajaccio)"
   ]
  },
  {
   "cell_type": "code",
   "execution_count": 3,
   "metadata": {},
   "outputs": [
    {
     "name": "stdout",
     "output_type": "stream",
     "text": [
      "0\n"
     ]
    }
   ],
   "source": [
    "nb_voyageurs_moyen = '112.688945'\n",
    "nb_voyageurs_moyen = 0  # convertissez en nombre\n",
    "nb_voyageurs_moyen = 0  # arrondisez à 1 chiffre après la virgule\n",
    "print(nb_voyageurs_moyen)"
   ]
  }
 ],
 "metadata": {
  "hide_input": false,
  "kernelspec": {
   "display_name": "Python 3",
   "language": "python",
   "name": "python3"
  },
  "language_info": {
   "codemirror_mode": {
    "name": "ipython",
    "version": 3
   },
   "file_extension": ".py",
   "mimetype": "text/x-python",
   "name": "python",
   "nbconvert_exporter": "python",
   "pygments_lexer": "ipython3",
   "version": "3.7.9"
  }
 },
 "nbformat": 4,
 "nbformat_minor": 2
}
