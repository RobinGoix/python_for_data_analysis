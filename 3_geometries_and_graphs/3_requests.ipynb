{
 "cells": [
  {
   "cell_type": "markdown",
   "metadata": {},
   "source": [
    "## 3. Requests\n",
    "\n",
    "Le module `requests` permet d'envoyer des requêtes HTTP en python. Il peut être très utile pour automatiser les recherches d'adresses ou de coordonnées, les calculs d'itinéraires, …\n",
    "\n",
    "Nous allons ici montrer un exemple d'utilisation de ce module avec les API `geocoding` et `geocoding-reverse` de data.gouv.fr, qui permettent respectivement de trouver des coordonnées à partir d'une adresse, et une adresse à partir de coordonnées.\n",
    "\n",
    "https://adresse.data.gouv.fr/api-doc/adresse"
   ]
  },
  {
   "cell_type": "code",
   "execution_count": 2,
   "metadata": {
    "collapsed": true
   },
   "outputs": [],
   "source": [
    "import requests"
   ]
  },
  {
   "cell_type": "markdown",
   "metadata": {},
   "source": [
    "### 3.1 Geocoding API"
   ]
  },
  {
   "cell_type": "markdown",
   "metadata": {},
   "source": [
    "Exemple de requête:"
   ]
  },
  {
   "cell_type": "code",
   "execution_count": 23,
   "metadata": {
    "collapsed": true
   },
   "outputs": [],
   "source": [
    "r = requests.get('https://api-adresse.data.gouv.fr/search/?q=GARE+MONTPARNASSE+PARIS&limit=2')"
   ]
  },
  {
   "cell_type": "code",
   "execution_count": 24,
   "metadata": {},
   "outputs": [
    {
     "data": {
      "text/plain": [
       "(200,\n",
       " {'type': 'FeatureCollection',\n",
       "  'version': 'draft',\n",
       "  'features': [{'type': 'Feature',\n",
       "    'geometry': {'type': 'Point', 'coordinates': [2.325672, 48.842192]},\n",
       "    'properties': {'label': 'Rue du Montparnasse 75014 Paris',\n",
       "     'score': 0.6399393939393939,\n",
       "     'id': '75114_6523',\n",
       "     'name': 'Rue du Montparnasse',\n",
       "     'postcode': '75014',\n",
       "     'citycode': '75114',\n",
       "     'x': 650508.95,\n",
       "     'y': 6860449.53,\n",
       "     'city': 'Paris',\n",
       "     'district': 'Paris 14e Arrondissement',\n",
       "     'context': '75, Paris, Île-de-France',\n",
       "     'type': 'street',\n",
       "     'importance': 0.706}},\n",
       "   {'type': 'Feature',\n",
       "    'geometry': {'type': 'Point', 'coordinates': [2.327393, 48.8443]},\n",
       "    'properties': {'label': 'Rue du Montparnasse 75006 Paris',\n",
       "     'score': 0.6357330303030303,\n",
       "     'id': '75106_6523',\n",
       "     'name': 'Rue du Montparnasse',\n",
       "     'postcode': '75006',\n",
       "     'citycode': '75106',\n",
       "     'x': 650637.25,\n",
       "     'y': 6860682.84,\n",
       "     'city': 'Paris',\n",
       "     'district': 'Paris 6e Arrondissement',\n",
       "     'context': '75, Paris, Île-de-France',\n",
       "     'type': 'street',\n",
       "     'importance': 0.65973}}],\n",
       "  'attribution': 'BAN',\n",
       "  'licence': 'ETALAB-2.0',\n",
       "  'query': 'GARE MONTPARNASSE PARIS',\n",
       "  'limit': 2})"
      ]
     },
     "execution_count": 24,
     "metadata": {},
     "output_type": "execute_result"
    }
   ],
   "source": [
    "r.status_code, r.json()"
   ]
  },
  {
   "cell_type": "markdown",
   "metadata": {},
   "source": [
    "Décomposistion de l'url d'appel\n",
    "\n",
    "https://api-adresse.data.gouv.fr/search/?q=GARE+MONTPARNASSE+PARIS&limit=2"
   ]
  },
  {
   "cell_type": "code",
   "execution_count": 40,
   "metadata": {},
   "outputs": [
    {
     "data": {
      "text/plain": [
       "'https://api-adresse.data.gouv.fr/search/?address=gare+montparnasse+paris'"
      ]
     },
     "execution_count": 40,
     "metadata": {},
     "output_type": "execute_result"
    }
   ],
   "source": [
    "geocoding_api_url = 'https://api-adresse.data.gouv.fr/search/'\n",
    "address_key_words = ['gare', 'montparnasse', 'paris']\n",
    "\n",
    "url = geocoding_api_url + '?address=' + '+'.join(address_key_words)\n",
    "url"
   ]
  },
  {
   "cell_type": "markdown",
   "metadata": {},
   "source": [
    "Décomposition de la réponse:\n",
    "- un statut\n",
    "- un json"
   ]
  },
  {
   "cell_type": "code",
   "execution_count": 41,
   "metadata": {},
   "outputs": [
    {
     "data": {
      "text/plain": [
       "200"
      ]
     },
     "execution_count": 41,
     "metadata": {},
     "output_type": "execute_result"
    }
   ],
   "source": [
    "r.status_code"
   ]
  },
  {
   "cell_type": "code",
   "execution_count": 42,
   "metadata": {},
   "outputs": [
    {
     "data": {
      "text/plain": [
       "{'type': 'FeatureCollection',\n",
       " 'version': 'draft',\n",
       " 'features': [{'type': 'Feature',\n",
       "   'geometry': {'type': 'Point', 'coordinates': [2.325672, 48.842192]},\n",
       "   'properties': {'label': 'Rue du Montparnasse 75014 Paris',\n",
       "    'score': 1.0,\n",
       "    'id': '75114_6523',\n",
       "    'name': 'Rue du Montparnasse',\n",
       "    'postcode': '75014',\n",
       "    'citycode': '75114',\n",
       "    'x': 650508.95,\n",
       "    'y': 6860449.53,\n",
       "    'city': 'Paris',\n",
       "    'district': 'Paris 14e Arrondissement',\n",
       "    'context': '75, Paris, Île-de-France',\n",
       "    'type': 'street',\n",
       "    'importance': 0.706,\n",
       "    'distance': 0}}],\n",
       " 'attribution': 'BAN',\n",
       " 'licence': 'ETALAB-2.0',\n",
       " 'limit': 1}"
      ]
     },
     "execution_count": 42,
     "metadata": {},
     "output_type": "execute_result"
    }
   ],
   "source": [
    "r.json()"
   ]
  },
  {
   "cell_type": "code",
   "execution_count": 43,
   "metadata": {},
   "outputs": [
    {
     "data": {
      "text/plain": [
       "dict_keys(['type', 'version', 'features', 'attribution', 'licence', 'limit'])"
      ]
     },
     "execution_count": 43,
     "metadata": {},
     "output_type": "execute_result"
    }
   ],
   "source": [
    "r.json().keys()"
   ]
  },
  {
   "cell_type": "code",
   "execution_count": 44,
   "metadata": {},
   "outputs": [
    {
     "data": {
      "text/plain": [
       "[{'type': 'Feature',\n",
       "  'geometry': {'type': 'Point', 'coordinates': [2.325672, 48.842192]},\n",
       "  'properties': {'label': 'Rue du Montparnasse 75014 Paris',\n",
       "   'score': 1.0,\n",
       "   'id': '75114_6523',\n",
       "   'name': 'Rue du Montparnasse',\n",
       "   'postcode': '75014',\n",
       "   'citycode': '75114',\n",
       "   'x': 650508.95,\n",
       "   'y': 6860449.53,\n",
       "   'city': 'Paris',\n",
       "   'district': 'Paris 14e Arrondissement',\n",
       "   'context': '75, Paris, Île-de-France',\n",
       "   'type': 'street',\n",
       "   'importance': 0.706,\n",
       "   'distance': 0}}]"
      ]
     },
     "execution_count": 44,
     "metadata": {},
     "output_type": "execute_result"
    }
   ],
   "source": [
    "r.json()['features']"
   ]
  },
  {
   "cell_type": "code",
   "execution_count": 45,
   "metadata": {},
   "outputs": [
    {
     "data": {
      "text/plain": [
       "list"
      ]
     },
     "execution_count": 45,
     "metadata": {},
     "output_type": "execute_result"
    }
   ],
   "source": [
    "type(r.json()['features'])"
   ]
  },
  {
   "cell_type": "code",
   "execution_count": 46,
   "metadata": {},
   "outputs": [
    {
     "data": {
      "text/plain": [
       "{'type': 'Feature',\n",
       " 'geometry': {'type': 'Point', 'coordinates': [2.325672, 48.842192]},\n",
       " 'properties': {'label': 'Rue du Montparnasse 75014 Paris',\n",
       "  'score': 1.0,\n",
       "  'id': '75114_6523',\n",
       "  'name': 'Rue du Montparnasse',\n",
       "  'postcode': '75014',\n",
       "  'citycode': '75114',\n",
       "  'x': 650508.95,\n",
       "  'y': 6860449.53,\n",
       "  'city': 'Paris',\n",
       "  'district': 'Paris 14e Arrondissement',\n",
       "  'context': '75, Paris, Île-de-France',\n",
       "  'type': 'street',\n",
       "  'importance': 0.706,\n",
       "  'distance': 0}}"
      ]
     },
     "execution_count": 46,
     "metadata": {},
     "output_type": "execute_result"
    }
   ],
   "source": [
    "r.json()['features'][0]"
   ]
  },
  {
   "cell_type": "code",
   "execution_count": 47,
   "metadata": {},
   "outputs": [
    {
     "data": {
      "text/plain": [
       "dict_keys(['type', 'geometry', 'properties'])"
      ]
     },
     "execution_count": 47,
     "metadata": {},
     "output_type": "execute_result"
    }
   ],
   "source": [
    "r.json()['features'][0].keys()"
   ]
  },
  {
   "cell_type": "code",
   "execution_count": 48,
   "metadata": {},
   "outputs": [
    {
     "data": {
      "text/plain": [
       "{'type': 'Point', 'coordinates': [2.325672, 48.842192]}"
      ]
     },
     "execution_count": 48,
     "metadata": {},
     "output_type": "execute_result"
    }
   ],
   "source": [
    "r.json()['features'][0]['geometry']"
   ]
  },
  {
   "cell_type": "code",
   "execution_count": 49,
   "metadata": {},
   "outputs": [
    {
     "data": {
      "text/plain": [
       "[2.325672, 48.842192]"
      ]
     },
     "execution_count": 49,
     "metadata": {},
     "output_type": "execute_result"
    }
   ],
   "source": [
    "r.json()['features'][0]['geometry']['coordinates']"
   ]
  },
  {
   "cell_type": "markdown",
   "metadata": {},
   "source": [
    "### 3.2 Reverse geocoding API"
   ]
  },
  {
   "cell_type": "markdown",
   "metadata": {},
   "source": [
    "Exemple"
   ]
  },
  {
   "cell_type": "code",
   "execution_count": 50,
   "metadata": {
    "collapsed": true
   },
   "outputs": [],
   "source": [
    "r = requests.get('https://api-adresse.data.gouv.fr/reverse/?lon=2.325672&lat=48.842192')"
   ]
  },
  {
   "cell_type": "code",
   "execution_count": 51,
   "metadata": {},
   "outputs": [
    {
     "data": {
      "text/plain": [
       "(200,\n",
       " {'type': 'FeatureCollection',\n",
       "  'version': 'draft',\n",
       "  'features': [{'type': 'Feature',\n",
       "    'geometry': {'type': 'Point', 'coordinates': [2.325672, 48.842192]},\n",
       "    'properties': {'label': 'Rue du Montparnasse 75014 Paris',\n",
       "     'score': 1.0,\n",
       "     'id': '75114_6523',\n",
       "     'name': 'Rue du Montparnasse',\n",
       "     'postcode': '75014',\n",
       "     'citycode': '75114',\n",
       "     'x': 650508.95,\n",
       "     'y': 6860449.53,\n",
       "     'city': 'Paris',\n",
       "     'district': 'Paris 14e Arrondissement',\n",
       "     'context': '75, Paris, Île-de-France',\n",
       "     'type': 'street',\n",
       "     'importance': 0.706,\n",
       "     'distance': 0}}],\n",
       "  'attribution': 'BAN',\n",
       "  'licence': 'ETALAB-2.0',\n",
       "  'limit': 1})"
      ]
     },
     "execution_count": 51,
     "metadata": {},
     "output_type": "execute_result"
    }
   ],
   "source": [
    "(r.status_code, r.json())"
   ]
  },
  {
   "cell_type": "markdown",
   "metadata": {},
   "source": [
    "Décomposition de l'url d'appel\n",
    "https://api-adresse.data.gouv.fr/reverse/?lon=2.325672&lat=48.842192"
   ]
  },
  {
   "cell_type": "code",
   "execution_count": 52,
   "metadata": {},
   "outputs": [
    {
     "data": {
      "text/plain": [
       "'https://api-adresse.data.gouv.fr/reverse/?lon=2.325672&lat=48.842192'"
      ]
     },
     "execution_count": 52,
     "metadata": {},
     "output_type": "execute_result"
    }
   ],
   "source": [
    "reverse_geocoding_api_url = 'https://api-adresse.data.gouv.fr/reverse/'\n",
    "lon_lat = ['2.325672', '48.842192']\n",
    "url = reverse_geocoding_api_url + '?lon={}&lat={}'.format(lon_lat[0], lon_lat[1])\n",
    "url"
   ]
  },
  {
   "cell_type": "markdown",
   "metadata": {},
   "source": [
    "Décomposition de la réponse"
   ]
  },
  {
   "cell_type": "code",
   "execution_count": 53,
   "metadata": {},
   "outputs": [
    {
     "data": {
      "text/plain": [
       "200"
      ]
     },
     "execution_count": 53,
     "metadata": {},
     "output_type": "execute_result"
    }
   ],
   "source": [
    "r.status_code"
   ]
  },
  {
   "cell_type": "code",
   "execution_count": 54,
   "metadata": {},
   "outputs": [
    {
     "data": {
      "text/plain": [
       "{'type': 'FeatureCollection',\n",
       " 'version': 'draft',\n",
       " 'features': [{'type': 'Feature',\n",
       "   'geometry': {'type': 'Point', 'coordinates': [2.325672, 48.842192]},\n",
       "   'properties': {'label': 'Rue du Montparnasse 75014 Paris',\n",
       "    'score': 1.0,\n",
       "    'id': '75114_6523',\n",
       "    'name': 'Rue du Montparnasse',\n",
       "    'postcode': '75014',\n",
       "    'citycode': '75114',\n",
       "    'x': 650508.95,\n",
       "    'y': 6860449.53,\n",
       "    'city': 'Paris',\n",
       "    'district': 'Paris 14e Arrondissement',\n",
       "    'context': '75, Paris, Île-de-France',\n",
       "    'type': 'street',\n",
       "    'importance': 0.706,\n",
       "    'distance': 0}}],\n",
       " 'attribution': 'BAN',\n",
       " 'licence': 'ETALAB-2.0',\n",
       " 'limit': 1}"
      ]
     },
     "execution_count": 54,
     "metadata": {},
     "output_type": "execute_result"
    }
   ],
   "source": [
    "r.json()"
   ]
  },
  {
   "cell_type": "code",
   "execution_count": 55,
   "metadata": {},
   "outputs": [
    {
     "data": {
      "text/plain": [
       "1"
      ]
     },
     "execution_count": 55,
     "metadata": {},
     "output_type": "execute_result"
    }
   ],
   "source": [
    "results = r.json()['features']\n",
    "len(results)"
   ]
  }
 ],
 "metadata": {
  "anaconda-cloud": {},
  "kernelspec": {
   "display_name": "Python [conda env:quetzal_env]",
   "language": "python",
   "name": "conda-env-quetzal_env-py"
  },
  "language_info": {
   "codemirror_mode": {
    "name": "ipython",
    "version": 3
   },
   "file_extension": ".py",
   "mimetype": "text/x-python",
   "name": "python",
   "nbconvert_exporter": "python",
   "pygments_lexer": "ipython3",
   "version": "3.7.9"
  }
 },
 "nbformat": 4,
 "nbformat_minor": 1
}
