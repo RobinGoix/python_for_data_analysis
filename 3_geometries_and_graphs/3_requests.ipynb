{
 "cells": [
  {
   "cell_type": "markdown",
   "metadata": {},
   "source": [
    "## 3. Requests\n",
    "\n",
    "Le module `requests` permet d'envoyer des requêtes HTTP en python. Il peut être très utile pour automatiser les recherches d'adresses ou de coordonnées, les calculs d'itinéraires, …\n",
    "\n",
    "Nous allons ici montrer un exemple d'utilisation de ce module avec les API `geocoding` et `geocoding-reverse` de Google, qui permettent respectivement de trouver des coordonnées à partir d'une adresse, et une adresse à partir de coordonnées.\n",
    "\n",
    "https://developers.google.com/maps/documentation/geocoding/intro?hl=fr\n",
    "\n",
    "https://developers.google.com/maps/documentation/geocoding/intro?hl=fr#ReverseGeocoding"
   ]
  },
  {
   "cell_type": "code",
   "execution_count": 2,
   "metadata": {
    "collapsed": true
   },
   "outputs": [],
   "source": [
    "import requests"
   ]
  },
  {
   "cell_type": "markdown",
   "metadata": {},
   "source": [
    "### 3.1 Geocoding API"
   ]
  },
  {
   "cell_type": "markdown",
   "metadata": {},
   "source": [
    "Exemple de requête:"
   ]
  },
  {
   "cell_type": "code",
   "execution_count": 3,
   "metadata": {
    "collapsed": true
   },
   "outputs": [],
   "source": [
    "r = requests.get('https://maps.googleapis.com/maps/api/geocode/json?address=Systra,+France,+Farman')"
   ]
  },
  {
   "cell_type": "code",
   "execution_count": 4,
   "metadata": {},
   "outputs": [
    {
     "data": {
      "text/plain": [
       "(200,\n",
       " {'error_message': 'You must use an API key to authenticate each request to Google Maps Platform APIs. For additional information, please refer to http://g.co/dev/maps-no-account',\n",
       "  'results': [],\n",
       "  'status': 'REQUEST_DENIED'})"
      ]
     },
     "execution_count": 4,
     "metadata": {},
     "output_type": "execute_result"
    }
   ],
   "source": [
    "r.status_code, r.json()"
   ]
  },
  {
   "cell_type": "markdown",
   "metadata": {},
   "source": [
    "Décomposistion de l'url d'appel\n",
    "\n",
    "https://maps.googleapis.com/maps/api/geocode/json?address=Systra,+France,+Farman"
   ]
  },
  {
   "cell_type": "code",
   "execution_count": 4,
   "metadata": {},
   "outputs": [
    {
     "data": {
      "text/plain": [
       "'https://maps.googleapis.com/maps/api/geocode/json?address=Systra+France'"
      ]
     },
     "execution_count": 4,
     "metadata": {},
     "output_type": "execute_result"
    }
   ],
   "source": [
    "geocoding_api_url = 'https://maps.googleapis.com/maps/api/geocode/'\n",
    "response_format = 'json'\n",
    "address_key_words = ['Systra', 'France']\n",
    "\n",
    "url = geocoding_api_url + response_format + '?address=' + '+'.join(address_key_words)\n",
    "url"
   ]
  },
  {
   "cell_type": "markdown",
   "metadata": {},
   "source": [
    "Décomposition de la réponse:\n",
    "- un statut\n",
    "- un json"
   ]
  },
  {
   "cell_type": "code",
   "execution_count": 5,
   "metadata": {},
   "outputs": [
    {
     "data": {
      "text/plain": [
       "200"
      ]
     },
     "execution_count": 5,
     "metadata": {},
     "output_type": "execute_result"
    }
   ],
   "source": [
    "r.status_code"
   ]
  },
  {
   "cell_type": "code",
   "execution_count": 6,
   "metadata": {},
   "outputs": [
    {
     "data": {
      "text/plain": [
       "{'results': [{'address_components': [{'long_name': '72',\n",
       "     'short_name': '72',\n",
       "     'types': ['street_number']},\n",
       "    {'long_name': 'Rue Henry Farman',\n",
       "     'short_name': 'Rue Henry Farman',\n",
       "     'types': ['route']},\n",
       "    {'long_name': 'Paris',\n",
       "     'short_name': 'Paris',\n",
       "     'types': ['locality', 'political']},\n",
       "    {'long_name': 'Paris',\n",
       "     'short_name': 'Paris',\n",
       "     'types': ['administrative_area_level_2', 'political']},\n",
       "    {'long_name': 'Île-de-France',\n",
       "     'short_name': 'Île-de-France',\n",
       "     'types': ['administrative_area_level_1', 'political']},\n",
       "    {'long_name': 'France',\n",
       "     'short_name': 'FR',\n",
       "     'types': ['country', 'political']},\n",
       "    {'long_name': '75015', 'short_name': '75015', 'types': ['postal_code']}],\n",
       "   'formatted_address': '72 Rue Henry Farman, 75015 Paris, France',\n",
       "   'geometry': {'location': {'lat': 48.8333516, 'lng': 2.269852},\n",
       "    'location_type': 'ROOFTOP',\n",
       "    'viewport': {'northeast': {'lat': 48.8347005802915,\n",
       "      'lng': 2.271200980291502},\n",
       "     'southwest': {'lat': 48.8320026197085, 'lng': 2.268503019708498}}},\n",
       "   'place_id': 'ChIJNfXQrZ565kcR65-ItUppbOw',\n",
       "   'types': ['establishment', 'point_of_interest']}],\n",
       " 'status': 'OK'}"
      ]
     },
     "execution_count": 6,
     "metadata": {},
     "output_type": "execute_result"
    }
   ],
   "source": [
    "r.json()"
   ]
  },
  {
   "cell_type": "code",
   "execution_count": 7,
   "metadata": {},
   "outputs": [
    {
     "data": {
      "text/plain": [
       "dict_keys(['results', 'status'])"
      ]
     },
     "execution_count": 7,
     "metadata": {},
     "output_type": "execute_result"
    }
   ],
   "source": [
    "r.json().keys()"
   ]
  },
  {
   "cell_type": "code",
   "execution_count": 8,
   "metadata": {},
   "outputs": [
    {
     "data": {
      "text/plain": [
       "'OK'"
      ]
     },
     "execution_count": 8,
     "metadata": {},
     "output_type": "execute_result"
    }
   ],
   "source": [
    "r.json()['status']"
   ]
  },
  {
   "cell_type": "code",
   "execution_count": 9,
   "metadata": {},
   "outputs": [
    {
     "data": {
      "text/plain": [
       "list"
      ]
     },
     "execution_count": 9,
     "metadata": {},
     "output_type": "execute_result"
    }
   ],
   "source": [
    "type(r.json()['results'])"
   ]
  },
  {
   "cell_type": "code",
   "execution_count": 10,
   "metadata": {},
   "outputs": [
    {
     "data": {
      "text/plain": [
       "{'address_components': [{'long_name': '72',\n",
       "   'short_name': '72',\n",
       "   'types': ['street_number']},\n",
       "  {'long_name': 'Rue Henry Farman',\n",
       "   'short_name': 'Rue Henry Farman',\n",
       "   'types': ['route']},\n",
       "  {'long_name': 'Paris',\n",
       "   'short_name': 'Paris',\n",
       "   'types': ['locality', 'political']},\n",
       "  {'long_name': 'Paris',\n",
       "   'short_name': 'Paris',\n",
       "   'types': ['administrative_area_level_2', 'political']},\n",
       "  {'long_name': 'Île-de-France',\n",
       "   'short_name': 'Île-de-France',\n",
       "   'types': ['administrative_area_level_1', 'political']},\n",
       "  {'long_name': 'France',\n",
       "   'short_name': 'FR',\n",
       "   'types': ['country', 'political']},\n",
       "  {'long_name': '75015', 'short_name': '75015', 'types': ['postal_code']}],\n",
       " 'formatted_address': '72 Rue Henry Farman, 75015 Paris, France',\n",
       " 'geometry': {'location': {'lat': 48.8333516, 'lng': 2.269852},\n",
       "  'location_type': 'ROOFTOP',\n",
       "  'viewport': {'northeast': {'lat': 48.8347005802915,\n",
       "    'lng': 2.271200980291502},\n",
       "   'southwest': {'lat': 48.8320026197085, 'lng': 2.268503019708498}}},\n",
       " 'place_id': 'ChIJNfXQrZ565kcR65-ItUppbOw',\n",
       " 'types': ['establishment', 'point_of_interest']}"
      ]
     },
     "execution_count": 10,
     "metadata": {},
     "output_type": "execute_result"
    }
   ],
   "source": [
    "r.json()['results'][0]"
   ]
  },
  {
   "cell_type": "code",
   "execution_count": 12,
   "metadata": {},
   "outputs": [
    {
     "data": {
      "text/plain": [
       "dict_keys(['formatted_address', 'place_id', 'geometry', 'types', 'address_components'])"
      ]
     },
     "execution_count": 12,
     "metadata": {},
     "output_type": "execute_result"
    }
   ],
   "source": [
    "r.json()['results'][0].keys()"
   ]
  },
  {
   "cell_type": "code",
   "execution_count": 14,
   "metadata": {},
   "outputs": [
    {
     "data": {
      "text/plain": [
       "{'location': {'lat': 48.8333516, 'lng': 2.269852},\n",
       " 'location_type': 'ROOFTOP',\n",
       " 'viewport': {'northeast': {'lat': 48.8347005802915, 'lng': 2.271200980291502},\n",
       "  'southwest': {'lat': 48.8320026197085, 'lng': 2.268503019708498}}}"
      ]
     },
     "execution_count": 14,
     "metadata": {},
     "output_type": "execute_result"
    }
   ],
   "source": [
    "r.json()['results'][0]['geometry']"
   ]
  },
  {
   "cell_type": "code",
   "execution_count": 15,
   "metadata": {},
   "outputs": [
    {
     "data": {
      "text/plain": [
       "{'lat': 48.8333516, 'lng': 2.269852}"
      ]
     },
     "execution_count": 15,
     "metadata": {},
     "output_type": "execute_result"
    }
   ],
   "source": [
    "r.json()['results'][0]['geometry']['location']"
   ]
  },
  {
   "cell_type": "markdown",
   "metadata": {},
   "source": [
    "### 3.2 Reverse geocoding API"
   ]
  },
  {
   "cell_type": "markdown",
   "metadata": {},
   "source": [
    "Exemple"
   ]
  },
  {
   "cell_type": "code",
   "execution_count": 16,
   "metadata": {
    "collapsed": true
   },
   "outputs": [],
   "source": [
    "r = requests.get('https://maps.googleapis.com/maps/api/geocode/json?latlng=48.8333516,2.269852')"
   ]
  },
  {
   "cell_type": "code",
   "execution_count": 17,
   "metadata": {},
   "outputs": [
    {
     "data": {
      "text/plain": [
       "(200,\n",
       " {'results': [{'address_components': [{'long_name': '72',\n",
       "      'short_name': '72',\n",
       "      'types': ['street_number']},\n",
       "     {'long_name': 'Rue Henry Farman',\n",
       "      'short_name': 'Rue Henry Farman',\n",
       "      'types': ['route']},\n",
       "     {'long_name': 'Paris',\n",
       "      'short_name': 'Paris',\n",
       "      'types': ['locality', 'political']},\n",
       "     {'long_name': 'Paris',\n",
       "      'short_name': 'Paris',\n",
       "      'types': ['administrative_area_level_2', 'political']},\n",
       "     {'long_name': 'Île-de-France',\n",
       "      'short_name': 'Île-de-France',\n",
       "      'types': ['administrative_area_level_1', 'political']},\n",
       "     {'long_name': 'France',\n",
       "      'short_name': 'FR',\n",
       "      'types': ['country', 'political']},\n",
       "     {'long_name': '75015', 'short_name': '75015', 'types': ['postal_code']}],\n",
       "    'formatted_address': '72 Rue Henry Farman, 75015 Paris, France',\n",
       "    'geometry': {'location': {'lat': 48.8333516, 'lng': 2.269852},\n",
       "     'location_type': 'ROOFTOP',\n",
       "     'viewport': {'northeast': {'lat': 48.8347005802915,\n",
       "       'lng': 2.271200980291502},\n",
       "      'southwest': {'lat': 48.8320026197085, 'lng': 2.268503019708498}}},\n",
       "    'place_id': 'ChIJGaius5565kcRWabp1CDDFv4',\n",
       "    'types': ['street_address']},\n",
       "   {'address_components': [{'long_name': 'Rue Henri Farman',\n",
       "      'short_name': 'Rue Henri Farman',\n",
       "      'types': ['bus_station',\n",
       "       'establishment',\n",
       "       'point_of_interest',\n",
       "       'transit_station']},\n",
       "     {'long_name': 'Paris',\n",
       "      'short_name': 'Paris',\n",
       "      'types': ['locality', 'political']},\n",
       "     {'long_name': 'Paris',\n",
       "      'short_name': 'Paris',\n",
       "      'types': ['administrative_area_level_2', 'political']},\n",
       "     {'long_name': 'Île-de-France',\n",
       "      'short_name': 'Île-de-France',\n",
       "      'types': ['administrative_area_level_1', 'political']},\n",
       "     {'long_name': 'France',\n",
       "      'short_name': 'FR',\n",
       "      'types': ['country', 'political']},\n",
       "     {'long_name': '75015', 'short_name': '75015', 'types': ['postal_code']}],\n",
       "    'formatted_address': 'Rue Henri Farman, 75015 Paris, France',\n",
       "    'geometry': {'location': {'lat': 48.833209, 'lng': 2.269938},\n",
       "     'location_type': 'GEOMETRIC_CENTER',\n",
       "     'viewport': {'northeast': {'lat': 48.83455798029149,\n",
       "       'lng': 2.271286980291502},\n",
       "      'southwest': {'lat': 48.83186001970849, 'lng': 2.268589019708498}}},\n",
       "    'place_id': 'ChIJ250Esp565kcRidd7lt5E2ng',\n",
       "    'types': ['bus_station',\n",
       "     'establishment',\n",
       "     'point_of_interest',\n",
       "     'transit_station']},\n",
       "   {'address_components': [{'long_name': 'Javel',\n",
       "      'short_name': 'Javel',\n",
       "      'types': ['neighborhood', 'political']},\n",
       "     {'long_name': '15th arrondissement of Paris',\n",
       "      'short_name': '15th arrondissement of Paris',\n",
       "      'types': ['political', 'sublocality', 'sublocality_level_1']},\n",
       "     {'long_name': 'Paris',\n",
       "      'short_name': 'Paris',\n",
       "      'types': ['locality', 'political']},\n",
       "     {'long_name': 'Paris',\n",
       "      'short_name': 'Paris',\n",
       "      'types': ['administrative_area_level_2', 'political']},\n",
       "     {'long_name': 'Île-de-France',\n",
       "      'short_name': 'Île-de-France',\n",
       "      'types': ['administrative_area_level_1', 'political']},\n",
       "     {'long_name': 'France',\n",
       "      'short_name': 'FR',\n",
       "      'types': ['country', 'political']}],\n",
       "    'formatted_address': 'Javel, Paris, France',\n",
       "    'geometry': {'bounds': {'northeast': {'lat': 48.849334, 'lng': 2.2957529},\n",
       "      'southwest': {'lat': 48.827811, 'lng': 2.266806}},\n",
       "     'location': {'lat': 48.8399261, 'lng': 2.2785604},\n",
       "     'location_type': 'APPROXIMATE',\n",
       "     'viewport': {'northeast': {'lat': 48.849334, 'lng': 2.2957529},\n",
       "      'southwest': {'lat': 48.827811, 'lng': 2.266806}}},\n",
       "    'place_id': 'ChIJy3NOOAtw5kcRuL95YJcuGiQ',\n",
       "    'types': ['neighborhood', 'political']},\n",
       "   {'address_components': [{'long_name': '15th arrondissement of Paris',\n",
       "      'short_name': '15th arrondissement of Paris',\n",
       "      'types': ['political', 'sublocality', 'sublocality_level_1']},\n",
       "     {'long_name': 'Paris',\n",
       "      'short_name': 'Paris',\n",
       "      'types': ['locality', 'political']},\n",
       "     {'long_name': 'Paris',\n",
       "      'short_name': 'Paris',\n",
       "      'types': ['administrative_area_level_2', 'political']},\n",
       "     {'long_name': 'Île-de-France',\n",
       "      'short_name': 'Île-de-France',\n",
       "      'types': ['administrative_area_level_1', 'political']},\n",
       "     {'long_name': 'France',\n",
       "      'short_name': 'FR',\n",
       "      'types': ['country', 'political']},\n",
       "     {'long_name': '75015', 'short_name': '75015', 'types': ['postal_code']}],\n",
       "    'formatted_address': '15th arrondissement of Paris, 75015 Paris, France',\n",
       "    'geometry': {'bounds': {'northeast': {'lat': 48.8581791, 'lng': 2.324624},\n",
       "      'southwest': {'lat': 48.82513410000001, 'lng': 2.262783}},\n",
       "     'location': {'lat': 48.8421616, 'lng': 2.2927665},\n",
       "     'location_type': 'APPROXIMATE',\n",
       "     'viewport': {'northeast': {'lat': 48.8581791, 'lng': 2.324624},\n",
       "      'southwest': {'lat': 48.82513410000001, 'lng': 2.262783}}},\n",
       "    'place_id': 'ChIJ9WBuGRRw5kcRMBuUaMOCCwU',\n",
       "    'types': ['political', 'sublocality', 'sublocality_level_1']},\n",
       "   {'address_components': [{'long_name': 'Paris',\n",
       "      'short_name': 'Paris',\n",
       "      'types': ['locality', 'political']},\n",
       "     {'long_name': 'Paris',\n",
       "      'short_name': 'Paris',\n",
       "      'types': ['administrative_area_level_2', 'political']},\n",
       "     {'long_name': 'Île-de-France',\n",
       "      'short_name': 'Île-de-France',\n",
       "      'types': ['administrative_area_level_1', 'political']},\n",
       "     {'long_name': 'France',\n",
       "      'short_name': 'FR',\n",
       "      'types': ['country', 'political']}],\n",
       "    'formatted_address': 'Paris, France',\n",
       "    'geometry': {'bounds': {'northeast': {'lat': 48.9021449, 'lng': 2.4699208},\n",
       "      'southwest': {'lat': 48.815573, 'lng': 2.224199}},\n",
       "     'location': {'lat': 48.856614, 'lng': 2.3522219},\n",
       "     'location_type': 'APPROXIMATE',\n",
       "     'viewport': {'northeast': {'lat': 48.9021449, 'lng': 2.4699208},\n",
       "      'southwest': {'lat': 48.815573, 'lng': 2.224199}}},\n",
       "    'place_id': 'ChIJD7fiBh9u5kcRYJSMaMOCCwQ',\n",
       "    'types': ['locality', 'political']},\n",
       "   {'address_components': [{'long_name': '75015',\n",
       "      'short_name': '75015',\n",
       "      'types': ['postal_code']},\n",
       "     {'long_name': 'Paris',\n",
       "      'short_name': 'Paris',\n",
       "      'types': ['locality', 'political']},\n",
       "     {'long_name': 'Paris',\n",
       "      'short_name': 'Paris',\n",
       "      'types': ['administrative_area_level_2', 'political']},\n",
       "     {'long_name': 'Île-de-France',\n",
       "      'short_name': 'Île-de-France',\n",
       "      'types': ['administrative_area_level_1', 'political']},\n",
       "     {'long_name': 'France',\n",
       "      'short_name': 'FR',\n",
       "      'types': ['country', 'political']}],\n",
       "    'formatted_address': '75015 Paris, France',\n",
       "    'geometry': {'bounds': {'northeast': {'lat': 48.8582221, 'lng': 2.3246822},\n",
       "      'southwest': {'lat': 48.8252116, 'lng': 2.2629819}},\n",
       "     'location': {'lat': 48.8421616, 'lng': 2.2927665},\n",
       "     'location_type': 'APPROXIMATE',\n",
       "     'viewport': {'northeast': {'lat': 48.8582221, 'lng': 2.3246822},\n",
       "      'southwest': {'lat': 48.8252116, 'lng': 2.2629819}}},\n",
       "    'place_id': 'ChIJ9WBuGRRw5kcR4FHY4caCCxw',\n",
       "    'types': ['postal_code']},\n",
       "   {'address_components': [{'long_name': 'Paris',\n",
       "      'short_name': 'Paris',\n",
       "      'types': ['administrative_area_level_2', 'political']},\n",
       "     {'long_name': 'Paris',\n",
       "      'short_name': 'Paris',\n",
       "      'types': ['locality', 'political']},\n",
       "     {'long_name': 'Île-de-France',\n",
       "      'short_name': 'Île-de-France',\n",
       "      'types': ['administrative_area_level_1', 'political']},\n",
       "     {'long_name': 'France',\n",
       "      'short_name': 'FR',\n",
       "      'types': ['country', 'political']}],\n",
       "    'formatted_address': 'Paris, France',\n",
       "    'geometry': {'bounds': {'northeast': {'lat': 48.9021449, 'lng': 2.4699208},\n",
       "      'southwest': {'lat': 48.815573, 'lng': 2.224199}},\n",
       "     'location': {'lat': 48.8565823, 'lng': 2.3522148},\n",
       "     'location_type': 'APPROXIMATE',\n",
       "     'viewport': {'northeast': {'lat': 48.9021449, 'lng': 2.4699208},\n",
       "      'southwest': {'lat': 48.815573, 'lng': 2.224199}}},\n",
       "    'place_id': 'ChIJD7fiBh9u5kcRMCqLaMOCCwM',\n",
       "    'types': ['administrative_area_level_2', 'political']},\n",
       "   {'address_components': [{'long_name': 'Île-de-France',\n",
       "      'short_name': 'Île-de-France',\n",
       "      'types': ['administrative_area_level_1', 'political']},\n",
       "     {'long_name': 'France',\n",
       "      'short_name': 'FR',\n",
       "      'types': ['country', 'political']}],\n",
       "    'formatted_address': 'Île-de-France, France',\n",
       "    'geometry': {'bounds': {'northeast': {'lat': 49.241504, 'lng': 3.5590069},\n",
       "      'southwest': {'lat': 48.1200811, 'lng': 1.44617}},\n",
       "     'location': {'lat': 48.8499198, 'lng': 2.6370411},\n",
       "     'location_type': 'APPROXIMATE',\n",
       "     'viewport': {'northeast': {'lat': 49.241504, 'lng': 3.5590069},\n",
       "      'southwest': {'lat': 48.1200811, 'lng': 1.44617}}},\n",
       "    'place_id': 'ChIJF4ymA8Th5UcRcCWLaMOCCwE',\n",
       "    'types': ['administrative_area_level_1', 'political']},\n",
       "   {'address_components': [{'long_name': 'Paris Metropolitan Area',\n",
       "      'short_name': 'Paris Metropolitan Area',\n",
       "      'types': ['political']},\n",
       "     {'long_name': 'France',\n",
       "      'short_name': 'FR',\n",
       "      'types': ['country', 'political']}],\n",
       "    'formatted_address': 'Paris Metropolitan Area, France',\n",
       "    'geometry': {'bounds': {'northeast': {'lat': 49.44956, 'lng': 3.5590339},\n",
       "      'southwest': {'lat': 48.065382, 'lng': 1.3557489}},\n",
       "     'location': {'lat': 48.8575712, 'lng': 2.2771715},\n",
       "     'location_type': 'APPROXIMATE',\n",
       "     'viewport': {'northeast': {'lat': 49.44956, 'lng': 3.5590339},\n",
       "      'southwest': {'lat': 48.065382, 'lng': 1.3557489}}},\n",
       "    'place_id': 'ChIJW36m20gL5kcRiMnAEpHgyq8',\n",
       "    'types': ['political']},\n",
       "   {'address_components': [{'long_name': 'France',\n",
       "      'short_name': 'FR',\n",
       "      'types': ['country', 'political']}],\n",
       "    'formatted_address': 'France',\n",
       "    'geometry': {'bounds': {'northeast': {'lat': 51.1241999, 'lng': 9.6624999},\n",
       "      'southwest': {'lat': 41.3253001, 'lng': -5.5591}},\n",
       "     'location': {'lat': 46.227638, 'lng': 2.213749},\n",
       "     'location_type': 'APPROXIMATE',\n",
       "     'viewport': {'northeast': {'lat': 51.1241999, 'lng': 9.6624999},\n",
       "      'southwest': {'lat': 41.3253001, 'lng': -5.5591}}},\n",
       "    'place_id': 'ChIJMVd4MymgVA0R99lHx5Y__Ws',\n",
       "    'types': ['country', 'political']}],\n",
       "  'status': 'OK'})"
      ]
     },
     "execution_count": 17,
     "metadata": {},
     "output_type": "execute_result"
    }
   ],
   "source": [
    "(r.status_code, r.json())"
   ]
  },
  {
   "cell_type": "markdown",
   "metadata": {},
   "source": [
    "Décomposition de l'url d'appel"
   ]
  },
  {
   "cell_type": "code",
   "execution_count": 18,
   "metadata": {},
   "outputs": [
    {
     "data": {
      "text/plain": [
       "'https://maps.googleapis.com/maps/api/geocode/json?latlng=48.8333516,2.269852'"
      ]
     },
     "execution_count": 18,
     "metadata": {},
     "output_type": "execute_result"
    }
   ],
   "source": [
    "reverse_geocoding_api_url = 'https://maps.googleapis.com/maps/api/geocode/'\n",
    "response_format = 'json'\n",
    "lat_lon = ['48.8333516', '2.269852']\n",
    "url = reverse_geocoding_api_url + response_format + '?latlng=' + ','.join(lat_lon)\n",
    "url"
   ]
  },
  {
   "cell_type": "markdown",
   "metadata": {},
   "source": [
    "Décomposition de la réponse"
   ]
  },
  {
   "cell_type": "code",
   "execution_count": 17,
   "metadata": {},
   "outputs": [
    {
     "data": {
      "text/plain": [
       "200"
      ]
     },
     "execution_count": 17,
     "metadata": {},
     "output_type": "execute_result"
    }
   ],
   "source": [
    "r.status_code"
   ]
  },
  {
   "cell_type": "code",
   "execution_count": 18,
   "metadata": {},
   "outputs": [
    {
     "data": {
      "text/plain": [
       "{'results': [{'address_components': [{'long_name': '72',\n",
       "     'short_name': '72',\n",
       "     'types': ['street_number']},\n",
       "    {'long_name': 'Rue Henry Farman',\n",
       "     'short_name': 'Rue Henry Farman',\n",
       "     'types': ['route']},\n",
       "    {'long_name': 'Paris',\n",
       "     'short_name': 'Paris',\n",
       "     'types': ['locality', 'political']},\n",
       "    {'long_name': 'Paris',\n",
       "     'short_name': 'Paris',\n",
       "     'types': ['administrative_area_level_2', 'political']},\n",
       "    {'long_name': 'Île-de-France',\n",
       "     'short_name': 'Île-de-France',\n",
       "     'types': ['administrative_area_level_1', 'political']},\n",
       "    {'long_name': 'France',\n",
       "     'short_name': 'FR',\n",
       "     'types': ['country', 'political']},\n",
       "    {'long_name': '75015', 'short_name': '75015', 'types': ['postal_code']}],\n",
       "   'formatted_address': '72 Rue Henry Farman, 75015 Paris, France',\n",
       "   'geometry': {'location': {'lat': 48.8333516, 'lng': 2.269852},\n",
       "    'location_type': 'ROOFTOP',\n",
       "    'viewport': {'northeast': {'lat': 48.8347005802915,\n",
       "      'lng': 2.271200980291502},\n",
       "     'southwest': {'lat': 48.8320026197085, 'lng': 2.268503019708498}}},\n",
       "   'place_id': 'ChIJGaius5565kcRWabp1CDDFv4',\n",
       "   'types': ['street_address']},\n",
       "  {'address_components': [{'long_name': 'Rue Henri Farman',\n",
       "     'short_name': 'Rue Henri Farman',\n",
       "     'types': ['bus_station',\n",
       "      'establishment',\n",
       "      'point_of_interest',\n",
       "      'transit_station']},\n",
       "    {'long_name': 'Paris',\n",
       "     'short_name': 'Paris',\n",
       "     'types': ['locality', 'political']},\n",
       "    {'long_name': 'Paris',\n",
       "     'short_name': 'Paris',\n",
       "     'types': ['administrative_area_level_2', 'political']},\n",
       "    {'long_name': 'Île-de-France',\n",
       "     'short_name': 'Île-de-France',\n",
       "     'types': ['administrative_area_level_1', 'political']},\n",
       "    {'long_name': 'France',\n",
       "     'short_name': 'FR',\n",
       "     'types': ['country', 'political']},\n",
       "    {'long_name': '75015', 'short_name': '75015', 'types': ['postal_code']}],\n",
       "   'formatted_address': 'Rue Henri Farman, 75015 Paris, France',\n",
       "   'geometry': {'location': {'lat': 48.833209, 'lng': 2.269938},\n",
       "    'location_type': 'GEOMETRIC_CENTER',\n",
       "    'viewport': {'northeast': {'lat': 48.83455798029149,\n",
       "      'lng': 2.271286980291502},\n",
       "     'southwest': {'lat': 48.83186001970849, 'lng': 2.268589019708498}}},\n",
       "   'place_id': 'ChIJ250Esp565kcRidd7lt5E2ng',\n",
       "   'types': ['bus_station',\n",
       "    'establishment',\n",
       "    'point_of_interest',\n",
       "    'transit_station']},\n",
       "  {'address_components': [{'long_name': 'Javel',\n",
       "     'short_name': 'Javel',\n",
       "     'types': ['neighborhood', 'political']},\n",
       "    {'long_name': '15th arrondissement of Paris',\n",
       "     'short_name': '15th arrondissement of Paris',\n",
       "     'types': ['political', 'sublocality', 'sublocality_level_1']},\n",
       "    {'long_name': 'Paris',\n",
       "     'short_name': 'Paris',\n",
       "     'types': ['locality', 'political']},\n",
       "    {'long_name': 'Paris',\n",
       "     'short_name': 'Paris',\n",
       "     'types': ['administrative_area_level_2', 'political']},\n",
       "    {'long_name': 'Île-de-France',\n",
       "     'short_name': 'Île-de-France',\n",
       "     'types': ['administrative_area_level_1', 'political']},\n",
       "    {'long_name': 'France',\n",
       "     'short_name': 'FR',\n",
       "     'types': ['country', 'political']}],\n",
       "   'formatted_address': 'Javel, Paris, France',\n",
       "   'geometry': {'bounds': {'northeast': {'lat': 48.849334, 'lng': 2.2957529},\n",
       "     'southwest': {'lat': 48.827811, 'lng': 2.266806}},\n",
       "    'location': {'lat': 48.8399261, 'lng': 2.2785604},\n",
       "    'location_type': 'APPROXIMATE',\n",
       "    'viewport': {'northeast': {'lat': 48.849334, 'lng': 2.2957529},\n",
       "     'southwest': {'lat': 48.827811, 'lng': 2.266806}}},\n",
       "   'place_id': 'ChIJy3NOOAtw5kcRuL95YJcuGiQ',\n",
       "   'types': ['neighborhood', 'political']},\n",
       "  {'address_components': [{'long_name': '15th arrondissement of Paris',\n",
       "     'short_name': '15th arrondissement of Paris',\n",
       "     'types': ['political', 'sublocality', 'sublocality_level_1']},\n",
       "    {'long_name': 'Paris',\n",
       "     'short_name': 'Paris',\n",
       "     'types': ['locality', 'political']},\n",
       "    {'long_name': 'Paris',\n",
       "     'short_name': 'Paris',\n",
       "     'types': ['administrative_area_level_2', 'political']},\n",
       "    {'long_name': 'Île-de-France',\n",
       "     'short_name': 'Île-de-France',\n",
       "     'types': ['administrative_area_level_1', 'political']},\n",
       "    {'long_name': 'France',\n",
       "     'short_name': 'FR',\n",
       "     'types': ['country', 'political']},\n",
       "    {'long_name': '75015', 'short_name': '75015', 'types': ['postal_code']}],\n",
       "   'formatted_address': '15th arrondissement of Paris, 75015 Paris, France',\n",
       "   'geometry': {'bounds': {'northeast': {'lat': 48.8581791, 'lng': 2.324624},\n",
       "     'southwest': {'lat': 48.82513410000001, 'lng': 2.262783}},\n",
       "    'location': {'lat': 48.8421616, 'lng': 2.2927665},\n",
       "    'location_type': 'APPROXIMATE',\n",
       "    'viewport': {'northeast': {'lat': 48.8581791, 'lng': 2.324624},\n",
       "     'southwest': {'lat': 48.82513410000001, 'lng': 2.262783}}},\n",
       "   'place_id': 'ChIJ9WBuGRRw5kcRMBuUaMOCCwU',\n",
       "   'types': ['political', 'sublocality', 'sublocality_level_1']},\n",
       "  {'address_components': [{'long_name': 'Paris',\n",
       "     'short_name': 'Paris',\n",
       "     'types': ['locality', 'political']},\n",
       "    {'long_name': 'Paris',\n",
       "     'short_name': 'Paris',\n",
       "     'types': ['administrative_area_level_2', 'political']},\n",
       "    {'long_name': 'Île-de-France',\n",
       "     'short_name': 'Île-de-France',\n",
       "     'types': ['administrative_area_level_1', 'political']},\n",
       "    {'long_name': 'France',\n",
       "     'short_name': 'FR',\n",
       "     'types': ['country', 'political']}],\n",
       "   'formatted_address': 'Paris, France',\n",
       "   'geometry': {'bounds': {'northeast': {'lat': 48.9021449, 'lng': 2.4699208},\n",
       "     'southwest': {'lat': 48.815573, 'lng': 2.224199}},\n",
       "    'location': {'lat': 48.856614, 'lng': 2.3522219},\n",
       "    'location_type': 'APPROXIMATE',\n",
       "    'viewport': {'northeast': {'lat': 48.9021449, 'lng': 2.4699208},\n",
       "     'southwest': {'lat': 48.815573, 'lng': 2.224199}}},\n",
       "   'place_id': 'ChIJD7fiBh9u5kcRYJSMaMOCCwQ',\n",
       "   'types': ['locality', 'political']},\n",
       "  {'address_components': [{'long_name': '75015',\n",
       "     'short_name': '75015',\n",
       "     'types': ['postal_code']},\n",
       "    {'long_name': 'Paris',\n",
       "     'short_name': 'Paris',\n",
       "     'types': ['locality', 'political']},\n",
       "    {'long_name': 'Paris',\n",
       "     'short_name': 'Paris',\n",
       "     'types': ['administrative_area_level_2', 'political']},\n",
       "    {'long_name': 'Île-de-France',\n",
       "     'short_name': 'Île-de-France',\n",
       "     'types': ['administrative_area_level_1', 'political']},\n",
       "    {'long_name': 'France',\n",
       "     'short_name': 'FR',\n",
       "     'types': ['country', 'political']}],\n",
       "   'formatted_address': '75015 Paris, France',\n",
       "   'geometry': {'bounds': {'northeast': {'lat': 48.8582221, 'lng': 2.3246822},\n",
       "     'southwest': {'lat': 48.8252116, 'lng': 2.2629819}},\n",
       "    'location': {'lat': 48.8421616, 'lng': 2.2927665},\n",
       "    'location_type': 'APPROXIMATE',\n",
       "    'viewport': {'northeast': {'lat': 48.8582221, 'lng': 2.3246822},\n",
       "     'southwest': {'lat': 48.8252116, 'lng': 2.2629819}}},\n",
       "   'place_id': 'ChIJ9WBuGRRw5kcR4FHY4caCCxw',\n",
       "   'types': ['postal_code']},\n",
       "  {'address_components': [{'long_name': 'Paris',\n",
       "     'short_name': 'Paris',\n",
       "     'types': ['administrative_area_level_2', 'political']},\n",
       "    {'long_name': 'Paris',\n",
       "     'short_name': 'Paris',\n",
       "     'types': ['locality', 'political']},\n",
       "    {'long_name': 'Île-de-France',\n",
       "     'short_name': 'Île-de-France',\n",
       "     'types': ['administrative_area_level_1', 'political']},\n",
       "    {'long_name': 'France',\n",
       "     'short_name': 'FR',\n",
       "     'types': ['country', 'political']}],\n",
       "   'formatted_address': 'Paris, France',\n",
       "   'geometry': {'bounds': {'northeast': {'lat': 48.9021449, 'lng': 2.4699208},\n",
       "     'southwest': {'lat': 48.815573, 'lng': 2.224199}},\n",
       "    'location': {'lat': 48.8565823, 'lng': 2.3522148},\n",
       "    'location_type': 'APPROXIMATE',\n",
       "    'viewport': {'northeast': {'lat': 48.9021449, 'lng': 2.4699208},\n",
       "     'southwest': {'lat': 48.815573, 'lng': 2.224199}}},\n",
       "   'place_id': 'ChIJD7fiBh9u5kcRMCqLaMOCCwM',\n",
       "   'types': ['administrative_area_level_2', 'political']},\n",
       "  {'address_components': [{'long_name': 'Île-de-France',\n",
       "     'short_name': 'Île-de-France',\n",
       "     'types': ['administrative_area_level_1', 'political']},\n",
       "    {'long_name': 'France',\n",
       "     'short_name': 'FR',\n",
       "     'types': ['country', 'political']}],\n",
       "   'formatted_address': 'Île-de-France, France',\n",
       "   'geometry': {'bounds': {'northeast': {'lat': 49.241504, 'lng': 3.5590069},\n",
       "     'southwest': {'lat': 48.1200811, 'lng': 1.44617}},\n",
       "    'location': {'lat': 48.8499198, 'lng': 2.6370411},\n",
       "    'location_type': 'APPROXIMATE',\n",
       "    'viewport': {'northeast': {'lat': 49.241504, 'lng': 3.5590069},\n",
       "     'southwest': {'lat': 48.1200811, 'lng': 1.44617}}},\n",
       "   'place_id': 'ChIJF4ymA8Th5UcRcCWLaMOCCwE',\n",
       "   'types': ['administrative_area_level_1', 'political']},\n",
       "  {'address_components': [{'long_name': 'Paris Metropolitan Area',\n",
       "     'short_name': 'Paris Metropolitan Area',\n",
       "     'types': ['political']},\n",
       "    {'long_name': 'France',\n",
       "     'short_name': 'FR',\n",
       "     'types': ['country', 'political']}],\n",
       "   'formatted_address': 'Paris Metropolitan Area, France',\n",
       "   'geometry': {'bounds': {'northeast': {'lat': 49.44956, 'lng': 3.5590339},\n",
       "     'southwest': {'lat': 48.065382, 'lng': 1.3557489}},\n",
       "    'location': {'lat': 48.8575712, 'lng': 2.2771715},\n",
       "    'location_type': 'APPROXIMATE',\n",
       "    'viewport': {'northeast': {'lat': 49.44956, 'lng': 3.5590339},\n",
       "     'southwest': {'lat': 48.065382, 'lng': 1.3557489}}},\n",
       "   'place_id': 'ChIJW36m20gL5kcRiMnAEpHgyq8',\n",
       "   'types': ['political']},\n",
       "  {'address_components': [{'long_name': 'France',\n",
       "     'short_name': 'FR',\n",
       "     'types': ['country', 'political']}],\n",
       "   'formatted_address': 'France',\n",
       "   'geometry': {'bounds': {'northeast': {'lat': 51.1241999, 'lng': 9.6624999},\n",
       "     'southwest': {'lat': 41.3253001, 'lng': -5.5591}},\n",
       "    'location': {'lat': 46.227638, 'lng': 2.213749},\n",
       "    'location_type': 'APPROXIMATE',\n",
       "    'viewport': {'northeast': {'lat': 51.1241999, 'lng': 9.6624999},\n",
       "     'southwest': {'lat': 41.3253001, 'lng': -5.5591}}},\n",
       "   'place_id': 'ChIJMVd4MymgVA0R99lHx5Y__Ws',\n",
       "   'types': ['country', 'political']}],\n",
       " 'status': 'OK'}"
      ]
     },
     "execution_count": 18,
     "metadata": {},
     "output_type": "execute_result"
    }
   ],
   "source": [
    "r.json()"
   ]
  },
  {
   "cell_type": "code",
   "execution_count": 19,
   "metadata": {},
   "outputs": [
    {
     "data": {
      "text/plain": [
       "10"
      ]
     },
     "execution_count": 19,
     "metadata": {},
     "output_type": "execute_result"
    }
   ],
   "source": [
    "results = r.json()['results']\n",
    "len(results)"
   ]
  },
  {
   "cell_type": "code",
   "execution_count": 20,
   "metadata": {},
   "outputs": [
    {
     "data": {
      "text/plain": [
       "['ROOFTOP',\n",
       " 'GEOMETRIC_CENTER',\n",
       " 'APPROXIMATE',\n",
       " 'APPROXIMATE',\n",
       " 'APPROXIMATE',\n",
       " 'APPROXIMATE',\n",
       " 'APPROXIMATE',\n",
       " 'APPROXIMATE',\n",
       " 'APPROXIMATE',\n",
       " 'APPROXIMATE']"
      ]
     },
     "execution_count": 20,
     "metadata": {},
     "output_type": "execute_result"
    }
   ],
   "source": [
    "[result['geometry']['location_type'] for result in results]"
   ]
  },
  {
   "cell_type": "code",
   "execution_count": null,
   "metadata": {
    "collapsed": true
   },
   "outputs": [],
   "source": []
  },
  {
   "cell_type": "code",
   "execution_count": 21,
   "metadata": {
    "collapsed": true
   },
   "outputs": [],
   "source": [
    "r = requests.get('https://maps.googleapis.com/maps/api/geocode/json?address=prefecture,+yvelines')"
   ]
  },
  {
   "cell_type": "code",
   "execution_count": 22,
   "metadata": {},
   "outputs": [
    {
     "data": {
      "text/plain": [
       "<Response [200]>"
      ]
     },
     "execution_count": 22,
     "metadata": {},
     "output_type": "execute_result"
    }
   ],
   "source": [
    "r"
   ]
  },
  {
   "cell_type": "code",
   "execution_count": 23,
   "metadata": {},
   "outputs": [
    {
     "data": {
      "text/plain": [
       "{'results': [{'address_components': [{'long_name': '1',\n",
       "     'short_name': '1',\n",
       "     'types': ['street_number']},\n",
       "    {'long_name': \"Avenue de l'Europe\",\n",
       "     'short_name': \"Avenue de l'Europe\",\n",
       "     'types': ['route']},\n",
       "    {'long_name': 'Versailles',\n",
       "     'short_name': 'Versailles',\n",
       "     'types': ['locality', 'political']},\n",
       "    {'long_name': 'Yvelines',\n",
       "     'short_name': 'Yvelines',\n",
       "     'types': ['administrative_area_level_2', 'political']},\n",
       "    {'long_name': 'Île-de-France',\n",
       "     'short_name': 'Île-de-France',\n",
       "     'types': ['administrative_area_level_1', 'political']},\n",
       "    {'long_name': 'France',\n",
       "     'short_name': 'FR',\n",
       "     'types': ['country', 'political']},\n",
       "    {'long_name': '78000', 'short_name': '78000', 'types': ['postal_code']}],\n",
       "   'formatted_address': \"1 Avenue de l'Europe, 78000 Versailles, France\",\n",
       "   'geometry': {'location': {'lat': 48.8027597, 'lng': 2.1301903},\n",
       "    'location_type': 'ROOFTOP',\n",
       "    'viewport': {'northeast': {'lat': 48.80410868029149,\n",
       "      'lng': 2.131539280291502},\n",
       "     'southwest': {'lat': 48.8014107197085, 'lng': 2.128841319708498}}},\n",
       "   'place_id': 'ChIJhzjoMLR95kcRJfDX7jA1Ci0',\n",
       "   'types': ['establishment',\n",
       "    'local_government_office',\n",
       "    'point_of_interest']}],\n",
       " 'status': 'OK'}"
      ]
     },
     "execution_count": 23,
     "metadata": {},
     "output_type": "execute_result"
    }
   ],
   "source": [
    "\n",
    "r.json()"
   ]
  },
  {
   "cell_type": "code",
   "execution_count": null,
   "metadata": {
    "collapsed": true
   },
   "outputs": [],
   "source": []
  }
 ],
 "metadata": {
  "anaconda-cloud": {},
  "kernelspec": {
   "display_name": "Python [conda env:quetzal_env]",
   "language": "python",
   "name": "conda-env-quetzal_env-py"
  },
  "language_info": {
   "codemirror_mode": {
    "name": "ipython",
    "version": 3
   },
   "file_extension": ".py",
   "mimetype": "text/x-python",
   "name": "python",
   "nbconvert_exporter": "python",
   "pygments_lexer": "ipython3",
   "version": "3.7.9"
  }
 },
 "nbformat": 4,
 "nbformat_minor": 1
}
