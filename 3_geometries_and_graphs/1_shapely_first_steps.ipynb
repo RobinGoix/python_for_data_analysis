{
 "cells": [
  {
   "cell_type": "code",
   "execution_count": 1,
   "metadata": {
    "collapsed": true
   },
   "outputs": [],
   "source": [
    "from IPython.core.interactiveshell import InteractiveShell\n",
    "InteractiveShell.ast_node_interactivity = \"all\""
   ]
  },
  {
   "cell_type": "markdown",
   "metadata": {},
   "source": [
    "# Librairies spéciales"
   ]
  },
  {
   "cell_type": "markdown",
   "metadata": {},
   "source": [
    "# 1. Shapely"
   ]
  },
  {
   "cell_type": "markdown",
   "metadata": {},
   "source": [
    "## 1.1 Intro\n",
    "- Shapely est une librairie python permettant de manipuler des objects géométriques planaires.\n",
    "- Elle est basée sur GEOS, et initialement développée pour rendre possible les opérations PostGIS ne dehors d'une BDD relationnelle."
   ]
  },
  {
   "cell_type": "markdown",
   "metadata": {},
   "source": [
    "Shapely manipule trois types d'objets fondamentaux: les points, les courbes et les polygones:"
   ]
  },
  {
   "cell_type": "code",
   "execution_count": 2,
   "metadata": {
    "collapsed": true
   },
   "outputs": [],
   "source": [
    "from shapely import geometry"
   ]
  },
  {
   "cell_type": "markdown",
   "metadata": {},
   "source": [
    "Les points"
   ]
  },
  {
   "cell_type": "code",
   "execution_count": 5,
   "metadata": {},
   "outputs": [
    {
     "data": {
      "image/svg+xml": "<svg xmlns=\"http://www.w3.org/2000/svg\" xmlns:xlink=\"http://www.w3.org/1999/xlink\" width=\"100.0\" height=\"100.0\" viewBox=\"-1.0 -1.0 2.0 2.0\" preserveAspectRatio=\"xMinYMin meet\"><g transform=\"matrix(1,0,0,-1,0,0.0)\"><circle cx=\"0.0\" cy=\"0.0\" r=\"0.06\" stroke=\"#555555\" stroke-width=\"0.02\" fill=\"#66cc99\" opacity=\"0.6\" /></g></svg>",
      "text/plain": [
       "<shapely.geometry.point.Point at 0x25d0d65ea08>"
      ]
     },
     "execution_count": 5,
     "metadata": {},
     "output_type": "execute_result"
    }
   ],
   "source": [
    "point_0 = geometry.Point(0,0)\n",
    "point_0"
   ]
  },
  {
   "cell_type": "markdown",
   "metadata": {},
   "source": [
    "Les courbes fermées ou ouvertes"
   ]
  },
  {
   "cell_type": "code",
   "execution_count": 7,
   "metadata": {},
   "outputs": [
    {
     "data": {
      "image/svg+xml": "<svg xmlns=\"http://www.w3.org/2000/svg\" xmlns:xlink=\"http://www.w3.org/1999/xlink\" width=\"100.0\" height=\"100.0\" viewBox=\"-0.04 -0.04 0.08 1.08\" preserveAspectRatio=\"xMinYMin meet\"><g transform=\"matrix(1,0,0,-1,0,1.0)\"><polyline fill=\"none\" stroke=\"#66cc99\" stroke-width=\"0.0216\" points=\"0.0,0.0 0.0,1.0\" opacity=\"0.8\" /></g></svg>",
      "text/plain": [
       "<shapely.geometry.linestring.LineString at 0x25d0d6bf508>"
      ]
     },
     "execution_count": 7,
     "metadata": {},
     "output_type": "execute_result"
    }
   ],
   "source": [
    "line_01 = geometry.LineString(((0,0),(0,1)))\n",
    "line_01"
   ]
  },
  {
   "cell_type": "code",
   "execution_count": 5,
   "metadata": {},
   "outputs": [
    {
     "data": {
      "image/svg+xml": "<svg xmlns=\"http://www.w3.org/2000/svg\" xmlns:xlink=\"http://www.w3.org/1999/xlink\" width=\"100.0\" height=\"100.0\" viewBox=\"-0.04 -0.04 1.08 1.08\" preserveAspectRatio=\"xMinYMin meet\"><g transform=\"matrix(1,0,0,-1,0,1.0)\"><polyline fill=\"none\" stroke=\"#66cc99\" stroke-width=\"0.0216\" points=\"0.0,0.0 0.0,1.0 1.0,1.0 0.0,0.0\" opacity=\"0.8\" /></g></svg>",
      "text/plain": [
       "<shapely.geometry.polygon.LinearRing at 0x201b10909c8>"
      ]
     },
     "execution_count": 5,
     "metadata": {},
     "output_type": "execute_result"
    }
   ],
   "source": [
    "ring_01 = geometry.LinearRing(((0,0),(0,1),(1,1)))\n",
    "ring_01"
   ]
  },
  {
   "cell_type": "markdown",
   "metadata": {},
   "source": [
    "Les polygones"
   ]
  },
  {
   "cell_type": "code",
   "execution_count": 6,
   "metadata": {},
   "outputs": [
    {
     "data": {
      "image/svg+xml": "<svg xmlns=\"http://www.w3.org/2000/svg\" xmlns:xlink=\"http://www.w3.org/1999/xlink\" width=\"100.0\" height=\"100.0\" viewBox=\"-0.04 -0.04 1.08 1.08\" preserveAspectRatio=\"xMinYMin meet\"><g transform=\"matrix(1,0,0,-1,0,1.0)\"><path fill-rule=\"evenodd\" fill=\"#66cc99\" stroke=\"#555555\" stroke-width=\"0.0216\" opacity=\"0.6\" d=\"M 0.0,0.0 L 0.0,1.0 L 1.0,1.0 L 0.0,0.0 z\" /></g></svg>",
      "text/plain": [
       "<shapely.geometry.polygon.Polygon at 0x201b10950c8>"
      ]
     },
     "execution_count": 6,
     "metadata": {},
     "output_type": "execute_result"
    }
   ],
   "source": [
    "triangle = geometry.Polygon([(0,0),(0,1),(1,1)])\n",
    "triangle"
   ]
  },
  {
   "cell_type": "markdown",
   "metadata": {},
   "source": [
    "On peut également avoir des collections d'objets de même type"
   ]
  },
  {
   "cell_type": "code",
   "execution_count": 7,
   "metadata": {
    "collapsed": true
   },
   "outputs": [],
   "source": [
    "from shapely.geometry import MultiPoint, MultiLineString, MultiPolygon"
   ]
  },
  {
   "cell_type": "markdown",
   "metadata": {},
   "source": [
    "Quelques remarques:\n",
    "- Shapely ne gère pas les systèmes de coordonnées\n",
    "- Shapely ne gère pas le calcul 3D: on peut ajouter une coordonnée z aux objets, mais celle-ci n'aura pas d'impact sur l'analyse, car toutes les opérations sont effectuées dans un même plan (x-y)"
   ]
  },
  {
   "cell_type": "markdown",
   "metadata": {},
   "source": [
    "## 1.2 Les objets géometriques"
   ]
  },
  {
   "cell_type": "markdown",
   "metadata": {},
   "source": [
    "### 1.2.1 Tous ont des méthodes et attributs communs:\n",
    "- une aire --> `area`\n",
    "- des limites --> `bounds`\n",
    "- une longueur --> `length`\n",
    "- un type géométriques --> `geom_type`\n",
    "- une distance par rapport à d'autres objets --> `distance(object)`"
   ]
  },
  {
   "cell_type": "code",
   "execution_count": 9,
   "metadata": {},
   "outputs": [
    {
     "name": "stdout",
     "output_type": "stream",
     "text": [
      "Point\n",
      "0.0\n",
      "0.0\n",
      "(0.0, 0.0, 0.0, 0.0)\n"
     ]
    },
    {
     "data": {
      "text/plain": [
       "0.5"
      ]
     },
     "execution_count": 9,
     "metadata": {},
     "output_type": "execute_result"
    }
   ],
   "source": [
    "point_0\n",
    "print(point_0.geom_type)\n",
    "print(point_0.area)\n",
    "print(point_0.length)\n",
    "print(point_0.bounds)\n",
    "point_0.distance(geometry.Point(0.5, 0))"
   ]
  },
  {
   "cell_type": "code",
   "execution_count": 11,
   "metadata": {},
   "outputs": [
    {
     "name": "stdout",
     "output_type": "stream",
     "text": [
      "LineString\n",
      "0.0\n",
      "1.0\n",
      "(0.0, 0.0, 0.0, 1.0)\n"
     ]
    },
    {
     "data": {
      "text/plain": [
       "0.5"
      ]
     },
     "execution_count": 11,
     "metadata": {},
     "output_type": "execute_result"
    }
   ],
   "source": [
    "line_01\n",
    "print(line_01.geom_type)\n",
    "print(line_01.area)\n",
    "print(line_01.length)\n",
    "print(line_01.bounds)\n",
    "line_01.distance(geometry.Point(0.5, 0))"
   ]
  },
  {
   "cell_type": "code",
   "execution_count": 10,
   "metadata": {},
   "outputs": [
    {
     "data": {
      "image/svg+xml": "<svg xmlns=\"http://www.w3.org/2000/svg\" xmlns:xlink=\"http://www.w3.org/1999/xlink\" width=\"100.0\" height=\"100.0\" viewBox=\"-0.04 -0.04 1.08 1.08\" preserveAspectRatio=\"xMinYMin meet\"><g transform=\"matrix(1,0,0,-1,0,1.0)\"><polyline fill=\"none\" stroke=\"#66cc99\" stroke-width=\"0.0216\" points=\"0.0,0.0 0.0,1.0 1.0,1.0 0.0,0.0\" opacity=\"0.8\" /></g></svg>",
      "text/plain": [
       "<shapely.geometry.polygon.LinearRing at 0x2f1c9b35198>"
      ]
     },
     "execution_count": 10,
     "metadata": {},
     "output_type": "execute_result"
    },
    {
     "data": {
      "text/plain": [
       "'LinearRing'"
      ]
     },
     "execution_count": 10,
     "metadata": {},
     "output_type": "execute_result"
    },
    {
     "data": {
      "text/plain": [
       "0.0"
      ]
     },
     "execution_count": 10,
     "metadata": {},
     "output_type": "execute_result"
    },
    {
     "data": {
      "text/plain": [
       "3.414213562373095"
      ]
     },
     "execution_count": 10,
     "metadata": {},
     "output_type": "execute_result"
    },
    {
     "data": {
      "text/plain": [
       "(0.0, 0.0, 1.0, 1.0)"
      ]
     },
     "execution_count": 10,
     "metadata": {},
     "output_type": "execute_result"
    },
    {
     "data": {
      "text/plain": [
       "0.3535533905932738"
      ]
     },
     "execution_count": 10,
     "metadata": {},
     "output_type": "execute_result"
    }
   ],
   "source": [
    "ring_01\n",
    "ring_01.geom_type\n",
    "ring_01.area\n",
    "ring_01.length\n",
    "ring_01.bounds\n",
    "ring_01.distance(geometry.Point(0.5, 0))"
   ]
  },
  {
   "cell_type": "code",
   "execution_count": 11,
   "metadata": {},
   "outputs": [
    {
     "data": {
      "image/svg+xml": "<svg xmlns=\"http://www.w3.org/2000/svg\" xmlns:xlink=\"http://www.w3.org/1999/xlink\" width=\"100.0\" height=\"100.0\" viewBox=\"-0.04 -0.04 1.08 1.08\" preserveAspectRatio=\"xMinYMin meet\"><g transform=\"matrix(1,0,0,-1,0,1.0)\"><path fill-rule=\"evenodd\" fill=\"#66cc99\" stroke=\"#555555\" stroke-width=\"0.0216\" opacity=\"0.6\" d=\"M 0.0,0.0 L 0.0,1.0 L 1.0,1.0 L 0.0,0.0 z\" /></g></svg>",
      "text/plain": [
       "<shapely.geometry.polygon.Polygon at 0x2f1c9b35438>"
      ]
     },
     "execution_count": 11,
     "metadata": {},
     "output_type": "execute_result"
    },
    {
     "data": {
      "text/plain": [
       "'Polygon'"
      ]
     },
     "execution_count": 11,
     "metadata": {},
     "output_type": "execute_result"
    },
    {
     "data": {
      "text/plain": [
       "0.5"
      ]
     },
     "execution_count": 11,
     "metadata": {},
     "output_type": "execute_result"
    },
    {
     "data": {
      "text/plain": [
       "3.414213562373095"
      ]
     },
     "execution_count": 11,
     "metadata": {},
     "output_type": "execute_result"
    },
    {
     "data": {
      "text/plain": [
       "(0.0, 0.0, 1.0, 1.0)"
      ]
     },
     "execution_count": 11,
     "metadata": {},
     "output_type": "execute_result"
    },
    {
     "data": {
      "text/plain": [
       "0.3535533905932738"
      ]
     },
     "execution_count": 11,
     "metadata": {},
     "output_type": "execute_result"
    }
   ],
   "source": [
    "triangle\n",
    "triangle.geom_type\n",
    "triangle.area\n",
    "triangle.length\n",
    "triangle.bounds\n",
    "triangle.distance(geometry.Point(0.5, 0))"
   ]
  },
  {
   "cell_type": "markdown",
   "metadata": {},
   "source": [
    "### 1.2.2 Construction\n",
    "- à partir des coordonnées\n",
    "- à partir d'autres objets géométriques"
   ]
  },
  {
   "cell_type": "markdown",
   "metadata": {},
   "source": [
    "Point"
   ]
  },
  {
   "cell_type": "code",
   "execution_count": 12,
   "metadata": {},
   "outputs": [
    {
     "data": {
      "image/svg+xml": "<svg xmlns=\"http://www.w3.org/2000/svg\" xmlns:xlink=\"http://www.w3.org/1999/xlink\" width=\"100.0\" height=\"100.0\" viewBox=\"-1.0 0.0 2.0 2.0\" preserveAspectRatio=\"xMinYMin meet\"><g transform=\"matrix(1,0,0,-1,0,2.0)\"><circle cx=\"0.0\" cy=\"1.0\" r=\"0.06\" stroke=\"#555555\" stroke-width=\"0.02\" fill=\"#66cc99\" opacity=\"0.6\" /></g></svg>",
      "text/plain": [
       "<shapely.geometry.point.Point at 0x2f1c9b35160>"
      ]
     },
     "execution_count": 12,
     "metadata": {},
     "output_type": "execute_result"
    }
   ],
   "source": [
    "# Creation d'un point à partir de coordonnées\n",
    "point_01 = geometry.Point([0,1])\n",
    "point_01"
   ]
  },
  {
   "cell_type": "code",
   "execution_count": 13,
   "metadata": {},
   "outputs": [
    {
     "data": {
      "image/svg+xml": "<svg xmlns=\"http://www.w3.org/2000/svg\" xmlns:xlink=\"http://www.w3.org/1999/xlink\" width=\"100.0\" height=\"100.0\" viewBox=\"-1.0 -1.0 2.0 2.0\" preserveAspectRatio=\"xMinYMin meet\"><g transform=\"matrix(1,0,0,-1,0,0.0)\"><circle cx=\"0.0\" cy=\"0.0\" r=\"0.06\" stroke=\"#555555\" stroke-width=\"0.02\" fill=\"#66cc99\" opacity=\"0.6\" /></g></svg>",
      "text/plain": [
       "<shapely.geometry.point.Point at 0x2f1c9b35748>"
      ]
     },
     "execution_count": 13,
     "metadata": {},
     "output_type": "execute_result"
    }
   ],
   "source": [
    "# Creation d'un point à partir d'un objet Point --> on créé ici une copie\n",
    "geometry.Point(point_0)"
   ]
  },
  {
   "cell_type": "code",
   "execution_count": 14,
   "metadata": {},
   "outputs": [
    {
     "data": {
      "text/plain": [
       "[(0.0, 0.0)]"
      ]
     },
     "execution_count": 14,
     "metadata": {},
     "output_type": "execute_result"
    }
   ],
   "source": [
    "# On peut accéder aux coordonnées du point\n",
    "point_0.coords[:]"
   ]
  },
  {
   "cell_type": "markdown",
   "metadata": {},
   "source": [
    "Courbes"
   ]
  },
  {
   "cell_type": "code",
   "execution_count": 15,
   "metadata": {},
   "outputs": [
    {
     "data": {
      "image/svg+xml": "<svg xmlns=\"http://www.w3.org/2000/svg\" xmlns:xlink=\"http://www.w3.org/1999/xlink\" width=\"100.0\" height=\"100.0\" viewBox=\"-0.04 -0.04 1.08 1.08\" preserveAspectRatio=\"xMinYMin meet\"><g transform=\"matrix(1,0,0,-1,0,1.0)\"><polyline fill=\"none\" stroke=\"#66cc99\" stroke-width=\"0.0216\" points=\"0.0,0.0 0.0,1.0 1.0,1.0\" opacity=\"0.8\" /></g></svg>",
      "text/plain": [
       "<shapely.geometry.linestring.LineString at 0x2f1c9b35208>"
      ]
     },
     "execution_count": 15,
     "metadata": {},
     "output_type": "execute_result"
    }
   ],
   "source": [
    "# On peut créer une LineString à partir d'une liste de coordonnées\n",
    "geometry.LineString([(0, 0), (0, 1) ,(1, 1)])"
   ]
  },
  {
   "cell_type": "code",
   "execution_count": 16,
   "metadata": {},
   "outputs": [
    {
     "data": {
      "image/svg+xml": "<svg xmlns=\"http://www.w3.org/2000/svg\" xmlns:xlink=\"http://www.w3.org/1999/xlink\" width=\"100.0\" height=\"100.0\" viewBox=\"-0.04 -0.04 1.08 1.08\" preserveAspectRatio=\"xMinYMin meet\"><g transform=\"matrix(1,0,0,-1,0,1.0)\"><polyline fill=\"none\" stroke=\"#66cc99\" stroke-width=\"0.0216\" points=\"0.0,0.0 0.0,1.0 1.0,1.0\" opacity=\"0.8\" /></g></svg>",
      "text/plain": [
       "<shapely.geometry.linestring.LineString at 0x2f1c9b356d8>"
      ]
     },
     "execution_count": 16,
     "metadata": {},
     "output_type": "execute_result"
    }
   ],
   "source": [
    "# On peut créer une LineString à partir d'une liste de points\n",
    "point_11 = geometry.Point((1,1))\n",
    "line_11 = geometry.LineString([point_0, point_01, point_11])\n",
    "line_11"
   ]
  },
  {
   "cell_type": "code",
   "execution_count": 17,
   "metadata": {},
   "outputs": [
    {
     "data": {
      "text/plain": [
       "[(0.0, 0.0), (0.0, 1.0), (1.0, 1.0)]"
      ]
     },
     "execution_count": 17,
     "metadata": {},
     "output_type": "execute_result"
    }
   ],
   "source": [
    "line_11.coords[:]"
   ]
  },
  {
   "cell_type": "code",
   "execution_count": 18,
   "metadata": {},
   "outputs": [
    {
     "data": {
      "image/svg+xml": "<svg xmlns=\"http://www.w3.org/2000/svg\" xmlns:xlink=\"http://www.w3.org/1999/xlink\" width=\"100.0\" height=\"100.0\" viewBox=\"-0.04 -0.04 0.08 1.08\" preserveAspectRatio=\"xMinYMin meet\"><g transform=\"matrix(1,0,0,-1,0,1.0)\"><polyline fill=\"none\" stroke=\"#66cc99\" stroke-width=\"0.0216\" points=\"0.0,0.0 0.0,1.0\" opacity=\"0.8\" /></g></svg>",
      "text/plain": [
       "<shapely.geometry.linestring.LineString at 0x2f1c9b35320>"
      ]
     },
     "execution_count": 18,
     "metadata": {},
     "output_type": "execute_result"
    }
   ],
   "source": [
    "# On peut créer une LineString à partir d'une autre LineString\n",
    "geometry.LineString(line_01)"
   ]
  },
  {
   "cell_type": "code",
   "execution_count": 19,
   "metadata": {},
   "outputs": [
    {
     "data": {
      "image/svg+xml": "<svg xmlns=\"http://www.w3.org/2000/svg\" xmlns:xlink=\"http://www.w3.org/1999/xlink\" width=\"100.0\" height=\"100.0\" viewBox=\"-0.04 -0.04 1.08 1.08\" preserveAspectRatio=\"xMinYMin meet\"><g transform=\"matrix(1,0,0,-1,0,1.0)\"><polyline fill=\"none\" stroke=\"#66cc99\" stroke-width=\"0.0216\" points=\"0.0,0.0 0.0,1.0 1.0,1.0 0.0,0.0\" opacity=\"0.8\" /></g></svg>",
      "text/plain": [
       "<shapely.geometry.polygon.LinearRing at 0x2f1c9b35b00>"
      ]
     },
     "execution_count": 19,
     "metadata": {},
     "output_type": "execute_result"
    },
    {
     "data": {
      "text/plain": [
       "[(0.0, 0.0), (0.0, 1.0), (1.0, 1.0), (0.0, 0.0)]"
      ]
     },
     "execution_count": 19,
     "metadata": {},
     "output_type": "execute_result"
    }
   ],
   "source": [
    "# Idem pour les LinearRing\n",
    "# Restriction: elle ne doit pas s'intersecter\n",
    "geometry.LinearRing(line_11)\n",
    "geometry.LinearRing(line_11).coords[:]"
   ]
  },
  {
   "cell_type": "code",
   "execution_count": 12,
   "metadata": {},
   "outputs": [
    {
     "data": {
      "image/svg+xml": "<svg xmlns=\"http://www.w3.org/2000/svg\" xmlns:xlink=\"http://www.w3.org/1999/xlink\" width=\"100.0\" height=\"100.0\" viewBox=\"-0.06 -0.06 1.62 1.12\" preserveAspectRatio=\"xMinYMin meet\"><g transform=\"matrix(1,0,0,-1,0,1.0)\"><polyline fill=\"none\" stroke=\"#ff3333\" stroke-width=\"0.032400000000000005\" points=\"0.0,0.0 1.0,0.0 1.0,1.0 1.5,0.25 0.0,0.0\" opacity=\"0.8\" /></g></svg>",
      "text/plain": [
       "<shapely.geometry.polygon.LinearRing at 0x201b1090588>"
      ]
     },
     "execution_count": 12,
     "metadata": {},
     "output_type": "execute_result"
    }
   ],
   "source": [
    "geometry.LinearRing([(0,0), (1,0), (1,1), (1.5, 0.25)])"
   ]
  },
  {
   "cell_type": "markdown",
   "metadata": {},
   "source": [
    "Polygones"
   ]
  },
  {
   "cell_type": "code",
   "execution_count": 21,
   "metadata": {},
   "outputs": [
    {
     "data": {
      "image/svg+xml": "<svg xmlns=\"http://www.w3.org/2000/svg\" xmlns:xlink=\"http://www.w3.org/1999/xlink\" width=\"100.0\" height=\"100.0\" viewBox=\"-0.04 -0.04 1.08 1.08\" preserveAspectRatio=\"xMinYMin meet\"><g transform=\"matrix(1,0,0,-1,0,1.0)\"><path fill-rule=\"evenodd\" fill=\"#66cc99\" stroke=\"#555555\" stroke-width=\"0.0216\" opacity=\"0.6\" d=\"M 0.0,0.0 L 0.0,1.0 L 1.0,1.0 L 0.0,0.0 z\" /></g></svg>",
      "text/plain": [
       "<shapely.geometry.polygon.Polygon at 0x2f1c9b35c88>"
      ]
     },
     "execution_count": 21,
     "metadata": {},
     "output_type": "execute_result"
    }
   ],
   "source": [
    "# Un polygone se construit avec les mêmes inputs qu'un LinearRing, mais on peut en plus rajouter des trous\n",
    "geometry.Polygon(ring_01)"
   ]
  },
  {
   "cell_type": "code",
   "execution_count": 22,
   "metadata": {},
   "outputs": [
    {
     "data": {
      "image/svg+xml": "<svg xmlns=\"http://www.w3.org/2000/svg\" xmlns:xlink=\"http://www.w3.org/1999/xlink\" width=\"100.0\" height=\"100.0\" viewBox=\"-0.04 -0.04 1.08 1.08\" preserveAspectRatio=\"xMinYMin meet\"><g transform=\"matrix(1,0,0,-1,0,1.0)\"><path fill-rule=\"evenodd\" fill=\"#66cc99\" stroke=\"#555555\" stroke-width=\"0.0216\" opacity=\"0.6\" d=\"M 0.0,0.0 L 0.0,1.0 L 1.0,1.0 L 0.0,0.0 z M 0.1,0.5 L 0.1,0.7 L 0.2,0.7 L 0.2,0.5 L 0.1,0.5 z\" /></g></svg>",
      "text/plain": [
       "<shapely.geometry.polygon.Polygon at 0x2f1c9b35b38>"
      ]
     },
     "execution_count": 22,
     "metadata": {},
     "output_type": "execute_result"
    }
   ],
   "source": [
    "ring_02 = geometry.LinearRing([(0.1, 0.5), (0.1, 0.7), (0.2,0.7), (0.2, 0.5)])\n",
    "geometry.Polygon(ring_01, holes=[ring_02])"
   ]
  },
  {
   "cell_type": "markdown",
   "metadata": {},
   "source": [
    "### Application - familiarisation avec la création d'objets shapely\n",
    "\n",
    "1. Créer 3 points non-alignés\n",
    "2. Créer une courbe ouverte passant par ces trois points\n",
    "3. À partir de cette courbe ouverte, créer une courbe fermée\n",
    "4. Créer un polygone à partir de la courbe fermée obtenue\n"
   ]
  },
  {
   "cell_type": "markdown",
   "metadata": {},
   "source": [
    "### 1.2.3 Les méthodes booléennes et relations"
   ]
  },
  {
   "cell_type": "markdown",
   "metadata": {},
   "source": [
    "Contrôler les géométries:\n",
    "- is_empty, is_valid\n",
    "\n",
    "Comparer des géométries:\n",
    "- equals, almost_equals, contains, crosses, disjoint, intersects, overlaps, touches, within"
   ]
  },
  {
   "cell_type": "markdown",
   "metadata": {},
   "source": [
    "#### 1.2.3.1 Contrôler les géométries"
   ]
  },
  {
   "cell_type": "markdown",
   "metadata": {},
   "source": [
    "#### `object.is_empty`"
   ]
  },
  {
   "cell_type": "code",
   "execution_count": 23,
   "metadata": {},
   "outputs": [
    {
     "data": {
      "text/plain": [
       "False"
      ]
     },
     "execution_count": 23,
     "metadata": {},
     "output_type": "execute_result"
    },
    {
     "data": {
      "text/plain": [
       "True"
      ]
     },
     "execution_count": 23,
     "metadata": {},
     "output_type": "execute_result"
    }
   ],
   "source": [
    "point_0.is_empty\n",
    "geometry.Point().is_empty"
   ]
  },
  {
   "cell_type": "markdown",
   "metadata": {},
   "source": [
    "#### `object.is_valid`"
   ]
  },
  {
   "cell_type": "code",
   "execution_count": 24,
   "metadata": {},
   "outputs": [
    {
     "data": {
      "image/svg+xml": "<svg xmlns=\"http://www.w3.org/2000/svg\" xmlns:xlink=\"http://www.w3.org/1999/xlink\" width=\"100.0\" height=\"100.0\" viewBox=\"-0.06 -0.06 1.62 1.12\" preserveAspectRatio=\"xMinYMin meet\"><g transform=\"matrix(1,0,0,-1,0,1.0)\"><polyline fill=\"none\" stroke=\"#ff3333\" stroke-width=\"0.032400000000000005\" points=\"0.0,0.0 1.0,0.0 1.0,1.0 1.5,0.25 0.0,0.0\" opacity=\"0.8\" /></g></svg>",
      "text/plain": [
       "<shapely.geometry.polygon.LinearRing at 0x2f1c9b357f0>"
      ]
     },
     "execution_count": 24,
     "metadata": {},
     "output_type": "execute_result"
    }
   ],
   "source": [
    "geometry.LinearRing([(0,0), (1,0), (1,1), (1.5, 0.25)])"
   ]
  },
  {
   "cell_type": "code",
   "execution_count": 25,
   "metadata": {},
   "outputs": [
    {
     "data": {
      "text/plain": [
       "False"
      ]
     },
     "execution_count": 25,
     "metadata": {},
     "output_type": "execute_result"
    }
   ],
   "source": [
    "geometry.LinearRing([(0,0), (1,0), (1,1), (1.5, 0.25)]).is_valid"
   ]
  },
  {
   "cell_type": "markdown",
   "metadata": {},
   "source": [
    "#### 1.2.3.1 Contrôler les géométries"
   ]
  },
  {
   "cell_type": "markdown",
   "metadata": {},
   "source": [
    "#### `object.equals`"
   ]
  },
  {
   "cell_type": "code",
   "execution_count": 26,
   "metadata": {},
   "outputs": [
    {
     "data": {
      "text/plain": [
       "[(0.0, 0.0)]"
      ]
     },
     "execution_count": 26,
     "metadata": {},
     "output_type": "execute_result"
    },
    {
     "data": {
      "text/plain": [
       "True"
      ]
     },
     "execution_count": 26,
     "metadata": {},
     "output_type": "execute_result"
    },
    {
     "data": {
      "text/plain": [
       "True"
      ]
     },
     "execution_count": 26,
     "metadata": {},
     "output_type": "execute_result"
    }
   ],
   "source": [
    "point_0.coords[:]\n",
    "point_0.equals(point_0)\n",
    "point_0_copy = geometry.Point(point_0)\n",
    "point_0.equals(point_0_copy)"
   ]
  },
  {
   "cell_type": "markdown",
   "metadata": {},
   "source": [
    "#### `object.almost_equals`"
   ]
  },
  {
   "cell_type": "code",
   "execution_count": 27,
   "metadata": {},
   "outputs": [
    {
     "data": {
      "text/plain": [
       "[(0.0, 0.0)]"
      ]
     },
     "execution_count": 27,
     "metadata": {},
     "output_type": "execute_result"
    },
    {
     "data": {
      "text/plain": [
       "False"
      ]
     },
     "execution_count": 27,
     "metadata": {},
     "output_type": "execute_result"
    }
   ],
   "source": [
    "point_0.coords[:]\n",
    "point_0.almost_equals(\n",
    "    geometry.Point((0,0.01)),\n",
    "    decimal=2  # On peut paramétrer la précision\n",
    ")"
   ]
  },
  {
   "cell_type": "markdown",
   "metadata": {},
   "source": [
    "#### `object.contains`"
   ]
  },
  {
   "cell_type": "code",
   "execution_count": 28,
   "metadata": {},
   "outputs": [
    {
     "data": {
      "image/svg+xml": "<svg xmlns=\"http://www.w3.org/2000/svg\" xmlns:xlink=\"http://www.w3.org/1999/xlink\" width=\"100.0\" height=\"100.0\" viewBox=\"-0.04 -0.04 1.08 1.08\" preserveAspectRatio=\"xMinYMin meet\"><g transform=\"matrix(1,0,0,-1,0,1.0)\"><path fill-rule=\"evenodd\" fill=\"#66cc99\" stroke=\"#555555\" stroke-width=\"0.0216\" opacity=\"0.6\" d=\"M 0.0,0.0 L 0.0,1.0 L 1.0,1.0 L 0.0,0.0 z\" /></g></svg>",
      "text/plain": [
       "<shapely.geometry.polygon.Polygon at 0x2f1c9b35438>"
      ]
     },
     "execution_count": 28,
     "metadata": {},
     "output_type": "execute_result"
    },
    {
     "data": {
      "text/plain": [
       "True"
      ]
     },
     "execution_count": 28,
     "metadata": {},
     "output_type": "execute_result"
    }
   ],
   "source": [
    "triangle\n",
    "triangle.contains(geometry.Point((0.1,0.2)))"
   ]
  },
  {
   "cell_type": "markdown",
   "metadata": {},
   "source": [
    "#### `object.crosses`\n",
    "#### `object.disjoint`\n",
    "#### `object.intersects`\n",
    "#### `object.overlaps`\n",
    "#### `object.touches`\n",
    "#### `object.within`"
   ]
  },
  {
   "cell_type": "markdown",
   "metadata": {},
   "source": [
    "### 1.2.4 Les méthodes constructives"
   ]
  },
  {
   "cell_type": "markdown",
   "metadata": {},
   "source": [
    "#### `object.buffer(radius)`"
   ]
  },
  {
   "cell_type": "code",
   "execution_count": 29,
   "metadata": {},
   "outputs": [
    {
     "data": {
      "image/svg+xml": "<svg xmlns=\"http://www.w3.org/2000/svg\" xmlns:xlink=\"http://www.w3.org/1999/xlink\" width=\"100.0\" height=\"100.0\" viewBox=\"-1.08 -1.08 2.16 2.16\" preserveAspectRatio=\"xMinYMin meet\"><g transform=\"matrix(1,0,0,-1,0,0.0)\"><path fill-rule=\"evenodd\" fill=\"#66cc99\" stroke=\"#555555\" stroke-width=\"0.0432\" opacity=\"0.6\" d=\"M 1.0,0.0 L 0.9951847266721969,-0.0980171403295605 L 0.9807852804032305,-0.19509032201612808 L 0.9569403357322089,-0.2902846772544621 L 0.923879532511287,-0.3826834323650894 L 0.8819212643483553,-0.4713967368259972 L 0.8314696123025456,-0.5555702330196017 L 0.7730104533627374,-0.6343932841636449 L 0.7071067811865481,-0.7071067811865469 L 0.6343932841636462,-0.7730104533627363 L 0.5555702330196031,-0.8314696123025447 L 0.4713967368259986,-0.8819212643483545 L 0.38268343236509084,-0.9238795325112863 L 0.2902846772544636,-0.9569403357322085 L 0.19509032201612964,-0.9807852804032302 L 0.09801714032956209,-0.9951847266721967 L 1.6155445744325867e-15,-1.0 L -0.09801714032955888,-0.995184726672197 L -0.19509032201612647,-0.9807852804032308 L -0.2902846772544605,-0.9569403357322095 L -0.38268343236508784,-0.9238795325112875 L -0.4713967368259957,-0.881921264348356 L -0.5555702330196005,-0.8314696123025463 L -0.6343932841636439,-0.7730104533627382 L -0.7071067811865462,-0.7071067811865489 L -0.7730104533627359,-0.6343932841636468 L -0.8314696123025443,-0.5555702330196036 L -0.8819212643483543,-0.47139673682599903 L -0.9238795325112862,-0.3826834323650911 L -0.9569403357322085,-0.29028467725446366 L -0.9807852804032302,-0.19509032201612947 L -0.9951847266721968,-0.09801714032956171 L -1.0,-1.0106430996148606e-15 L -0.9951847266721969,0.0980171403295597 L -0.9807852804032307,0.1950903220161275 L -0.956940335732209,0.2902846772544617 L -0.923879532511287,0.3826834323650892 L -0.8819212643483553,0.47139673682599725 L -0.8314696123025455,0.555570233019602 L -0.7730104533627371,0.6343932841636453 L -0.7071067811865477,0.7071067811865475 L -0.6343932841636459,0.7730104533627367 L -0.555570233019603,0.8314696123025448 L -0.4713967368259987,0.8819212643483545 L -0.38268343236509117,0.9238795325112862 L -0.2902846772544641,0.9569403357322084 L -0.1950903220161304,0.98078528040323 L -0.0980171403295631,0.9951847266721966 L -2.848232278972479e-15,1.0 L 0.09801714032955743,0.9951847266721972 L 0.1950903220161248,0.9807852804032311 L 0.29028467725445867,0.9569403357322099 L 0.3826834323650859,0.9238795325112884 L 0.47139673682599365,0.8819212643483572 L 0.5555702330195982,0.8314696123025479 L 0.6343932841636415,0.7730104533627402 L 0.7071067811865436,0.7071067811865515 L 0.7730104533627332,0.63439328416365 L 0.8314696123025418,0.5555702330196074 L 0.8819212643483519,0.4713967368260034 L 0.9238795325112841,0.38268343236509617 L 0.9569403357322067,0.29028467725446927 L 0.980785280403229,0.1950903220161357 L 0.9951847266721962,0.09801714032956847 L 1.0,8.238535137130597e-15 L 1.0,0.0 z\" /></g></svg>",
      "text/plain": [
       "<shapely.geometry.polygon.Polygon at 0x2f1c9b35da0>"
      ]
     },
     "execution_count": 29,
     "metadata": {},
     "output_type": "execute_result"
    }
   ],
   "source": [
    "point_0.buffer(1)"
   ]
  },
  {
   "cell_type": "code",
   "execution_count": 30,
   "metadata": {},
   "outputs": [
    {
     "data": {
      "image/svg+xml": "<svg xmlns=\"http://www.w3.org/2000/svg\" xmlns:xlink=\"http://www.w3.org/1999/xlink\" width=\"100.0\" height=\"100.0\" viewBox=\"-0.14800000000000002 -0.14800000000000002 0.29600000000000004 1.2960000000000003\" preserveAspectRatio=\"xMinYMin meet\"><g transform=\"matrix(1,0,0,-1,0,1.0)\"><path fill-rule=\"evenodd\" fill=\"#66cc99\" stroke=\"#555555\" stroke-width=\"0.025920000000000006\" opacity=\"0.6\" d=\"M -0.1,1.0 L -0.09951847266721968,1.0098017140329563 L -0.09807852804032302,1.019509032201613 L -0.09569403357322084,1.0290284677254464 L -0.09238795325112863,1.0382683432365092 L -0.08819212643483545,1.0471396736826 L -0.08314696123025446,1.0555570233019602 L -0.07730104533627362,1.0634393284163646 L -0.07071067811865468,1.0707106781186548 L -0.0634393284163645,1.0773010453362737 L -0.05555702330196016,1.0831469612302547 L -0.04713967368259969,1.0881921264348355 L -0.038268343236508934,1.0923879532511287 L -0.029028467725446202,1.0956940335732208 L -0.0195090322016128,1.0980785280403231 L -0.009801714032956044,1.0995184726672198 L 6.123233995736766e-18,1.1 L 0.009801714032956056,1.0995184726672198 L 0.019509032201612812,1.0980785280403231 L 0.029028467725446212,1.0956940335732208 L 0.03826834323650894,1.0923879532511287 L 0.0471396736825997,1.0881921264348355 L 0.055557023301960134,1.0831469612302547 L 0.06343932841636445,1.0773010453362737 L 0.07071067811865464,1.0707106781186548 L 0.07730104533627358,1.0634393284163648 L 0.08314696123025439,1.0555570233019604 L 0.08819212643483537,1.0471396736826 L 0.09238795325112856,1.0382683432365092 L 0.09569403357322079,1.0290284677254466 L 0.09807852804032298,1.0195090322016132 L 0.09951847266721965,1.0098017140329565 L 0.1,1.0000000000000004 L 0.1,0.0 L 0.09951847266721968,-0.009801714032956203 L 0.09807852804032302,-0.019509032201612958 L 0.09569403357322086,-0.029028467725446358 L 0.09238795325112864,-0.03826834323650908 L 0.08819212643483547,-0.04713967368259986 L 0.08314696123025449,-0.0555570233019603 L 0.07730104533627365,-0.06343932841636461 L 0.07071067811865471,-0.07071067811865481 L 0.0634393284163645,-0.07730104533627374 L 0.05555702330196019,-0.08314696123025456 L 0.04713967368259974,-0.08819212643483552 L 0.03826834323650896,-0.0923879532511287 L 0.029028467725446233,-0.0956940335732209 L 0.019509032201612833,-0.09807852804032305 L 0.009801714032956078,-0.09951847266721969 L 2.8327694488239897e-17,-0.1 L -0.009801714032956021,-0.09951847266721969 L -0.019509032201612778,-0.09807852804032306 L -0.029028467725446178,-0.09569403357322091 L -0.038268343236508906,-0.09238795325112871 L -0.04713967368259969,-0.08819212643483554 L -0.05555702330196012,-0.0831469612302546 L -0.06343932841636445,-0.0773010453362738 L -0.07071067811865463,-0.07071067811865489 L -0.07730104533627356,-0.06343932841636472 L -0.08314696123025439,-0.05555702330196043 L -0.08819212643483537,-0.047139673682600025 L -0.09238795325112856,-0.038268343236509274 L -0.09569403357322079,-0.02902846772544658 L -0.09807852804032297,-0.019509032201613208 L -0.09951847266721965,-0.00980171403295648 L -0.1,-4.563356778415362e-16 L -0.1,1.0 z\" /></g></svg>",
      "text/plain": [
       "<shapely.geometry.polygon.Polygon at 0x2f1c9b359e8>"
      ]
     },
     "execution_count": 30,
     "metadata": {},
     "output_type": "execute_result"
    }
   ],
   "source": [
    "line_01.buffer(0.1)"
   ]
  },
  {
   "cell_type": "code",
   "execution_count": 31,
   "metadata": {},
   "outputs": [
    {
     "data": {
      "image/svg+xml": "<svg xmlns=\"http://www.w3.org/2000/svg\" xmlns:xlink=\"http://www.w3.org/1999/xlink\" width=\"100.0\" height=\"100.0\" viewBox=\"-0.14800000000000002 -0.14800000000000002 1.2960000000000003 1.2960000000000003\" preserveAspectRatio=\"xMinYMin meet\"><g transform=\"matrix(1,0,0,-1,0,1.0)\"><path fill-rule=\"evenodd\" fill=\"#66cc99\" stroke=\"#555555\" stroke-width=\"0.025920000000000006\" opacity=\"0.6\" d=\"M -0.1,0.0 L -0.1,1.0 L -0.09951847267,1.00980171403 L -0.09807852804,1.0195090322 L -0.09569403357,1.02902846773 L -0.09238795325,1.03826834324 L -0.08819212643,1.04713967368 L -0.08314696123,1.0555570233 L -0.07730104534,1.06343932842 L -0.07071067812,1.07071067812 L -0.06343932842,1.07730104534 L -0.0555570233,1.08314696123 L -0.04713967368,1.08819212643 L -0.03826834324,1.09238795325 L -0.02902846773,1.09569403357 L -0.0195090322,1.09807852804 L -0.00980171403,1.09951847267 L 0.0,1.1 L 1.0,1.1 L 1.00980171403,1.09951847267 L 1.0195090322,1.09807852804 L 1.02902846773,1.09569403357 L 1.03826834324,1.09238795325 L 1.04713967368,1.08819212643 L 1.0555570233,1.08314696123 L 1.06343932842,1.07730104534 L 1.07071067812,1.07071067812 L 1.07730104534,1.06343932842 L 1.08314696123,1.0555570233 L 1.08819212643,1.04713967368 L 1.09238795325,1.03826834324 L 1.09569403357,1.02902846773 L 1.09807852804,1.0195090322 L 1.09951847267,1.00980171403 L 1.1,1.0 L 1.09951847267,0.99019828597 L 1.09807852804,0.9804909678 L 1.09569403357,0.97097153227 L 1.09238795325,0.96173165676 L 1.08819212643,0.95286032632 L 1.08314696123,0.9444429767 L 1.07730104534,0.93656067158 L 1.07071067812,0.92928932188 L 0.07071067812,-0.07071067812 L 0.06343932842,-0.07730104534 L 0.0555570233,-0.08314696123 L 0.04713967368,-0.08819212643 L 0.03826834324,-0.09238795325 L 0.02902846773,-0.09569403357 L 0.0195090322,-0.09807852804 L 0.00980171403,-0.09951847267 L 0.0,-0.1 L -0.00980171403,-0.09951847267 L -0.0195090322,-0.09807852804 L -0.02902846773,-0.09569403357 L -0.03826834324,-0.09238795325 L -0.04713967368,-0.08819212643 L -0.0555570233,-0.08314696123 L -0.06343932842,-0.07730104534 L -0.07071067812,-0.07071067812 L -0.07730104534,-0.06343932842 L -0.08314696123,-0.0555570233 L -0.08819212643,-0.04713967368 L -0.09238795325,-0.03826834324 L -0.09569403357,-0.02902846773 L -0.09807852804,-0.0195090322 L -0.09951847267,-0.00980171403 L -0.1,0.0 z M 0.1,0.24142135624 L 0.75857864376,0.9 L 0.1,0.9 L 0.1,0.24142135624 z\" /></g></svg>",
      "text/plain": [
       "<shapely.geometry.polygon.Polygon at 0x2f1c9b35c50>"
      ]
     },
     "execution_count": 31,
     "metadata": {},
     "output_type": "execute_result"
    }
   ],
   "source": [
    "ring_01.buffer(0.1)"
   ]
  },
  {
   "cell_type": "code",
   "execution_count": 32,
   "metadata": {},
   "outputs": [
    {
     "data": {
      "image/svg+xml": "<svg xmlns=\"http://www.w3.org/2000/svg\" xmlns:xlink=\"http://www.w3.org/1999/xlink\" width=\"100.0\" height=\"100.0\" viewBox=\"-0.0939975880070856 -0.09393728818422553 1.187934876191311 1.187934876191311\" preserveAspectRatio=\"xMinYMin meet\"><g transform=\"matrix(1,0,0,-1,0,1.00006029982286)\"><path fill-rule=\"evenodd\" fill=\"#66cc99\" stroke=\"#555555\" stroke-width=\"0.02375869752382622\" opacity=\"0.6\" d=\"M 0.0,-0.04993970017713994 L -0.004894946596579469,-0.049699226872376163 L -0.009742752176773976,-0.0489801228427938 L -0.014496729753304703,-0.04778931345015521 L -0.019111095867712837,-0.046138266855035054 L -0.02354141169544755,-0.044042883519152934 L -0.027745010885054343,-0.041523343128937754 L -0.031681410414324346,-0.038603910271770195 L -0.0353127006471427,-0.0353127006471427 L -0.038603910271770195,-0.031681410414324346 L -0.041523343128937754,-0.027745010885054343 L -0.044042883519152934,-0.02354141169544755 L -0.046138266855035054,-0.019111095867712837 L -0.04778931345015521,-0.014496729753304703 L -0.0489801228427938,-0.009742752176773976 L -0.049699226872376163,-0.004894946596579469 L -0.05,0.0012274310987374255 L -0.05,0.9987725689012625 L -0.049699226872376163,1.0048949465965795 L -0.04898012284279381,1.009742752176774 L -0.04778931345015528,1.0144967297533043 L -0.04613826685503498,1.019111095867713 L -0.0440428835191528,1.0235414116954478 L -0.04152334312893759,1.0277450108850548 L -0.03860391027177029,1.0316814104143244 L -0.035312700647142516,1.035312700647143 L -0.03168141041432497,1.0386039102717697 L -0.027745010885054305,1.0415233431289377 L -0.023541411695447285,1.044042883519153 L -0.01911109586771335,1.046138266855035 L -0.014496729753304915,1.0477893134501552 L -0.009742752176773435,1.048980122842794 L -0.0048949465965790456,1.0496992268723762 L 0.0012274310987360126,1.05 L 0.998772568901264,1.05 L 1.004894946596579,1.0496992268723762 L 1.0097427521767732,1.048980122842794 L 1.0144967297533054,1.047789313450155 L 1.0191110958677123,1.0461382668550352 L 1.0235414116954482,1.0440428835191526 L 1.0277450108850545,1.0415233431289377 L 1.0316814104143242,1.0386039102717703 L 1.0353127006471428,1.0353127006471428 L 1.0386039102717703,1.0316814104143242 L 1.0415233431289377,1.0277450108850545 L 1.0440428835191526,1.0235414116954482 L 1.0461382668550352,1.0191110958677123 L 1.047789313450155,1.0144967297533054 L 1.048980122842794,1.0097427521767732 L 1.0496992268723762,1.004894946596579 L 1.04993970017714,1.0 L 1.0496992268723762,0.9951050534034209 L 1.048980122842794,0.9902572478232264 L 1.0477893134501552,0.9855032702466956 L 1.0461382668550352,0.9808889041322875 L 1.0440428835191526,0.976458588304552 L 1.0415233431289375,0.9722549891149452 L 1.03860391027177,0.9683185895856752 L 1.0344874142085252,0.9637767360871798 L 0.036223263912820984,-0.034487414208524254 L 0.031681410414324346,-0.038603910271770195 L 0.027745010885054343,-0.041523343128937754 L 0.02354141169544755,-0.044042883519152934 L 0.019111095867712837,-0.046138266855035054 L 0.014496729753304703,-0.04778931345015521 L 0.009742752176773976,-0.0489801228427938 L 0.004894946596579469,-0.049699226872376163 L 0.0,-0.04993970017713994 z\" /></g></svg>",
      "text/plain": [
       "<shapely.geometry.polygon.Polygon at 0x2f1c9b35be0>"
      ]
     },
     "execution_count": 32,
     "metadata": {},
     "output_type": "execute_result"
    }
   ],
   "source": [
    "ring_01.buffer(0.1).buffer(-0.05).convex_hull"
   ]
  },
  {
   "cell_type": "markdown",
   "metadata": {},
   "source": [
    "Remarque : on peut parfois utiliser un buffer nul pour nettoyer une géométrie"
   ]
  },
  {
   "cell_type": "code",
   "execution_count": 33,
   "metadata": {},
   "outputs": [
    {
     "data": {
      "image/svg+xml": "<svg xmlns=\"http://www.w3.org/2000/svg\" xmlns:xlink=\"http://www.w3.org/1999/xlink\" width=\"100.0\" height=\"100.0\" viewBox=\"-0.08 -0.08 2.16 2.16\" preserveAspectRatio=\"xMinYMin meet\"><g transform=\"matrix(1,0,0,-1,0,2.0)\"><path fill-rule=\"evenodd\" fill=\"#ff3333\" stroke=\"#555555\" stroke-width=\"0.0432\" opacity=\"0.6\" d=\"M 0.0,0.0 L 0.0,2.0 L 1.0,1.0 L 2.0,2.0 L 2.0,0.0 L 1.0,1.0 L 0.0,0.0 z\" /></g></svg>",
      "text/plain": [
       "<shapely.geometry.polygon.Polygon at 0x2f1c9b58828>"
      ]
     },
     "execution_count": 33,
     "metadata": {},
     "output_type": "execute_result"
    },
    {
     "data": {
      "text/plain": [
       "False"
      ]
     },
     "execution_count": 33,
     "metadata": {},
     "output_type": "execute_result"
    }
   ],
   "source": [
    "coords = [(0, 0), (0, 2), (1, 1), (2, 2), (2, 0), (1, 1), (0, 0)]\n",
    "bowtie = geometry.Polygon(coords)\n",
    "bowtie\n",
    "bowtie.is_valid"
   ]
  },
  {
   "cell_type": "code",
   "execution_count": 34,
   "metadata": {},
   "outputs": [
    {
     "data": {
      "image/svg+xml": "<svg xmlns=\"http://www.w3.org/2000/svg\" xmlns:xlink=\"http://www.w3.org/1999/xlink\" width=\"100.0\" height=\"100.0\" viewBox=\"-0.08 -0.08 2.16 2.16\" preserveAspectRatio=\"xMinYMin meet\"><g transform=\"matrix(1,0,0,-1,0,2.0)\"><g><path fill-rule=\"evenodd\" fill=\"#66cc99\" stroke=\"#555555\" stroke-width=\"0.0432\" opacity=\"0.6\" d=\"M 0.0,0.0 L 0.0,2.0 L 1.0,1.0 L 0.0,0.0 z\" /><path fill-rule=\"evenodd\" fill=\"#66cc99\" stroke=\"#555555\" stroke-width=\"0.0432\" opacity=\"0.6\" d=\"M 1.0,1.0 L 2.0,2.0 L 2.0,0.0 L 1.0,1.0 z\" /></g></g></svg>",
      "text/plain": [
       "<shapely.geometry.multipolygon.MultiPolygon at 0x2f1c9b584a8>"
      ]
     },
     "execution_count": 34,
     "metadata": {},
     "output_type": "execute_result"
    },
    {
     "data": {
      "text/plain": [
       "True"
      ]
     },
     "execution_count": 34,
     "metadata": {},
     "output_type": "execute_result"
    },
    {
     "data": {
      "text/plain": [
       "'MultiPolygon'"
      ]
     },
     "execution_count": 34,
     "metadata": {},
     "output_type": "execute_result"
    }
   ],
   "source": [
    "bowtie.buffer(0)\n",
    "bowtie.buffer(0).is_valid\n",
    "bowtie.buffer(0).geom_type"
   ]
  },
  {
   "cell_type": "code",
   "execution_count": 35,
   "metadata": {},
   "outputs": [
    {
     "data": {
      "image/svg+xml": "<svg xmlns=\"http://www.w3.org/2000/svg\" xmlns:xlink=\"http://www.w3.org/1999/xlink\" width=\"100.0\" height=\"100.0\" viewBox=\"-0.08 -0.08 1.1600000000000001 2.16\" preserveAspectRatio=\"xMinYMin meet\"><g transform=\"matrix(1,0,0,-1,0,2.0)\"><path fill-rule=\"evenodd\" fill=\"#66cc99\" stroke=\"#555555\" stroke-width=\"0.0432\" opacity=\"0.6\" d=\"M 0.0,0.0 L 0.0,2.0 L 1.0,1.0 L 0.0,0.0 z\" /></g></svg>",
      "text/plain": [
       "<shapely.geometry.polygon.Polygon at 0x2f1c9b585c0>"
      ]
     },
     "execution_count": 35,
     "metadata": {},
     "output_type": "execute_result"
    },
    {
     "data": {
      "image/svg+xml": "<svg xmlns=\"http://www.w3.org/2000/svg\" xmlns:xlink=\"http://www.w3.org/1999/xlink\" width=\"100.0\" height=\"100.0\" viewBox=\"0.92 -0.08 1.1600000000000001 2.16\" preserveAspectRatio=\"xMinYMin meet\"><g transform=\"matrix(1,0,0,-1,0,2.0)\"><path fill-rule=\"evenodd\" fill=\"#66cc99\" stroke=\"#555555\" stroke-width=\"0.0432\" opacity=\"0.6\" d=\"M 1.0,1.0 L 2.0,2.0 L 2.0,0.0 L 1.0,1.0 z\" /></g></svg>",
      "text/plain": [
       "<shapely.geometry.polygon.Polygon at 0x2f1c9b58320>"
      ]
     },
     "execution_count": 35,
     "metadata": {},
     "output_type": "execute_result"
    }
   ],
   "source": [
    "bowtie.buffer(0)[0]\n",
    "bowtie.buffer(0)[1]"
   ]
  },
  {
   "cell_type": "markdown",
   "metadata": {
    "collapsed": true
   },
   "source": [
    "#### `object.convex_hull` \n",
    "#### `object.envelope`"
   ]
  },
  {
   "cell_type": "markdown",
   "metadata": {},
   "source": [
    "### Application\n"
   ]
  },
  {
   "cell_type": "code",
   "execution_count": 36,
   "metadata": {
    "collapsed": true
   },
   "outputs": [],
   "source": [
    "import geopandas as gpd\n",
    "training_folder = r'../'\n",
    "gis_folder = training_folder +'gis/'\n",
    "idf_geodf = gpd.read_file(gis_folder + 'idf/idf_geodf.shp')\n",
    "polygon1 = idf_geodf.geometry[1]\n",
    "polygon2 = idf_geodf.geometry[2]"
   ]
  },
  {
   "cell_type": "markdown",
   "metadata": {},
   "source": [
    "0. Comparer les polygônes : est-ce qu'ils se touchent ? se chevauchent ?\n",
    "1. À l'aide de la méthode `bounds`, créer un point situé dans le polygône\n",
    "2. Confirmer avec une méthode que le point créé est bien dans le polygône"
   ]
  },
  {
   "cell_type": "markdown",
   "metadata": {},
   "source": [
    "\n",
    "## 1.4 Méthodes d'analyse spatiale"
   ]
  },
  {
   "cell_type": "markdown",
   "metadata": {},
   "source": [
    "#### object.boundary\n",
    "--> renvoie un objet de dimension inférieure correspondant à la frontière de l'objet"
   ]
  },
  {
   "cell_type": "code",
   "execution_count": 37,
   "metadata": {},
   "outputs": [
    {
     "data": {
      "image/svg+xml": "<svg xmlns=\"http://www.w3.org/2000/svg\" xmlns:xlink=\"http://www.w3.org/1999/xlink\" width=\"100.0\" height=\"100.0\" viewBox=\"-1.08 -0.08 2.16 1.1600000000000001\" preserveAspectRatio=\"xMinYMin meet\"><g transform=\"matrix(1,0,0,-1,0,1.0)\"><g><circle cx=\"-1.0\" cy=\"0.0\" r=\"0.0648\" stroke=\"#555555\" stroke-width=\"0.0216\" fill=\"#66cc99\" opacity=\"0.6\" /><circle cx=\"0.0\" cy=\"0.0\" r=\"0.0648\" stroke=\"#555555\" stroke-width=\"0.0216\" fill=\"#66cc99\" opacity=\"0.6\" /><circle cx=\"1.0\" cy=\"0.0\" r=\"0.0648\" stroke=\"#555555\" stroke-width=\"0.0216\" fill=\"#66cc99\" opacity=\"0.6\" /><circle cx=\"1.0\" cy=\"1.0\" r=\"0.0648\" stroke=\"#555555\" stroke-width=\"0.0216\" fill=\"#66cc99\" opacity=\"0.6\" /></g></g></svg>",
      "text/plain": [
       "<shapely.geometry.multipoint.MultiPoint at 0x2f1c9b58b00>"
      ]
     },
     "execution_count": 37,
     "metadata": {},
     "output_type": "execute_result"
    }
   ],
   "source": [
    "coords = [((0, 0), (1, 1)), ((-1, 0), (1, 0))]\n",
    "lines = geometry.MultiLineString(coords)\n",
    "lines.boundary"
   ]
  },
  {
   "cell_type": "code",
   "execution_count": 38,
   "metadata": {},
   "outputs": [
    {
     "name": "stdout",
     "output_type": "stream",
     "text": [
      "MULTIPOINT (-1 0, 0 0, 1 0, 1 1)\n"
     ]
    }
   ],
   "source": [
    "print(lines.boundary)"
   ]
  },
  {
   "cell_type": "code",
   "execution_count": 39,
   "metadata": {},
   "outputs": [
    {
     "data": {
      "image/svg+xml": "<svg xmlns=\"http://www.w3.org/2000/svg\" xmlns:xlink=\"http://www.w3.org/1999/xlink\" width=\"100.0\" height=\"100.0\" viewBox=\"-10.8 -10.8 21.6 21.6\" preserveAspectRatio=\"xMinYMin meet\"><g transform=\"matrix(1,0,0,-1,0,0.0)\"><polyline fill=\"none\" stroke=\"#66cc99\" stroke-width=\"0.43200000000000005\" points=\"10.0,0.0 9.95184726672197,-0.980171403295605 9.807852804032306,-1.9509032201612808 9.56940335732209,-2.902846772544621 9.23879532511287,-3.826834323650894 8.819212643483553,-4.713967368259972 8.314696123025456,-5.555702330196017 7.730104533627374,-6.343932841636449 7.071067811865481,-7.071067811865469 6.3439328416364615,-7.7301045336273635 5.555702330196031,-8.314696123025447 4.713967368259986,-8.819212643483546 3.8268343236509086,-9.238795325112862 2.902846772544636,-9.569403357322084 1.9509032201612964,-9.807852804032303 0.9801714032956209,-9.951847266721966 1.6155445744325867e-14,-10.0 -0.9801714032955888,-9.95184726672197 -1.9509032201612646,-9.807852804032308 -2.902846772544605,-9.569403357322095 -3.8268343236508784,-9.238795325112875 -4.713967368259957,-8.81921264348356 -5.555702330196005,-8.314696123025463 -6.343932841636439,-7.730104533627382 -7.071067811865462,-7.071067811865489 -7.730104533627359,-6.343932841636468 -8.314696123025444,-5.555702330196036 -8.819212643483542,-4.71396736825999 -9.238795325112862,-3.8268343236509113 -9.569403357322084,-2.9028467725446365 -9.807852804032303,-1.9509032201612948 -9.951847266721968,-0.9801714032956171 -10.0,-1.0106430996148605e-14 -9.95184726672197,0.980171403295597 -9.807852804032306,1.950903220161275 -9.569403357322091,2.902846772544617 -9.23879532511287,3.826834323650892 -8.819212643483553,4.713967368259972 -8.314696123025454,5.55570233019602 -7.730104533627371,6.343932841636453 -7.071067811865477,7.071067811865475 -6.343932841636459,7.730104533627367 -5.55570233019603,8.314696123025447 -4.713967368259987,8.819212643483546 -3.8268343236509117,9.238795325112862 -2.902846772544641,9.569403357322084 -1.9509032201613041,9.8078528040323 -0.980171403295631,9.951847266721966 -2.848232278972479e-14,10.0 0.9801714032955743,9.951847266721972 1.9509032201612482,9.807852804032311 2.902846772544587,9.569403357322098 3.826834323650859,9.238795325112884 4.713967368259937,8.81921264348357 5.555702330195982,8.31469612302548 6.3439328416364145,7.730104533627403 7.0710678118654355,7.071067811865515 7.730104533627332,6.343932841636501 8.314696123025417,5.555702330196074 8.81921264348352,4.713967368260034 9.238795325112841,3.826834323650962 9.569403357322066,2.9028467725446925 9.80785280403229,1.950903220161357 9.95184726672196,0.9801714032956848 10.0,8.238535137130597e-14 10.0,0.0\" opacity=\"0.8\" /></g></svg>",
      "text/plain": [
       "<shapely.geometry.linestring.LineString at 0x2f1c9b58ac8>"
      ]
     },
     "execution_count": 39,
     "metadata": {},
     "output_type": "execute_result"
    }
   ],
   "source": [
    "point = geometry.Point([0,0])\n",
    "point.buffer(10).boundary"
   ]
  },
  {
   "cell_type": "code",
   "execution_count": 40,
   "metadata": {},
   "outputs": [
    {
     "data": {
      "text/plain": [
       "'LineString'"
      ]
     },
     "execution_count": 40,
     "metadata": {},
     "output_type": "execute_result"
    }
   ],
   "source": [
    "point.buffer(10).boundary.geom_type"
   ]
  },
  {
   "cell_type": "markdown",
   "metadata": {},
   "source": [
    "#### object.centroid\n",
    "--> renvoie le centroïde de l'objet"
   ]
  },
  {
   "cell_type": "code",
   "execution_count": 41,
   "metadata": {},
   "outputs": [
    {
     "data": {
      "text/plain": [
       "[(-3.1710007649913253e-16, 2.19369662735812e-15)]"
      ]
     },
     "execution_count": 41,
     "metadata": {},
     "output_type": "execute_result"
    },
    {
     "data": {
      "text/plain": [
       "False"
      ]
     },
     "execution_count": 41,
     "metadata": {},
     "output_type": "execute_result"
    },
    {
     "data": {
      "text/plain": [
       "True"
      ]
     },
     "execution_count": 41,
     "metadata": {},
     "output_type": "execute_result"
    }
   ],
   "source": [
    "center = point.buffer(10).boundary.centroid\n",
    "center.coords[:]\n",
    "point.equals(center)\n",
    "point.almost_equals(center)"
   ]
  },
  {
   "cell_type": "code",
   "execution_count": 42,
   "metadata": {},
   "outputs": [
    {
     "data": {
      "text/plain": [
       "[(0.20710678118654754, 0.20710678118654754)]"
      ]
     },
     "execution_count": 42,
     "metadata": {},
     "output_type": "execute_result"
    }
   ],
   "source": [
    "lines.centroid.coords[:]"
   ]
  },
  {
   "cell_type": "markdown",
   "metadata": {},
   "source": [
    "#### object.difference(other)"
   ]
  },
  {
   "cell_type": "code",
   "execution_count": 43,
   "metadata": {},
   "outputs": [
    {
     "data": {
      "image/svg+xml": "<svg xmlns=\"http://www.w3.org/2000/svg\" xmlns:xlink=\"http://www.w3.org/1999/xlink\" width=\"100.0\" height=\"100.0\" viewBox=\"-0.08 -0.08 2.16 2.16\" preserveAspectRatio=\"xMinYMin meet\"><g transform=\"matrix(1,0,0,-1,0,2.0)\"><path fill-rule=\"evenodd\" fill=\"#66cc99\" stroke=\"#555555\" stroke-width=\"0.0432\" opacity=\"0.6\" d=\"M 2.0,1.0 L 1.995184726672197,0.9019828596704395 L 1.9807852804032304,0.8049096779838719 L 1.956940335732209,0.709715322745538 L 1.923879532511287,0.6173165676349106 L 1.8819212643483554,0.5286032631740027 L 1.8314696123025456,0.44442976698039827 L 1.7730104533627373,0.36560671583635507 L 1.7071067811865481,0.2928932188134531 L 1.6343932841636462,0.22698954663726367 L 1.555570233019603,0.16853038769745532 L 1.4713967368259986,0.1180787356516455 L 1.382683432365091,0.0761204674887137 L 1.2902846772544636,0.04305966426779151 L 1.1950903220161297,0.01921471959676979 L 1.098017140329562,0.004815273327803293 L 1.0000000000000016,0.0 L 0.9019828596704411,0.00481527332780296 L 0.8049096779838736,0.019214719596769236 L 0.7097153227455395,0.04305966426779051 L 0.6173165676349122,0.07612046748871248 L 0.5286032631740043,0.11807873565164395 L 0.4444297669803995,0.16853038769745365 L 0.36560671583635607,0.22698954663726179 L 0.29289321881345376,0.2928932188134511 L 0.22698954663726412,0.3656067158363532 L 0.16853038769745565,0.4444297669803964 L 0.11807873565164573,0.528603263174001 L 0.07612046748871382,0.6173165676349088 L 0.04305966426779151,0.7097153227455364 L 0.01921471959676979,0.8049096779838705 L 0.004815273327803182,0.9019828596704382 L 0.0,0.999999999999999 L 0.004815273327803071,1.0980171403295598 L 0.019214719596769347,1.1950903220161275 L 0.043059664267790954,1.2902846772544616 L 0.07612046748871304,1.3826834323650892 L 0.11807873565164473,1.4713967368259973 L 0.16853038769745454,1.555570233019602 L 0.2269895466372629,1.6343932841636453 L 0.2928932188134523,1.7071067811865475 L 0.36560671583635407,1.7730104533627367 L 0.44442976698039705,1.831469612302545 L 0.5286032631740013,1.8819212643483545 L 0.6173165676349088,1.923879532511286 L 0.709715322745536,1.9569403357322084 L 0.8049096779838696,1.98078528040323 L 0.9019828596704369,1.9951847266721967 L 0.9999999999999971,2.0 L 1.0980171403295573,1.9951847266721972 L 1.1950903220161249,1.980785280403231 L 1.2902846772544587,1.95694033573221 L 1.3826834323650858,1.9238795325112883 L 1.4713967368259937,1.8819212643483572 L 1.5555702330195982,1.831469612302548 L 1.6343932841636415,1.7730104533627402 L 1.7071067811865435,1.7071067811865515 L 1.7730104533627333,1.6343932841636502 L 1.8314696123025418,1.5555702330196075 L 1.8819212643483518,1.4713967368260035 L 1.923879532511284,1.3826834323650963 L 1.9569403357322068,1.2902846772544692 L 1.980785280403229,1.1950903220161357 L 1.9951847266721963,1.0980171403295684 L 2.0,1.0000000000000082 L 2.0,1.0 z M 1.5,1.0 L 1.5,1.0000000000000042 L 1.4975923633360981,1.0490085701647842 L 1.4903926402016145,1.0975451610080678 L 1.4784701678661034,1.1451423386272346 L 1.4619397662556421,1.1913417161825481 L 1.440960632174176,1.2356983684130016 L 1.415734806151271,1.2777851165098038 L 1.3865052266813667,1.317196642081825 L 1.3535533905932717,1.3535533905932757 L 1.3171966420818206,1.3865052266813702 L 1.277785116509799,1.415734806151274 L 1.2356983684129967,1.4409606321741786 L 1.191341716182543,1.4619397662556441 L 1.1451423386272293,1.478470167866105 L 1.0975451610080624,1.4903926402016157 L 1.0490085701647787,1.4975923633360986 L 0.9999999999999986,1.5 L 0.9509914298352184,1.4975923633360984 L 0.9024548389919348,1.490392640201615 L 0.854857661372768,1.4784701678661043 L 0.8086582838174544,1.461939766255643 L 0.7643016315870006,1.4409606321741772 L 0.7222148834901985,1.4157348061512725 L 0.682803357918177,1.3865052266813684 L 0.6464466094067262,1.3535533905932737 L 0.6134947733186314,1.3171966420818226 L 0.5842651938487273,1.277785116509801 L 0.5590393678258223,1.2356983684129985 L 0.5380602337443565,1.1913417161825446 L 0.5215298321338955,1.1451423386272308 L 0.5096073597983847,1.0975451610080638 L 0.5024076366639015,1.0490085701647798 L 0.5,0.9999999999999994 L 0.5024076366639016,0.9509914298352191 L 0.5096073597983849,0.9024548389919352 L 0.5215298321338957,0.8548576613727682 L 0.538060233744357,0.8086582838174544 L 0.5590393678258229,0.7643016315870005 L 0.5842651938487278,0.7222148834901982 L 0.613494773318632,0.6828033579181766 L 0.6464466094067269,0.6464466094067256 L 0.682803357918178,0.6134947733186309 L 0.7222148834901998,0.5842651938487269 L 0.7643016315870022,0.559039367825822 L 0.8086582838174561,0.5380602337443563 L 0.8548576613727698,0.5215298321338953 L 0.9024548389919368,0.5096073597983846 L 0.9509914298352206,0.5024076366639014 L 1.0000000000000009,0.5 L 1.049008570164781,0.5024076366639016 L 1.0975451610080649,0.5096073597983849 L 1.145142338627232,0.5215298321338957 L 1.1913417161825455,0.5380602337443569 L 1.2356983684129994,0.5590393678258228 L 1.2777851165098015,0.5842651938487277 L 1.317196642081823,0.6134947733186318 L 1.353553390593274,0.6464466094067265 L 1.3865052266813687,0.6828033579181776 L 1.415734806151273,0.7222148834901991 L 1.4409606321741777,0.7643016315870014 L 1.4619397662556435,0.8086582838174553 L 1.4784701678661045,0.854857661372769 L 1.4903926402016152,0.902454838991936 L 1.4975923633360986,0.9509914298352198 L 1.5,1.0 z\" /></g></svg>",
      "text/plain": [
       "<shapely.geometry.polygon.Polygon at 0x2f1cae607f0>"
      ]
     },
     "execution_count": 43,
     "metadata": {},
     "output_type": "execute_result"
    }
   ],
   "source": [
    "a = geometry.Point(1, 1).buffer(1)\n",
    "b = geometry.Point(1, 1).buffer(0.5)\n",
    "a.difference(b)"
   ]
  },
  {
   "cell_type": "markdown",
   "metadata": {},
   "source": [
    "#### object.intersection(other)"
   ]
  },
  {
   "cell_type": "code",
   "execution_count": 44,
   "metadata": {},
   "outputs": [
    {
     "data": {
      "image/svg+xml": "<svg xmlns=\"http://www.w3.org/2000/svg\" xmlns:xlink=\"http://www.w3.org/1999/xlink\" width=\"100.0\" height=\"100.0\" viewBox=\"0.46 0.46 1.08 1.08\" preserveAspectRatio=\"xMinYMin meet\"><g transform=\"matrix(1,0,0,-1,0,2.0)\"><path fill-rule=\"evenodd\" fill=\"#66cc99\" stroke=\"#555555\" stroke-width=\"0.0216\" opacity=\"0.6\" d=\"M 1.5,1.0 L 1.4975923633360986,0.9509914298352198 L 1.4903926402016152,0.902454838991936 L 1.4784701678661045,0.854857661372769 L 1.4619397662556435,0.8086582838174553 L 1.4409606321741777,0.7643016315870014 L 1.415734806151273,0.7222148834901991 L 1.3865052266813687,0.6828033579181776 L 1.353553390593274,0.6464466094067265 L 1.317196642081823,0.6134947733186318 L 1.2777851165098015,0.5842651938487277 L 1.2356983684129994,0.5590393678258228 L 1.1913417161825455,0.5380602337443569 L 1.145142338627232,0.5215298321338957 L 1.0975451610080649,0.5096073597983849 L 1.049008570164781,0.5024076366639016 L 1.0000000000000009,0.5 L 0.9509914298352206,0.5024076366639014 L 0.9024548389919368,0.5096073597983846 L 0.8548576613727698,0.5215298321338953 L 0.8086582838174561,0.5380602337443563 L 0.7643016315870022,0.559039367825822 L 0.7222148834901998,0.5842651938487269 L 0.682803357918178,0.6134947733186309 L 0.6464466094067269,0.6464466094067256 L 0.613494773318632,0.6828033579181766 L 0.5842651938487278,0.7222148834901982 L 0.5590393678258229,0.7643016315870005 L 0.538060233744357,0.8086582838174544 L 0.5215298321338957,0.8548576613727682 L 0.5096073597983849,0.9024548389919352 L 0.5024076366639016,0.9509914298352191 L 0.5,0.9999999999999994 L 0.5024076366639015,1.0490085701647798 L 0.5096073597983847,1.0975451610080638 L 0.5215298321338955,1.1451423386272308 L 0.5380602337443565,1.1913417161825446 L 0.5590393678258223,1.2356983684129985 L 0.5842651938487273,1.277785116509801 L 0.6134947733186314,1.3171966420818226 L 0.6464466094067262,1.3535533905932737 L 0.682803357918177,1.3865052266813684 L 0.7222148834901985,1.4157348061512725 L 0.7643016315870006,1.4409606321741772 L 0.8086582838174544,1.461939766255643 L 0.854857661372768,1.4784701678661043 L 0.9024548389919348,1.490392640201615 L 0.9509914298352184,1.4975923633360984 L 0.9999999999999986,1.5 L 1.0490085701647787,1.4975923633360986 L 1.0975451610080624,1.4903926402016157 L 1.1451423386272293,1.478470167866105 L 1.191341716182543,1.4619397662556441 L 1.2356983684129967,1.4409606321741786 L 1.277785116509799,1.415734806151274 L 1.3171966420818206,1.3865052266813702 L 1.3535533905932717,1.3535533905932757 L 1.3865052266813667,1.317196642081825 L 1.415734806151271,1.2777851165098038 L 1.440960632174176,1.2356983684130016 L 1.4619397662556421,1.1913417161825481 L 1.4784701678661034,1.1451423386272346 L 1.4903926402016145,1.0975451610080678 L 1.4975923633360981,1.0490085701647842 L 1.5,1.0000000000000042 L 1.5,1.0 z\" /></g></svg>",
      "text/plain": [
       "<shapely.geometry.polygon.Polygon at 0x2f1c9b588d0>"
      ]
     },
     "execution_count": 44,
     "metadata": {},
     "output_type": "execute_result"
    }
   ],
   "source": [
    "a.intersection(b)"
   ]
  },
  {
   "cell_type": "markdown",
   "metadata": {},
   "source": [
    "#### object.union(other)"
   ]
  },
  {
   "cell_type": "code",
   "execution_count": 45,
   "metadata": {},
   "outputs": [
    {
     "data": {
      "image/svg+xml": "<svg xmlns=\"http://www.w3.org/2000/svg\" xmlns:xlink=\"http://www.w3.org/1999/xlink\" width=\"100.0\" height=\"100.0\" viewBox=\"0.312 0.312 2.3760000000000003 1.3760000000000001\" preserveAspectRatio=\"xMinYMin meet\"><g transform=\"matrix(1,0,0,-1,0,2.0)\"><path fill-rule=\"evenodd\" fill=\"#66cc99\" stroke=\"#555555\" stroke-width=\"0.04752000000000001\" opacity=\"0.6\" d=\"M 1.5,0.6685235186005563 L 1.4988817673815273,0.6666578601882389 L 1.4638062720176426,0.619364029501813 L 1.4242640687119288,0.5757359312880719 L 1.3806359704981876,0.5361937279823582 L 1.3333421398117618,0.5011182326184732 L 1.2828380420955992,0.4708472413909873 L 1.2296100594190544,0.44567228049322827 L 1.1741708063526781,0.4258357985606749 L 1.1170541932096778,0.4115288317580619 L 1.0588102841977372,0.40288916399668195 L 1.0000000000000009,0.4 L 0.9411897158022646,0.40288916399668184 L 0.8829458067903241,0.41152883175806154 L 0.8258291936473237,0.42583579856067433 L 0.7703899405809473,0.4456722804932275 L 0.7171619579044026,0.47084724139098644 L 0.6666578601882397,0.5011182326184722 L 0.6193640295018137,0.5361937279823571 L 0.5757359312880723,0.5757359312880707 L 0.5361937279823585,0.6193640295018119 L 0.5011182326184734,0.6666578601882378 L 0.47084724139098744,0.7171619579044006 L 0.44567228049322827,0.7703899405809453 L 0.4258357985606749,0.8258291936473218 L 0.4115288317580619,0.8829458067903223 L 0.40288916399668195,0.941189715802263 L 0.4,0.9999999999999994 L 0.40288916399668184,1.0588102841977358 L 0.41152883175806165,1.1170541932096765 L 0.42583579856067455,1.174170806352677 L 0.4456722804932278,1.2296100594190535 L 0.4708472413909869,1.2828380420955983 L 0.5011182326184728,1.333342139811761 L 0.5361937279823578,1.3806359704981872 L 0.5757359312880714,1.4242640687119286 L 0.6193640295018125,1.463806272017642 L 0.6666578601882382,1.498881767381527 L 0.7171619579044008,1.5291527586090128 L 0.7703899405809453,1.5543277195067717 L 0.8258291936473215,1.574164201439325 L 0.8829458067903218,1.588471168241938 L 0.9411897158022622,1.597110836003318 L 0.9999999999999983,1.6 L 1.0588102841977345,1.5971108360033184 L 1.117054193209675,1.5884711682419388 L 1.1741708063526752,1.5741642014393258 L 1.2296100594190515,1.554327719506773 L 1.2828380420955963,1.5291527586090141 L 1.3333421398117589,1.4988817673815287 L 1.3806359704981848,1.4638062720176441 L 1.4242640687119261,1.4242640687119308 L 1.46380627201764,1.38063597049819 L 1.4988817673815251,1.3333421398117644 L 1.5,1.3314764813994433 L 1.5011182326184729,1.333342139811761 L 1.5361937279823579,1.3806359704981872 L 1.5757359312880714,1.4242640687119286 L 1.6193640295018126,1.463806272017642 L 1.6666578601882382,1.498881767381527 L 1.7171619579044008,1.5291527586090128 L 1.7703899405809453,1.5543277195067717 L 1.8258291936473214,1.574164201439325 L 1.8829458067903218,1.588471168241938 L 1.9411897158022622,1.597110836003318 L 1.9999999999999982,1.6 L 2.0588102841977345,1.5971108360033184 L 2.117054193209675,1.5884711682419388 L 2.174170806352675,1.5741642014393258 L 2.2296100594190515,1.554327719506773 L 2.2828380420955963,1.5291527586090141 L 2.333342139811759,1.4988817673815287 L 2.3806359704981848,1.4638062720176441 L 2.424264068711926,1.4242640687119308 L 2.46380627201764,1.38063597049819 L 2.498881767381525,1.3333421398117644 L 2.529152758609011,1.282838042095602 L 2.5543277195067704,1.2296100594190578 L 2.574164201439324,1.1741708063526817 L 2.5884711682419375,1.1170541932096814 L 2.597110836003318,1.0588102841977411 L 2.6,1.0000000000000049 L 2.6,1.0 L 2.597110836003318,0.9411897158022637 L 2.5884711682419383,0.8829458067903232 L 2.5741642014393253,0.8258291936473228 L 2.554327719506772,0.7703899405809463 L 2.5291527586090132,0.7171619579044017 L 2.498881767381527,0.6666578601882389 L 2.4638062720176426,0.619364029501813 L 2.424264068711929,0.5757359312880719 L 2.380635970498188,0.5361937279823582 L 2.3333421398117618,0.5011182326184732 L 2.282838042095599,0.4708472413909873 L 2.2296100594190547,0.44567228049322827 L 2.174170806352678,0.4258357985606749 L 2.1170541932096776,0.4115288317580619 L 2.058810284197737,0.40288916399668195 L 2.000000000000001,0.4 L 1.9411897158022646,0.40288916399668184 L 1.8829458067903242,0.41152883175806154 L 1.8258291936473237,0.42583579856067433 L 1.7703899405809473,0.4456722804932275 L 1.7171619579044026,0.47084724139098644 L 1.6666578601882396,0.5011182326184722 L 1.6193640295018137,0.5361937279823571 L 1.5757359312880723,0.5757359312880707 L 1.5361937279823585,0.6193640295018119 L 1.5011182326184733,0.6666578601882378 L 1.5,0.6685235186005563 z\" /></g></svg>",
      "text/plain": [
       "<shapely.geometry.polygon.Polygon at 0x2f1cae60b70>"
      ]
     },
     "execution_count": 45,
     "metadata": {},
     "output_type": "execute_result"
    }
   ],
   "source": [
    "a = geometry.Point(1, 1).buffer(0.6)\n",
    "b = geometry.Point(2, 1).buffer(0.6)\n",
    "a.union(b)"
   ]
  },
  {
   "cell_type": "markdown",
   "metadata": {
    "collapsed": true
   },
   "source": [
    "### Application\n",
    "Faire l'union des 4 polygônes suivants"
   ]
  },
  {
   "cell_type": "code",
   "execution_count": 46,
   "metadata": {
    "collapsed": true
   },
   "outputs": [],
   "source": [
    "polygon1 = idf_geodf.geometry[1]\n",
    "polygon2 = idf_geodf.geometry[2]\n",
    "polygon3 = idf_geodf.geometry[3]\n",
    "polygon4 = idf_geodf.geometry[4]"
   ]
  },
  {
   "cell_type": "code",
   "execution_count": 47,
   "metadata": {},
   "outputs": [
    {
     "data": {
      "image/svg+xml": "<svg xmlns=\"http://www.w3.org/2000/svg\" xmlns:xlink=\"http://www.w3.org/1999/xlink\" width=\"300\" height=\"300\" viewBox=\"650542.6845140251 6859712.691774844 3311.541565756779 4165.565045259893\" preserveAspectRatio=\"xMinYMin meet\"><g transform=\"matrix(1,0,0,-1,0,13723590.948594948)\"><path fill-rule=\"evenodd\" fill=\"#66cc99\" stroke=\"#555555\" stroke-width=\"27.770433635065952\" opacity=\"0.6\" d=\"M 652374.9444057639,6862785.9917647485 L 650888.0335914819,6863341.952313391 L 650696.9647008865,6863524.965449096 L 651676.0225731826,6863723.976633242 L 652160.9563252041,6863598.034549775 L 652621.0420445413,6863443.954054865 L 653334.0330828434,6863233.029430391 L 653538.0365657948,6862731.984168595 L 653656.9440464028,6861930.039442513 L 653699.9458929205,6861650.016864136 L 653526.0096641303,6861097.006310242 L 653349.0099792558,6860868.041333271 L 653467.0097691722,6860727.008892054 L 653184.9448867376,6860272.028932859 L 652494.9864997364,6859866.971961706 L 651705.9763660076,6860006.983250895 L 651307.9539977129,6860165.0348925805 L 651906.008702183,6861749.976301555 L 652319.0079668901,6862632.024731176 L 652374.9444057639,6862785.9917647485 z\" /></g></svg>",
      "text/plain": [
       "<shapely.geometry.polygon.Polygon at 0x2f1c9b35940>"
      ]
     },
     "execution_count": 47,
     "metadata": {},
     "output_type": "execute_result"
    }
   ],
   "source": [
    "polygon1.union(polygon2).union(polygon3).union(polygon4)"
   ]
  },
  {
   "cell_type": "code",
   "execution_count": 48,
   "metadata": {
    "collapsed": true
   },
   "outputs": [],
   "source": [
    "from shapely.ops import cascaded_union"
   ]
  },
  {
   "cell_type": "code",
   "execution_count": 49,
   "metadata": {},
   "outputs": [
    {
     "data": {
      "image/svg+xml": "<svg xmlns=\"http://www.w3.org/2000/svg\" xmlns:xlink=\"http://www.w3.org/1999/xlink\" width=\"300\" height=\"300\" viewBox=\"650542.6845140251 6859712.691774844 3311.541565756779 4165.565045259893\" preserveAspectRatio=\"xMinYMin meet\"><g transform=\"matrix(1,0,0,-1,0,13723590.948594948)\"><path fill-rule=\"evenodd\" fill=\"#66cc99\" stroke=\"#555555\" stroke-width=\"27.770433635065952\" opacity=\"0.6\" d=\"M 653467.0097691722,6860727.008892054 L 653184.9448867376,6860272.028932859 L 652494.9864997364,6859866.971961706 L 651705.9763660076,6860006.983250895 L 651307.9539977129,6860165.0348925805 L 651906.008702183,6861749.976301555 L 652319.0079668901,6862632.024731176 L 652374.9444057639,6862785.9917647485 L 650888.0335914819,6863341.952313391 L 650696.9647008865,6863524.965449096 L 651676.0225731826,6863723.976633242 L 652160.9563252041,6863598.034549775 L 652621.0420445413,6863443.954054865 L 653334.0330828434,6863233.029430391 L 653538.0365657948,6862731.984168595 L 653656.9440464028,6861930.039442513 L 653699.9458929205,6861650.016864136 L 653526.0096641303,6861097.006310242 L 653349.0099792558,6860868.041333271 L 653467.0097691722,6860727.008892054 z\" /></g></svg>",
      "text/plain": [
       "<shapely.geometry.polygon.Polygon at 0x2f1cae60780>"
      ]
     },
     "execution_count": 49,
     "metadata": {},
     "output_type": "execute_result"
    }
   ],
   "source": [
    "cascaded_union([polygon1, polygon2, polygon3, polygon4])"
   ]
  },
  {
   "cell_type": "code",
   "execution_count": 50,
   "metadata": {},
   "outputs": [
    {
     "data": {
      "text/plain": [
       "array([<shapely.geometry.polygon.Polygon object at 0x000002F1CAE60470>,\n",
       "       <shapely.geometry.polygon.Polygon object at 0x000002F1CAE60518>,\n",
       "       <shapely.geometry.polygon.Polygon object at 0x000002F1CAE60588>,\n",
       "       <shapely.geometry.polygon.Polygon object at 0x000002F1CAE605F8>,\n",
       "       <shapely.geometry.polygon.Polygon object at 0x000002F1CAE60668>,\n",
       "       <shapely.geometry.polygon.Polygon object at 0x000002F1CAE606D8>,\n",
       "       <shapely.geometry.polygon.Polygon object at 0x000002F1CAE60748>,\n",
       "       <shapely.geometry.polygon.Polygon object at 0x000002F1CAE607B8>,\n",
       "       <shapely.geometry.polygon.Polygon object at 0x000002F1CAE60828>,\n",
       "       <shapely.geometry.polygon.Polygon object at 0x000002F1CAE60898>,\n",
       "       <shapely.geometry.polygon.Polygon object at 0x000002F1CAE60908>,\n",
       "       <shapely.geometry.polygon.Polygon object at 0x000002F1CAE60978>,\n",
       "       <shapely.geometry.polygon.Polygon object at 0x000002F1CAE609E8>,\n",
       "       <shapely.geometry.polygon.Polygon object at 0x000002F1CAE60A58>,\n",
       "       <shapely.geometry.polygon.Polygon object at 0x000002F1CAE60AC8>,\n",
       "       <shapely.geometry.polygon.Polygon object at 0x000002F1CAE60B38>,\n",
       "       <shapely.geometry.polygon.Polygon object at 0x000002F1CAE60BA8>,\n",
       "       <shapely.geometry.polygon.Polygon object at 0x000002F1CAE60C18>,\n",
       "       <shapely.geometry.polygon.Polygon object at 0x000002F1CAE60C88>,\n",
       "       <shapely.geometry.polygon.Polygon object at 0x000002F1CAE60CF8>], dtype=object)"
      ]
     },
     "execution_count": 50,
     "metadata": {},
     "output_type": "execute_result"
    },
    {
     "data": {
      "image/svg+xml": "<svg xmlns=\"http://www.w3.org/2000/svg\" xmlns:xlink=\"http://www.w3.org/1999/xlink\" width=\"300\" height=\"300\" viewBox=\"642357.075395157 6856780.115611319 19410.792980003287 10990.82720141299\" preserveAspectRatio=\"xMinYMin meet\"><g transform=\"matrix(1,0,0,-1,0,13724551.058424052)\"><path fill-rule=\"evenodd\" fill=\"#66cc99\" stroke=\"#555555\" stroke-width=\"129.40528653335525\" opacity=\"0.6\" d=\"M 651822.9550038957,6857499.033869838 L 650942.9488783275,6857645.966300551 L 650771.0549535936,6857857.004386362 L 649644.0434985564,6858244.021005019 L 648705.0374780298,6858567.953120604 L 647832.9736460138,6858933.979392016 L 647111.0191621315,6859379.99590563 L 646726.9525382211,6859007.048492695 L 646469.9626111437,6858906.975593939 L 646222.0495909831,6859005.0061886385 L 646207.9803852623,6859286.957609735 L 646395.9858197732,6859486.98994591 L 646161.0073919686,6859635.964680679 L 645884.9559603663,6859571.972486917 L 645319.0108141138,6859693.943423608 L 645074.047788701,6860214.957880622 L 645116.0284831905,6860784.987634984 L 644357.9932943146,6861168.033106864 L 644163.9744089714,6861378.957731339 L 643075.9936536757,6861776.9800996315 L 643187.9799927596,6862430.971242973 L 643361.0085308581,6862989.995247699 L 643643.9811039844,6863501.025107103 L 644350.9586914541,6863885.999421704 L 644676.0254204064,6864312.954430793 L 645228.0148222744,6864103.958649038 L 645446.9952016384,6864241.019943479 L 645541.9623402538,6864521.9502125485 L 645733.0312308491,6864687.944147785 L 646898.0522335998,6864482.011822115 L 647189.9882523062,6864525.013668632 L 647339.9841391037,6865084.945364051 L 647527.9895736146,6865306.989199498 L 647970.034940455,6865670.973166853 L 648242.0017639447,6865760.040315973 L 648952.9504981906,6866241.002921216 L 650139.9830002142,6866931.982460242 L 650880.9989886214,6867004.030408893 L 652486.0230541563,6867031.03420697 L 653510.0116156897,6867032.055358998 L 653835.9860353336,6867033.984201717 L 654969.0109412032,6867052.0245542135 L 655239.9566126649,6866967.949703899 L 655645.01358382,6866649.009887117 L 655840.0536211912,6866169.976124593 L 655904.0458149535,6865657.017422469 L 655975.9803022679,6865117.96261296 L 656128.0184931216,6864891.039940044 L 656611.0234024234,6864648.005757352 L 656778.9461803812,6864434.017676794 L 656962.980468116,6863836.984124354 L 656984.9919673889,6862693.9746208815 L 657099.0206105292,6861840.972293394 L 657169.0262551238,6861179.9465471925 L 657139.9801529906,6860890.052832544 L 656880.9479218569,6859502.9879943505 L 657160.9705002352,6859496.974543518 L 657431.0084810053,6859604.989735826 L 657534.0313745092,6859822.948963161 L 657408.9969817324,6860392.978717524 L 657556.9505644736,6860615.022552971 L 657710.0099073555,6860412.040222048 L 657982.9978828735,6860321.9519209005 L 658513.9969374969,6860269.986628803 L 659009.0287484631,6860738.014641691 L 659244.0071762677,6860783.966482956 L 659477.9644520441,6860670.958991844 L 660529.9779636826,6860412.040222048 L 660897.0253871243,6860025.023603392 L 661047.0212739217,6859802.979767945 L 661048.9501166416,6859538.047547316 L 660747.0295003268,6859109.050234171 L 660698.014202977,6858848.996851009 L 660778.0044451798,6858601.991521542 L 660441.0242758996,6857721.985395977 L 660201.9612399826,6857578.002960012 L 658820.0021619241,6857729.019998837 L 657974.0344372933,6858363.949637654 L 657416.0315845929,6858380.968838123 L 656617.9445439472,6858551.047381472 L 656231.9490773171,6858941.013994876 L 655961.0034058555,6858928.987093212 L 655221.0085694764,6858577.030027521 L 654534.0001772232,6858139.9769594865 L 653308.9581274862,6857557.012612768 L 652736.9995304014,6857514.010766251 L 652546.9517918342,6857696.002749928 L 652294.954163561,6857693.052755181 L 652078.0160882534,6857546.006863132 L 651822.9550038957,6857499.033869838 z\" /></g></svg>",
      "text/plain": [
       "<shapely.geometry.polygon.Polygon at 0x2f1cae60f28>"
      ]
     },
     "execution_count": 50,
     "metadata": {},
     "output_type": "execute_result"
    },
    {
     "data": {
      "image/svg+xml": "<svg xmlns=\"http://www.w3.org/2000/svg\" xmlns:xlink=\"http://www.w3.org/1999/xlink\" width=\"300\" height=\"300\" viewBox=\"642357.075395157 6856780.115611319 19410.792980003287 10990.82720141299\" preserveAspectRatio=\"xMinYMin meet\"><g transform=\"matrix(1,0,0,-1,0,13724551.058424052)\"><path fill-rule=\"evenodd\" fill=\"#66cc99\" stroke=\"#555555\" stroke-width=\"129.40528653335525\" opacity=\"0.6\" d=\"M 651822.9550038957,6857499.033869838 L 650942.9488783275,6857645.966300551 L 650771.0549535936,6857857.004386362 L 649644.0434985564,6858244.021005019 L 648705.0374780298,6858567.953120604 L 647832.9736460138,6858933.979392016 L 647111.0191621315,6859379.99590563 L 646726.9525382211,6859007.048492695 L 646469.9626111437,6858906.975593939 L 646222.0495909831,6859005.0061886385 L 646207.9803852623,6859286.957609735 L 646395.9858197732,6859486.98994591 L 646161.0073919686,6859635.964680679 L 645884.9559603663,6859571.972486917 L 645319.0108141138,6859693.943423608 L 645074.047788701,6860214.957880622 L 645116.0284831905,6860784.987634984 L 644357.9932943146,6861168.033106864 L 644163.9744089714,6861378.957731339 L 643075.9936536757,6861776.9800996315 L 643187.9799927596,6862430.971242973 L 643361.0085308581,6862989.995247699 L 643643.9811039844,6863501.025107103 L 644350.9586914541,6863885.999421704 L 644676.0254204064,6864312.954430793 L 645228.0148222744,6864103.958649038 L 645446.9952016384,6864241.019943479 L 645541.9623402538,6864521.9502125485 L 645733.0312308491,6864687.944147785 L 646898.0522335998,6864482.011822115 L 647189.9882523062,6864525.013668632 L 647339.9841391037,6865084.945364051 L 647527.9895736146,6865306.989199498 L 647970.034940455,6865670.973166853 L 648242.0017639447,6865760.040315973 L 648952.9504981906,6866241.002921216 L 650139.9830002142,6866931.982460242 L 650880.9989886214,6867004.030408893 L 652486.0230541563,6867031.03420697 L 653510.0116156897,6867032.055358998 L 653835.9860353336,6867033.984201717 L 654969.0109412032,6867052.0245542135 L 655239.9566126649,6866967.949703899 L 655645.01358382,6866649.009887117 L 655840.0536211912,6866169.976124593 L 655904.0458149535,6865657.017422469 L 655975.9803022679,6865117.96261296 L 656128.0184931216,6864891.039940044 L 656611.0234024234,6864648.005757352 L 656778.9461803812,6864434.017676794 L 656962.980468116,6863836.984124354 L 656984.9919673889,6862693.9746208815 L 657099.0206105292,6861840.972293394 L 657169.0262551238,6861179.9465471925 L 657139.9801529906,6860890.052832544 L 656880.9479218569,6859502.9879943505 L 657160.9705002352,6859496.974543518 L 657431.0084810053,6859604.989735826 L 657534.0313745092,6859822.948963161 L 657408.9969817324,6860392.978717524 L 657556.9505644736,6860615.022552971 L 657710.0099073555,6860412.040222048 L 657982.9978828735,6860321.9519209005 L 658513.9969374969,6860269.986628803 L 659009.0287484631,6860738.014641691 L 659244.0071762677,6860783.966482956 L 659477.9644520441,6860670.958991844 L 660529.9779636826,6860412.040222048 L 660897.0253871243,6860025.023603392 L 661047.0212739217,6859802.979767945 L 661048.9501166416,6859538.047547316 L 660747.0295003268,6859109.050234171 L 660698.014202977,6858848.996851009 L 660778.0044451798,6858601.991521542 L 660441.0242758996,6857721.985395977 L 660201.9612399826,6857578.002960012 L 658820.0021619241,6857729.019998837 L 657974.0344372933,6858363.949637654 L 657416.0315845929,6858380.968838123 L 656617.9445439472,6858551.047381472 L 656231.9490773171,6858941.013994876 L 655961.0034058555,6858928.987093212 L 655221.0085694764,6858577.030027521 L 654534.0001772232,6858139.9769594865 L 653308.9581274862,6857557.012612768 L 652736.9995304014,6857514.010766251 L 652546.9517918342,6857696.002749928 L 652294.954163561,6857693.052755181 L 652078.0160882534,6857546.006863132 L 651822.9550038957,6857499.033869838 z\" /></g></svg>",
      "text/plain": [
       "<shapely.geometry.polygon.Polygon at 0x2f1cae60fd0>"
      ]
     },
     "execution_count": 50,
     "metadata": {},
     "output_type": "execute_result"
    }
   ],
   "source": [
    "idf_geodf.geometry.values\n",
    "cascaded_union(idf_geodf.geometry.values)\n",
    "cascaded_union(list(idf_geodf.geometry.values))"
   ]
  },
  {
   "cell_type": "code",
   "execution_count": null,
   "metadata": {
    "collapsed": true
   },
   "outputs": [],
   "source": []
  }
 ],
 "metadata": {
  "anaconda-cloud": {},
  "kernelspec": {
   "display_name": "Python 3",
   "language": "python",
   "name": "python3"
  },
  "language_info": {
   "codemirror_mode": {
    "name": "ipython",
    "version": 3
   },
   "file_extension": ".py",
   "mimetype": "text/x-python",
   "name": "python",
   "nbconvert_exporter": "python",
   "pygments_lexer": "ipython3",
   "version": "3.7.9"
  }
 },
 "nbformat": 4,
 "nbformat_minor": 2
}
