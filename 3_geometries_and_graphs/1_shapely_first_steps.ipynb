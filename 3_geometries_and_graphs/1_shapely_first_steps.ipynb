{
 "cells": [
  {
   "cell_type": "code",
   "execution_count": 1,
   "metadata": {
    "collapsed": true
   },
   "outputs": [],
   "source": [
    "from IPython.core.interactiveshell import InteractiveShell\n",
    "InteractiveShell.ast_node_interactivity = \"all\""
   ]
  },
  {
   "cell_type": "markdown",
   "metadata": {},
   "source": [
    "# Librairies spéciales"
   ]
  },
  {
   "cell_type": "markdown",
   "metadata": {},
   "source": [
    "# 1. Shapely <font color='green'>[Beginner]</font>"
   ]
  },
  {
   "cell_type": "markdown",
   "metadata": {},
   "source": [
    "## 1.1 Intro\n",
    "- Shapely est une librairie python permettant de manipuler des objects géométriques planaires.\n",
    "- Elle est basée sur GEOS, et initialement développée pour rendre possible les opérations PostGIS ne dehors d'une BDD relationnelle."
   ]
  },
  {
   "cell_type": "markdown",
   "metadata": {},
   "source": [
    "Shapely manipule trois types d'objets fondamentaux: les points, les courbes et les polygones:"
   ]
  },
  {
   "cell_type": "code",
   "execution_count": 2,
   "metadata": {
    "collapsed": true
   },
   "outputs": [],
   "source": [
    "from shapely import geometry"
   ]
  },
  {
   "cell_type": "markdown",
   "metadata": {},
   "source": [
    "Les points"
   ]
  },
  {
   "cell_type": "code",
   "execution_count": 3,
   "metadata": {},
   "outputs": [
    {
     "data": {
      "image/svg+xml": "<svg xmlns=\"http://www.w3.org/2000/svg\" xmlns:xlink=\"http://www.w3.org/1999/xlink\" width=\"100.0\" height=\"100.0\" viewBox=\"-1.0 -1.0 2.0 2.0\" preserveAspectRatio=\"xMinYMin meet\"><g transform=\"matrix(1,0,0,-1,0,0.0)\"><circle cx=\"0.0\" cy=\"0.0\" r=\"0.06\" stroke=\"#555555\" stroke-width=\"0.02\" fill=\"#66cc99\" opacity=\"0.6\" /></g></svg>",
      "text/plain": [
       "<shapely.geometry.point.Point at 0x19392f917c8>"
      ]
     },
     "execution_count": 3,
     "metadata": {},
     "output_type": "execute_result"
    }
   ],
   "source": [
    "point_0 = geometry.Point(0,0)\n",
    "point_0"
   ]
  },
  {
   "cell_type": "markdown",
   "metadata": {},
   "source": [
    "Les courbes fermées ou ouvertes"
   ]
  },
  {
   "cell_type": "code",
   "execution_count": 4,
   "metadata": {},
   "outputs": [
    {
     "data": {
      "image/svg+xml": "<svg xmlns=\"http://www.w3.org/2000/svg\" xmlns:xlink=\"http://www.w3.org/1999/xlink\" width=\"100.0\" height=\"100.0\" viewBox=\"-0.04 -0.04 0.08 1.08\" preserveAspectRatio=\"xMinYMin meet\"><g transform=\"matrix(1,0,0,-1,0,1.0)\"><polyline fill=\"none\" stroke=\"#66cc99\" stroke-width=\"0.0216\" points=\"0.0,0.0 0.0,1.0\" opacity=\"0.8\" /></g></svg>",
      "text/plain": [
       "<shapely.geometry.linestring.LineString at 0x19392fa0608>"
      ]
     },
     "execution_count": 4,
     "metadata": {},
     "output_type": "execute_result"
    }
   ],
   "source": [
    "line_01 = geometry.LineString(((0,0),(0,1)))\n",
    "line_01"
   ]
  },
  {
   "cell_type": "code",
   "execution_count": 5,
   "metadata": {},
   "outputs": [
    {
     "data": {
      "image/svg+xml": "<svg xmlns=\"http://www.w3.org/2000/svg\" xmlns:xlink=\"http://www.w3.org/1999/xlink\" width=\"100.0\" height=\"100.0\" viewBox=\"-0.04 -0.04 1.08 1.08\" preserveAspectRatio=\"xMinYMin meet\"><g transform=\"matrix(1,0,0,-1,0,1.0)\"><polyline fill=\"none\" stroke=\"#66cc99\" stroke-width=\"0.0216\" points=\"0.0,0.0 0.0,1.0 1.0,1.0 0.0,0.0\" opacity=\"0.8\" /></g></svg>",
      "text/plain": [
       "<shapely.geometry.polygon.LinearRing at 0x19392fa0f08>"
      ]
     },
     "execution_count": 5,
     "metadata": {},
     "output_type": "execute_result"
    }
   ],
   "source": [
    "ring_01 = geometry.LinearRing(((0,0),(0,1),(1,1)))\n",
    "ring_01"
   ]
  },
  {
   "cell_type": "markdown",
   "metadata": {},
   "source": [
    "Les polygones"
   ]
  },
  {
   "cell_type": "code",
   "execution_count": 6,
   "metadata": {},
   "outputs": [
    {
     "data": {
      "image/svg+xml": "<svg xmlns=\"http://www.w3.org/2000/svg\" xmlns:xlink=\"http://www.w3.org/1999/xlink\" width=\"100.0\" height=\"100.0\" viewBox=\"-0.04 -0.04 1.08 1.08\" preserveAspectRatio=\"xMinYMin meet\"><g transform=\"matrix(1,0,0,-1,0,1.0)\"><path fill-rule=\"evenodd\" fill=\"#66cc99\" stroke=\"#555555\" stroke-width=\"0.0216\" opacity=\"0.6\" d=\"M 0.0,0.0 L 0.0,1.0 L 1.0,1.0 L 0.0,0.0 z\" /></g></svg>",
      "text/plain": [
       "<shapely.geometry.polygon.Polygon at 0x19392fa5648>"
      ]
     },
     "execution_count": 6,
     "metadata": {},
     "output_type": "execute_result"
    }
   ],
   "source": [
    "triangle = geometry.Polygon([(0,0),(0,1),(1,1)])\n",
    "triangle"
   ]
  },
  {
   "cell_type": "markdown",
   "metadata": {},
   "source": [
    "On peut également avoir des collections d'objets de même type"
   ]
  },
  {
   "cell_type": "code",
   "execution_count": 7,
   "metadata": {
    "collapsed": true
   },
   "outputs": [],
   "source": [
    "from shapely.geometry import MultiPoint, MultiLineString, MultiPolygon"
   ]
  },
  {
   "cell_type": "markdown",
   "metadata": {},
   "source": [
    "Quelques remarques:\n",
    "- Shapely ne gère pas les systèmes de coordonnées\n",
    "- Shapely ne gère pas le calcul 3D: on peut ajouter une coordonnée z aux objets, mais celle-ci n'aura pas d'impact sur l'analyse, car toutes les opérations sont effectuées dans un même plan (x-y)"
   ]
  },
  {
   "cell_type": "markdown",
   "metadata": {},
   "source": [
    "## 1.2 Les objets géometriques"
   ]
  },
  {
   "cell_type": "markdown",
   "metadata": {},
   "source": [
    "### 1.2.1 Tous ont des méthodes et attributs communs:\n",
    "- une aire --> `area`\n",
    "- des limites --> `bounds`\n",
    "- une longueur --> `length`\n",
    "- un type géométriques --> `geom_type`\n",
    "- une distance par rapport à d'autres objets --> `distance(object)`"
   ]
  },
  {
   "cell_type": "code",
   "execution_count": 8,
   "metadata": {},
   "outputs": [
    {
     "data": {
      "image/svg+xml": "<svg xmlns=\"http://www.w3.org/2000/svg\" xmlns:xlink=\"http://www.w3.org/1999/xlink\" width=\"100.0\" height=\"100.0\" viewBox=\"-1.0 -1.0 2.0 2.0\" preserveAspectRatio=\"xMinYMin meet\"><g transform=\"matrix(1,0,0,-1,0,0.0)\"><circle cx=\"0.0\" cy=\"0.0\" r=\"0.06\" stroke=\"#555555\" stroke-width=\"0.02\" fill=\"#66cc99\" opacity=\"0.6\" /></g></svg>",
      "text/plain": [
       "<shapely.geometry.point.Point at 0x19392f917c8>"
      ]
     },
     "execution_count": 8,
     "metadata": {},
     "output_type": "execute_result"
    },
    {
     "name": "stdout",
     "output_type": "stream",
     "text": [
      "Point\n",
      "0.0\n",
      "0.0\n",
      "(0.0, 0.0, 0.0, 0.0)\n"
     ]
    },
    {
     "data": {
      "text/plain": [
       "0.5"
      ]
     },
     "execution_count": 8,
     "metadata": {},
     "output_type": "execute_result"
    }
   ],
   "source": [
    "point_0\n",
    "print(point_0.geom_type)\n",
    "print(point_0.area)\n",
    "print(point_0.length)\n",
    "print(point_0.bounds)\n",
    "point_0.distance(geometry.Point(0.5, 0))"
   ]
  },
  {
   "cell_type": "code",
   "execution_count": 9,
   "metadata": {},
   "outputs": [
    {
     "data": {
      "image/svg+xml": "<svg xmlns=\"http://www.w3.org/2000/svg\" xmlns:xlink=\"http://www.w3.org/1999/xlink\" width=\"100.0\" height=\"100.0\" viewBox=\"-0.04 -0.04 0.08 1.08\" preserveAspectRatio=\"xMinYMin meet\"><g transform=\"matrix(1,0,0,-1,0,1.0)\"><polyline fill=\"none\" stroke=\"#66cc99\" stroke-width=\"0.0216\" points=\"0.0,0.0 0.0,1.0\" opacity=\"0.8\" /></g></svg>",
      "text/plain": [
       "<shapely.geometry.linestring.LineString at 0x19392fa0608>"
      ]
     },
     "execution_count": 9,
     "metadata": {},
     "output_type": "execute_result"
    },
    {
     "name": "stdout",
     "output_type": "stream",
     "text": [
      "LineString\n",
      "0.0\n",
      "1.0\n",
      "(0.0, 0.0, 0.0, 1.0)\n"
     ]
    },
    {
     "data": {
      "text/plain": [
       "0.5"
      ]
     },
     "execution_count": 9,
     "metadata": {},
     "output_type": "execute_result"
    }
   ],
   "source": [
    "line_01\n",
    "print(line_01.geom_type)\n",
    "print(line_01.area)\n",
    "print(line_01.length)\n",
    "print(line_01.bounds)\n",
    "line_01.distance(geometry.Point(0.5, 0))"
   ]
  },
  {
   "cell_type": "code",
   "execution_count": 10,
   "metadata": {},
   "outputs": [
    {
     "data": {
      "image/svg+xml": "<svg xmlns=\"http://www.w3.org/2000/svg\" xmlns:xlink=\"http://www.w3.org/1999/xlink\" width=\"100.0\" height=\"100.0\" viewBox=\"-0.04 -0.04 1.08 1.08\" preserveAspectRatio=\"xMinYMin meet\"><g transform=\"matrix(1,0,0,-1,0,1.0)\"><polyline fill=\"none\" stroke=\"#66cc99\" stroke-width=\"0.0216\" points=\"0.0,0.0 0.0,1.0 1.0,1.0 0.0,0.0\" opacity=\"0.8\" /></g></svg>",
      "text/plain": [
       "<shapely.geometry.polygon.LinearRing at 0x19392fa0f08>"
      ]
     },
     "execution_count": 10,
     "metadata": {},
     "output_type": "execute_result"
    },
    {
     "data": {
      "text/plain": [
       "'LinearRing'"
      ]
     },
     "execution_count": 10,
     "metadata": {},
     "output_type": "execute_result"
    },
    {
     "data": {
      "text/plain": [
       "0.0"
      ]
     },
     "execution_count": 10,
     "metadata": {},
     "output_type": "execute_result"
    },
    {
     "data": {
      "text/plain": [
       "3.414213562373095"
      ]
     },
     "execution_count": 10,
     "metadata": {},
     "output_type": "execute_result"
    },
    {
     "data": {
      "text/plain": [
       "(0.0, 0.0, 1.0, 1.0)"
      ]
     },
     "execution_count": 10,
     "metadata": {},
     "output_type": "execute_result"
    },
    {
     "data": {
      "text/plain": [
       "0.3535533905932738"
      ]
     },
     "execution_count": 10,
     "metadata": {},
     "output_type": "execute_result"
    }
   ],
   "source": [
    "ring_01\n",
    "ring_01.geom_type\n",
    "ring_01.area\n",
    "ring_01.length\n",
    "ring_01.bounds\n",
    "ring_01.distance(geometry.Point(0.5, 0))"
   ]
  },
  {
   "cell_type": "code",
   "execution_count": 11,
   "metadata": {},
   "outputs": [
    {
     "data": {
      "image/svg+xml": "<svg xmlns=\"http://www.w3.org/2000/svg\" xmlns:xlink=\"http://www.w3.org/1999/xlink\" width=\"100.0\" height=\"100.0\" viewBox=\"-0.04 -0.04 1.08 1.08\" preserveAspectRatio=\"xMinYMin meet\"><g transform=\"matrix(1,0,0,-1,0,1.0)\"><path fill-rule=\"evenodd\" fill=\"#66cc99\" stroke=\"#555555\" stroke-width=\"0.0216\" opacity=\"0.6\" d=\"M 0.0,0.0 L 0.0,1.0 L 1.0,1.0 L 0.0,0.0 z\" /></g></svg>",
      "text/plain": [
       "<shapely.geometry.polygon.Polygon at 0x19392fa5648>"
      ]
     },
     "execution_count": 11,
     "metadata": {},
     "output_type": "execute_result"
    },
    {
     "data": {
      "text/plain": [
       "'Polygon'"
      ]
     },
     "execution_count": 11,
     "metadata": {},
     "output_type": "execute_result"
    },
    {
     "data": {
      "text/plain": [
       "0.5"
      ]
     },
     "execution_count": 11,
     "metadata": {},
     "output_type": "execute_result"
    },
    {
     "data": {
      "text/plain": [
       "3.414213562373095"
      ]
     },
     "execution_count": 11,
     "metadata": {},
     "output_type": "execute_result"
    },
    {
     "data": {
      "text/plain": [
       "(0.0, 0.0, 1.0, 1.0)"
      ]
     },
     "execution_count": 11,
     "metadata": {},
     "output_type": "execute_result"
    },
    {
     "data": {
      "text/plain": [
       "0.3535533905932738"
      ]
     },
     "execution_count": 11,
     "metadata": {},
     "output_type": "execute_result"
    }
   ],
   "source": [
    "triangle\n",
    "triangle.geom_type\n",
    "triangle.area\n",
    "triangle.length\n",
    "triangle.bounds\n",
    "triangle.distance(geometry.Point(0.5, 0))"
   ]
  },
  {
   "cell_type": "markdown",
   "metadata": {},
   "source": [
    "### 1.2.2 Construction\n",
    "- à partir des coordonnées\n",
    "- à partir d'autres objets géométriques"
   ]
  },
  {
   "cell_type": "markdown",
   "metadata": {},
   "source": [
    "Point"
   ]
  },
  {
   "cell_type": "code",
   "execution_count": 12,
   "metadata": {},
   "outputs": [
    {
     "data": {
      "image/svg+xml": "<svg xmlns=\"http://www.w3.org/2000/svg\" xmlns:xlink=\"http://www.w3.org/1999/xlink\" width=\"100.0\" height=\"100.0\" viewBox=\"-1.0 0.0 2.0 2.0\" preserveAspectRatio=\"xMinYMin meet\"><g transform=\"matrix(1,0,0,-1,0,2.0)\"><circle cx=\"0.0\" cy=\"1.0\" r=\"0.06\" stroke=\"#555555\" stroke-width=\"0.02\" fill=\"#66cc99\" opacity=\"0.6\" /></g></svg>",
      "text/plain": [
       "<shapely.geometry.point.Point at 0x19392fb6148>"
      ]
     },
     "execution_count": 12,
     "metadata": {},
     "output_type": "execute_result"
    }
   ],
   "source": [
    "# Creation d'un point à partir de coordonnées\n",
    "point_01 = geometry.Point([0,1])\n",
    "point_01"
   ]
  },
  {
   "cell_type": "code",
   "execution_count": 13,
   "metadata": {},
   "outputs": [
    {
     "data": {
      "image/svg+xml": "<svg xmlns=\"http://www.w3.org/2000/svg\" xmlns:xlink=\"http://www.w3.org/1999/xlink\" width=\"100.0\" height=\"100.0\" viewBox=\"-1.0 -1.0 2.0 2.0\" preserveAspectRatio=\"xMinYMin meet\"><g transform=\"matrix(1,0,0,-1,0,0.0)\"><circle cx=\"0.0\" cy=\"0.0\" r=\"0.06\" stroke=\"#555555\" stroke-width=\"0.02\" fill=\"#66cc99\" opacity=\"0.6\" /></g></svg>",
      "text/plain": [
       "<shapely.geometry.point.Point at 0x19392fb6748>"
      ]
     },
     "execution_count": 13,
     "metadata": {},
     "output_type": "execute_result"
    }
   ],
   "source": [
    "# Creation d'un point à partir d'un objet Point --> on créé ici une copie\n",
    "geometry.Point(point_0)"
   ]
  },
  {
   "cell_type": "code",
   "execution_count": 14,
   "metadata": {},
   "outputs": [
    {
     "data": {
      "text/plain": [
       "[(0.0, 0.0)]"
      ]
     },
     "execution_count": 14,
     "metadata": {},
     "output_type": "execute_result"
    }
   ],
   "source": [
    "# On peut accéder aux coordonnées du point\n",
    "point_0.coords[:]"
   ]
  },
  {
   "cell_type": "markdown",
   "metadata": {},
   "source": [
    "Courbes"
   ]
  },
  {
   "cell_type": "code",
   "execution_count": 15,
   "metadata": {},
   "outputs": [
    {
     "data": {
      "image/svg+xml": "<svg xmlns=\"http://www.w3.org/2000/svg\" xmlns:xlink=\"http://www.w3.org/1999/xlink\" width=\"100.0\" height=\"100.0\" viewBox=\"-0.04 -0.04 1.08 1.08\" preserveAspectRatio=\"xMinYMin meet\"><g transform=\"matrix(1,0,0,-1,0,1.0)\"><polyline fill=\"none\" stroke=\"#66cc99\" stroke-width=\"0.0216\" points=\"0.0,0.0 0.0,1.0 1.0,1.0\" opacity=\"0.8\" /></g></svg>",
      "text/plain": [
       "<shapely.geometry.linestring.LineString at 0x19392fba6c8>"
      ]
     },
     "execution_count": 15,
     "metadata": {},
     "output_type": "execute_result"
    }
   ],
   "source": [
    "# On peut créer une LineString à partir d'une liste de coordonnées\n",
    "geometry.LineString([(0, 0), (0, 1) ,(1, 1)])"
   ]
  },
  {
   "cell_type": "code",
   "execution_count": 16,
   "metadata": {},
   "outputs": [
    {
     "data": {
      "image/svg+xml": "<svg xmlns=\"http://www.w3.org/2000/svg\" xmlns:xlink=\"http://www.w3.org/1999/xlink\" width=\"100.0\" height=\"100.0\" viewBox=\"-0.04 -0.04 1.08 1.08\" preserveAspectRatio=\"xMinYMin meet\"><g transform=\"matrix(1,0,0,-1,0,1.0)\"><polyline fill=\"none\" stroke=\"#66cc99\" stroke-width=\"0.0216\" points=\"0.0,0.0 0.0,1.0 1.0,1.0\" opacity=\"0.8\" /></g></svg>",
      "text/plain": [
       "<shapely.geometry.linestring.LineString at 0x19392fbae88>"
      ]
     },
     "execution_count": 16,
     "metadata": {},
     "output_type": "execute_result"
    }
   ],
   "source": [
    "# On peut créer une LineString à partir d'une liste de points\n",
    "point_11 = geometry.Point((1,1))\n",
    "line_11 = geometry.LineString([point_0, point_01, point_11])\n",
    "line_11"
   ]
  },
  {
   "cell_type": "code",
   "execution_count": 17,
   "metadata": {},
   "outputs": [
    {
     "data": {
      "text/plain": [
       "[(0.0, 0.0), (0.0, 1.0), (1.0, 1.0)]"
      ]
     },
     "execution_count": 17,
     "metadata": {},
     "output_type": "execute_result"
    }
   ],
   "source": [
    "line_11.coords[:]"
   ]
  },
  {
   "cell_type": "code",
   "execution_count": 18,
   "metadata": {},
   "outputs": [
    {
     "data": {
      "image/svg+xml": "<svg xmlns=\"http://www.w3.org/2000/svg\" xmlns:xlink=\"http://www.w3.org/1999/xlink\" width=\"100.0\" height=\"100.0\" viewBox=\"-0.04 -0.04 0.08 1.08\" preserveAspectRatio=\"xMinYMin meet\"><g transform=\"matrix(1,0,0,-1,0,1.0)\"><polyline fill=\"none\" stroke=\"#66cc99\" stroke-width=\"0.0216\" points=\"0.0,0.0 0.0,1.0\" opacity=\"0.8\" /></g></svg>",
      "text/plain": [
       "<shapely.geometry.linestring.LineString at 0x19392fb6888>"
      ]
     },
     "execution_count": 18,
     "metadata": {},
     "output_type": "execute_result"
    }
   ],
   "source": [
    "# On peut créer une LineString à partir d'une autre LineString\n",
    "geometry.LineString(line_01)"
   ]
  },
  {
   "cell_type": "code",
   "execution_count": 19,
   "metadata": {},
   "outputs": [
    {
     "data": {
      "image/svg+xml": "<svg xmlns=\"http://www.w3.org/2000/svg\" xmlns:xlink=\"http://www.w3.org/1999/xlink\" width=\"100.0\" height=\"100.0\" viewBox=\"-0.04 -0.04 1.08 1.08\" preserveAspectRatio=\"xMinYMin meet\"><g transform=\"matrix(1,0,0,-1,0,1.0)\"><polyline fill=\"none\" stroke=\"#66cc99\" stroke-width=\"0.0216\" points=\"0.0,0.0 0.0,1.0 1.0,1.0 0.0,0.0\" opacity=\"0.8\" /></g></svg>",
      "text/plain": [
       "<shapely.geometry.polygon.LinearRing at 0x19392fb6788>"
      ]
     },
     "execution_count": 19,
     "metadata": {},
     "output_type": "execute_result"
    },
    {
     "data": {
      "text/plain": [
       "[(0.0, 0.0), (0.0, 1.0), (1.0, 1.0), (0.0, 0.0)]"
      ]
     },
     "execution_count": 19,
     "metadata": {},
     "output_type": "execute_result"
    }
   ],
   "source": [
    "# Idem pour les LinearRing\n",
    "# Restriction: elle ne doit pas s'intersecter\n",
    "geometry.LinearRing(line_11)\n",
    "geometry.LinearRing(line_11).coords[:]"
   ]
  },
  {
   "cell_type": "code",
   "execution_count": 20,
   "metadata": {},
   "outputs": [
    {
     "data": {
      "image/svg+xml": "<svg xmlns=\"http://www.w3.org/2000/svg\" xmlns:xlink=\"http://www.w3.org/1999/xlink\" width=\"100.0\" height=\"100.0\" viewBox=\"-0.06 -0.06 1.62 1.12\" preserveAspectRatio=\"xMinYMin meet\"><g transform=\"matrix(1,0,0,-1,0,1.0)\"><polyline fill=\"none\" stroke=\"#ff3333\" stroke-width=\"0.032400000000000005\" points=\"0.0,0.0 1.0,0.0 1.0,1.0 1.5,0.25 0.0,0.0\" opacity=\"0.8\" /></g></svg>",
      "text/plain": [
       "<shapely.geometry.polygon.LinearRing at 0x19392faec08>"
      ]
     },
     "execution_count": 20,
     "metadata": {},
     "output_type": "execute_result"
    }
   ],
   "source": [
    "geometry.LinearRing([(0,0), (1,0), (1,1), (1.5, 0.25)])"
   ]
  },
  {
   "cell_type": "markdown",
   "metadata": {},
   "source": [
    "Polygones"
   ]
  },
  {
   "cell_type": "code",
   "execution_count": 21,
   "metadata": {},
   "outputs": [
    {
     "data": {
      "image/svg+xml": "<svg xmlns=\"http://www.w3.org/2000/svg\" xmlns:xlink=\"http://www.w3.org/1999/xlink\" width=\"100.0\" height=\"100.0\" viewBox=\"-0.04 -0.04 1.08 1.08\" preserveAspectRatio=\"xMinYMin meet\"><g transform=\"matrix(1,0,0,-1,0,1.0)\"><path fill-rule=\"evenodd\" fill=\"#66cc99\" stroke=\"#555555\" stroke-width=\"0.0216\" opacity=\"0.6\" d=\"M 0.0,0.0 L 0.0,1.0 L 1.0,1.0 L 0.0,0.0 z\" /></g></svg>",
      "text/plain": [
       "<shapely.geometry.polygon.Polygon at 0x19392fae9c8>"
      ]
     },
     "execution_count": 21,
     "metadata": {},
     "output_type": "execute_result"
    }
   ],
   "source": [
    "# Un polygone se construit avec les mêmes inputs qu'un LinearRing, mais on peut en plus rajouter des trous\n",
    "geometry.Polygon(ring_01)"
   ]
  },
  {
   "cell_type": "code",
   "execution_count": 22,
   "metadata": {},
   "outputs": [
    {
     "data": {
      "image/svg+xml": "<svg xmlns=\"http://www.w3.org/2000/svg\" xmlns:xlink=\"http://www.w3.org/1999/xlink\" width=\"100.0\" height=\"100.0\" viewBox=\"-0.04 -0.04 1.08 1.08\" preserveAspectRatio=\"xMinYMin meet\"><g transform=\"matrix(1,0,0,-1,0,1.0)\"><path fill-rule=\"evenodd\" fill=\"#66cc99\" stroke=\"#555555\" stroke-width=\"0.0216\" opacity=\"0.6\" d=\"M 0.0,0.0 L 0.0,1.0 L 1.0,1.0 L 0.0,0.0 z M 0.1,0.5 L 0.1,0.7 L 0.2,0.7 L 0.2,0.5 L 0.1,0.5 z\" /></g></svg>",
      "text/plain": [
       "<shapely.geometry.polygon.Polygon at 0x19392faa108>"
      ]
     },
     "execution_count": 22,
     "metadata": {},
     "output_type": "execute_result"
    }
   ],
   "source": [
    "ring_02 = geometry.LinearRing([(0.1, 0.5), (0.1, 0.7), (0.2,0.7), (0.2, 0.5)])\n",
    "geometry.Polygon(ring_01, holes=[ring_02])"
   ]
  },
  {
   "cell_type": "markdown",
   "metadata": {},
   "source": [
    "### Application - familiarisation avec la création d'objets shapely\n",
    "\n",
    "1. Créer 3 points non-alignés\n",
    "2. Créer une courbe ouverte passant par ces trois points\n",
    "3. À partir de cette courbe ouverte, créer une courbe fermée\n",
    "4. Créer un polygone à partir de la courbe fermée obtenue\n"
   ]
  },
  {
   "cell_type": "markdown",
   "metadata": {},
   "source": [
    "### 1.2.3 Les méthodes booléennes et relations"
   ]
  },
  {
   "cell_type": "markdown",
   "metadata": {},
   "source": [
    "Contrôler les géométries:\n",
    "- is_empty, is_valid\n",
    "\n",
    "Comparer des géométries:\n",
    "- equals, almost_equals, contains, crosses, disjoint, intersects, overlaps, touches, within"
   ]
  },
  {
   "cell_type": "markdown",
   "metadata": {},
   "source": [
    "#### 1.2.3.1 Contrôler les géométries"
   ]
  },
  {
   "cell_type": "markdown",
   "metadata": {},
   "source": [
    "#### `object.is_empty`"
   ]
  },
  {
   "cell_type": "code",
   "execution_count": 23,
   "metadata": {},
   "outputs": [
    {
     "data": {
      "text/plain": [
       "False"
      ]
     },
     "execution_count": 23,
     "metadata": {},
     "output_type": "execute_result"
    },
    {
     "data": {
      "text/plain": [
       "True"
      ]
     },
     "execution_count": 23,
     "metadata": {},
     "output_type": "execute_result"
    }
   ],
   "source": [
    "point_0.is_empty\n",
    "geometry.Point().is_empty"
   ]
  },
  {
   "cell_type": "markdown",
   "metadata": {},
   "source": [
    "#### `object.is_valid`"
   ]
  },
  {
   "cell_type": "code",
   "execution_count": 24,
   "metadata": {},
   "outputs": [
    {
     "data": {
      "image/svg+xml": "<svg xmlns=\"http://www.w3.org/2000/svg\" xmlns:xlink=\"http://www.w3.org/1999/xlink\" width=\"100.0\" height=\"100.0\" viewBox=\"-0.06 -0.06 1.62 1.12\" preserveAspectRatio=\"xMinYMin meet\"><g transform=\"matrix(1,0,0,-1,0,1.0)\"><polyline fill=\"none\" stroke=\"#ff3333\" stroke-width=\"0.032400000000000005\" points=\"0.0,0.0 1.0,0.0 1.0,1.0 1.5,0.25 0.0,0.0\" opacity=\"0.8\" /></g></svg>",
      "text/plain": [
       "<shapely.geometry.polygon.LinearRing at 0x19392fa5448>"
      ]
     },
     "execution_count": 24,
     "metadata": {},
     "output_type": "execute_result"
    }
   ],
   "source": [
    "geometry.LinearRing([(0,0), (1,0), (1,1), (1.5, 0.25)])"
   ]
  },
  {
   "cell_type": "code",
   "execution_count": 25,
   "metadata": {},
   "outputs": [
    {
     "data": {
      "text/plain": [
       "False"
      ]
     },
     "execution_count": 25,
     "metadata": {},
     "output_type": "execute_result"
    }
   ],
   "source": [
    "geometry.LinearRing([(0,0), (1,0), (1,1), (1.5, 0.25)]).is_valid"
   ]
  },
  {
   "cell_type": "markdown",
   "metadata": {},
   "source": [
    "#### 1.2.3.1 Contrôler les géométries"
   ]
  },
  {
   "cell_type": "markdown",
   "metadata": {},
   "source": [
    "#### `object.equals`"
   ]
  },
  {
   "cell_type": "code",
   "execution_count": 26,
   "metadata": {},
   "outputs": [
    {
     "data": {
      "text/plain": [
       "[(0.0, 0.0)]"
      ]
     },
     "execution_count": 26,
     "metadata": {},
     "output_type": "execute_result"
    },
    {
     "data": {
      "text/plain": [
       "True"
      ]
     },
     "execution_count": 26,
     "metadata": {},
     "output_type": "execute_result"
    },
    {
     "data": {
      "text/plain": [
       "True"
      ]
     },
     "execution_count": 26,
     "metadata": {},
     "output_type": "execute_result"
    }
   ],
   "source": [
    "point_0.coords[:]\n",
    "point_0.equals(point_0)\n",
    "point_0_copy = geometry.Point(point_0)\n",
    "point_0.equals(point_0_copy)"
   ]
  },
  {
   "cell_type": "markdown",
   "metadata": {},
   "source": [
    "#### `object.almost_equals`"
   ]
  },
  {
   "cell_type": "code",
   "execution_count": 27,
   "metadata": {},
   "outputs": [
    {
     "data": {
      "text/plain": [
       "[(0.0, 0.0)]"
      ]
     },
     "execution_count": 27,
     "metadata": {},
     "output_type": "execute_result"
    },
    {
     "data": {
      "text/plain": [
       "False"
      ]
     },
     "execution_count": 27,
     "metadata": {},
     "output_type": "execute_result"
    }
   ],
   "source": [
    "point_0.coords[:]\n",
    "point_0.almost_equals(\n",
    "    geometry.Point((0,0.01)),\n",
    "    decimal=2  # On peut paramétrer la précision\n",
    ")"
   ]
  },
  {
   "cell_type": "markdown",
   "metadata": {},
   "source": [
    "#### `object.contains`"
   ]
  },
  {
   "cell_type": "code",
   "execution_count": 28,
   "metadata": {},
   "outputs": [
    {
     "data": {
      "image/svg+xml": "<svg xmlns=\"http://www.w3.org/2000/svg\" xmlns:xlink=\"http://www.w3.org/1999/xlink\" width=\"100.0\" height=\"100.0\" viewBox=\"-0.04 -0.04 1.08 1.08\" preserveAspectRatio=\"xMinYMin meet\"><g transform=\"matrix(1,0,0,-1,0,1.0)\"><path fill-rule=\"evenodd\" fill=\"#66cc99\" stroke=\"#555555\" stroke-width=\"0.0216\" opacity=\"0.6\" d=\"M 0.0,0.0 L 0.0,1.0 L 1.0,1.0 L 0.0,0.0 z\" /></g></svg>",
      "text/plain": [
       "<shapely.geometry.polygon.Polygon at 0x19392fa5648>"
      ]
     },
     "execution_count": 28,
     "metadata": {},
     "output_type": "execute_result"
    },
    {
     "data": {
      "text/plain": [
       "True"
      ]
     },
     "execution_count": 28,
     "metadata": {},
     "output_type": "execute_result"
    }
   ],
   "source": [
    "triangle\n",
    "triangle.contains(geometry.Point((0.1,0.2)))"
   ]
  },
  {
   "cell_type": "markdown",
   "metadata": {},
   "source": [
    "#### `object.crosses`\n",
    "#### `object.disjoint`\n",
    "#### `object.intersects`\n",
    "#### `object.overlaps`\n",
    "#### `object.touches`\n",
    "#### `object.within`"
   ]
  },
  {
   "cell_type": "markdown",
   "metadata": {},
   "source": [
    "### 1.2.4 Les méthodes constructives"
   ]
  },
  {
   "cell_type": "markdown",
   "metadata": {},
   "source": [
    "#### `object.buffer(radius)`"
   ]
  },
  {
   "cell_type": "code",
   "execution_count": 29,
   "metadata": {},
   "outputs": [
    {
     "data": {
      "image/svg+xml": "<svg xmlns=\"http://www.w3.org/2000/svg\" xmlns:xlink=\"http://www.w3.org/1999/xlink\" width=\"100.0\" height=\"100.0\" viewBox=\"-1.08 -1.08 2.16 2.16\" preserveAspectRatio=\"xMinYMin meet\"><g transform=\"matrix(1,0,0,-1,0,0.0)\"><path fill-rule=\"evenodd\" fill=\"#66cc99\" stroke=\"#555555\" stroke-width=\"0.0432\" opacity=\"0.6\" d=\"M 1.0,0.0 L 0.9951847266721969,-0.0980171403295605 L 0.9807852804032305,-0.19509032201612808 L 0.9569403357322089,-0.2902846772544621 L 0.923879532511287,-0.3826834323650894 L 0.8819212643483553,-0.4713967368259972 L 0.8314696123025456,-0.5555702330196017 L 0.7730104533627374,-0.6343932841636449 L 0.7071067811865481,-0.7071067811865469 L 0.6343932841636462,-0.7730104533627363 L 0.5555702330196031,-0.8314696123025447 L 0.4713967368259986,-0.8819212643483545 L 0.38268343236509084,-0.9238795325112863 L 0.2902846772544636,-0.9569403357322085 L 0.19509032201612964,-0.9807852804032302 L 0.09801714032956209,-0.9951847266721967 L 1.6155445744325867e-15,-1.0 L -0.09801714032955888,-0.995184726672197 L -0.19509032201612647,-0.9807852804032308 L -0.2902846772544605,-0.9569403357322095 L -0.38268343236508784,-0.9238795325112875 L -0.4713967368259957,-0.881921264348356 L -0.5555702330196005,-0.8314696123025463 L -0.6343932841636436,-0.7730104533627385 L -0.7071067811865459,-0.7071067811865491 L -0.7730104533627353,-0.6343932841636476 L -0.8314696123025438,-0.5555702330196043 L -0.8819212643483537,-0.4713967368260002 L -0.9238795325112857,-0.38268343236509234 L -0.9569403357322079,-0.29028467725446533 L -0.9807852804032299,-0.19509032201613122 L -0.9951847266721966,-0.09801714032956392 L -1.0,-3.2310891488651735e-15 L -0.9951847266721972,0.0980171403295575 L -0.9807852804032311,0.19509032201612486 L -0.9569403357322098,0.29028467725445917 L -0.9238795325112882,0.38268343236508634 L -0.8819212643483567,0.4713967368259945 L -0.8314696123025475,0.555570233019599 L -0.7730104533627394,0.6343932841636426 L -0.7071067811865505,0.7071067811865446 L -0.6343932841636486,0.7730104533627344 L -0.5555702330196058,0.8314696123025428 L -0.4713967368260018,0.8819212643483528 L -0.3826834323650936,0.9238795325112852 L -0.29028467725446666,0.9569403357322076 L -0.19509032201613302,0.9807852804032295 L -0.09801714032956575,0.9951847266721964 L -4.624589118372729e-15,1.0 L 0.09801714032955566,0.9951847266721974 L 0.19509032201612306,0.9807852804032314 L 0.29028467725445783,0.9569403357322103 L 0.38268343236508506,0.9238795325112887 L 0.47139673682599287,0.8819212643483576 L 0.5555702330195974,0.8314696123025485 L 0.6343932841636415,0.7730104533627402 L 0.7071067811865436,0.7071067811865515 L 0.7730104533627332,0.63439328416365 L 0.8314696123025418,0.5555702330196074 L 0.8819212643483524,0.47139673682600264 L 0.9238795325112844,0.38268343236509533 L 0.956940335732207,0.29028467725446844 L 0.9807852804032291,0.19509032201613483 L 0.9951847266721963,0.0980171403295667 L 1.0,0.0 z\" /></g></svg>",
      "text/plain": [
       "<shapely.geometry.polygon.Polygon at 0x19392fd1188>"
      ]
     },
     "execution_count": 29,
     "metadata": {},
     "output_type": "execute_result"
    }
   ],
   "source": [
    "point_0.buffer(1)"
   ]
  },
  {
   "cell_type": "code",
   "execution_count": 30,
   "metadata": {},
   "outputs": [
    {
     "data": {
      "image/svg+xml": "<svg xmlns=\"http://www.w3.org/2000/svg\" xmlns:xlink=\"http://www.w3.org/1999/xlink\" width=\"100.0\" height=\"100.0\" viewBox=\"-0.14800000000000002 -0.14800000000000002 0.29600000000000004 1.2960000000000003\" preserveAspectRatio=\"xMinYMin meet\"><g transform=\"matrix(1,0,0,-1,0,1.0)\"><path fill-rule=\"evenodd\" fill=\"#66cc99\" stroke=\"#555555\" stroke-width=\"0.025920000000000006\" opacity=\"0.6\" d=\"M -0.1,1.0 L -0.09951847266721968,1.0098017140329563 L -0.09807852804032302,1.019509032201613 L -0.09569403357322084,1.0290284677254464 L -0.09238795325112863,1.0382683432365092 L -0.08819212643483545,1.0471396736826 L -0.08314696123025446,1.0555570233019602 L -0.07730104533627362,1.0634393284163646 L -0.07071067811865468,1.0707106781186548 L -0.0634393284163645,1.0773010453362737 L -0.05555702330196016,1.0831469612302547 L -0.04713967368259969,1.0881921264348355 L -0.038268343236508934,1.0923879532511287 L -0.029028467725446202,1.0956940335732208 L -0.0195090322016128,1.0980785280403231 L -0.009801714032956044,1.0995184726672198 L 6.123233995736766e-18,1.1 L 0.009801714032956056,1.0995184726672198 L 0.019509032201612812,1.0980785280403231 L 0.029028467725446212,1.0956940335732208 L 0.03826834323650894,1.0923879532511287 L 0.0471396736825997,1.0881921264348355 L 0.055557023301960176,1.0831469612302547 L 0.0634393284163645,1.0773010453362737 L 0.0707106781186547,1.0707106781186548 L 0.07730104533627363,1.0634393284163646 L 0.08314696123025447,1.0555570233019602 L 0.08819212643483547,1.0471396736826 L 0.09238795325112864,1.0382683432365092 L 0.09569403357322084,1.0290284677254464 L 0.09807852804032302,1.019509032201613 L 0.09951847266721968,1.0098017140329563 L 0.1,1.0 L 0.1,0.0 L 0.09951847266721968,-0.009801714032956203 L 0.09807852804032302,-0.019509032201612958 L 0.09569403357322086,-0.029028467725446358 L 0.09238795325112864,-0.03826834323650908 L 0.08819212643483547,-0.04713967368259986 L 0.08314696123025449,-0.0555570233019603 L 0.07730104533627365,-0.06343932841636461 L 0.07071067811865471,-0.07071067811865481 L 0.0634393284163645,-0.07730104533627374 L 0.05555702330196019,-0.08314696123025456 L 0.04713967368259974,-0.08819212643483552 L 0.03826834323650896,-0.0923879532511287 L 0.029028467725446233,-0.0956940335732209 L 0.019509032201612833,-0.09807852804032305 L 0.009801714032956078,-0.09951847266721969 L 2.8327694488239897e-17,-0.1 L -0.009801714032956021,-0.09951847266721969 L -0.019509032201612778,-0.09807852804032306 L -0.029028467725446178,-0.09569403357322091 L -0.038268343236508906,-0.09238795325112871 L -0.04713967368259969,-0.08819212643483554 L -0.05555702330196012,-0.0831469612302546 L -0.0634393284163645,-0.07730104533627374 L -0.07071067811865468,-0.07071067811865482 L -0.07730104533627362,-0.06343932841636465 L -0.08314696123025445,-0.055557023301960363 L -0.08819212643483545,-0.047139673682599866 L -0.09238795325112863,-0.038268343236509114 L -0.09569403357322084,-0.029028467725446407 L -0.09807852804032301,-0.019509032201613034 L -0.09951847266721968,-0.009801714032956217 L -0.1,0.0 L -0.1,1.0 z\" /></g></svg>",
      "text/plain": [
       "<shapely.geometry.polygon.Polygon at 0x19392fd1e08>"
      ]
     },
     "execution_count": 30,
     "metadata": {},
     "output_type": "execute_result"
    }
   ],
   "source": [
    "line_01.buffer(0.1)"
   ]
  },
  {
   "cell_type": "code",
   "execution_count": 31,
   "metadata": {},
   "outputs": [
    {
     "data": {
      "image/svg+xml": "<svg xmlns=\"http://www.w3.org/2000/svg\" xmlns:xlink=\"http://www.w3.org/1999/xlink\" width=\"100.0\" height=\"100.0\" viewBox=\"-0.14800000000000002 -0.14800000000000002 1.2960000000000003 1.2960000000000003\" preserveAspectRatio=\"xMinYMin meet\"><g transform=\"matrix(1,0,0,-1,0,1.0)\"><path fill-rule=\"evenodd\" fill=\"#66cc99\" stroke=\"#555555\" stroke-width=\"0.025920000000000006\" opacity=\"0.6\" d=\"M 0.07071067811865475,-0.07071067811865475 L 0.06343932841636409,-0.07730104533627408 L 0.055557023301959746,-0.08314696123025485 L 0.04713967368259929,-0.08819212643483576 L 0.03826834323650851,-0.09238795325112888 L 0.029028467725445786,-0.09569403357322104 L 0.019509032201612396,-0.09807852804032313 L 0.009801714032955655,-0.09951847266721973 L -4.624589118372729e-16,-0.1 L -0.009801714032956488,-0.09951847266721965 L -0.019509032201613215,-0.09807852804032297 L -0.029028467725446584,-0.09569403357322079 L -0.03826834323650928,-0.09238795325112856 L -0.047139673682600025,-0.08819212643483537 L -0.05555702330196044,-0.08314696123025439 L -0.06343932841636472,-0.07730104533627356 L -0.07071067811865489,-0.07071067811865461 L -0.0773010453362738,-0.06343932841636443 L -0.08314696123025463,-0.055557023301960086 L -0.08819212643483558,-0.04713967368259964 L -0.09238795325112872,-0.038268343236508885 L -0.09569403357322091,-0.029028467725446174 L -0.09807852804032306,-0.01950903220161279 L -0.09951847266721969,-0.009801714032956016 L -0.1,0.0 L -0.1,1.0 L -0.09951847266721969,1.009801714032956 L -0.09807852804032305,1.019509032201613 L -0.09569403357322089,1.0290284677254462 L -0.09238795325112868,1.038268343236509 L -0.0881921264348355,1.0471396736825997 L -0.08314696123025454,1.0555570233019602 L -0.0773010453362737,1.0634393284163646 L -0.07071067811865475,1.0707106781186548 L -0.06343932841636454,1.0773010453362737 L -0.0555570233019602,1.0831469612302544 L -0.047139673682599775,1.0881921264348355 L -0.038268343236508975,1.0923879532511287 L -0.02902846772544622,1.0956940335732208 L -0.01950903220161282,1.0980785280403231 L -0.009801714032956065,1.0995184726672198 L 0.0,1.1 L 1.0,1.1 L 1.009801714032956,1.0995184726672198 L 1.019509032201613,1.0980785280403231 L 1.0290284677254462,1.0956940335732208 L 1.038268343236509,1.0923879532511287 L 1.0471396736825997,1.0881921264348355 L 1.0555570233019602,1.0831469612302544 L 1.0634393284163646,1.0773010453362737 L 1.0707106781186548,1.0707106781186548 L 1.0773010453362737,1.0634393284163646 L 1.0831469612302544,1.0555570233019602 L 1.0881921264348355,1.0471396736825997 L 1.0923879532511287,1.038268343236509 L 1.0956940335732208,1.0290284677254462 L 1.0980785280403231,1.019509032201613 L 1.0995184726672198,1.009801714032956 L 1.1,1.0 L 1.0995184726672198,0.9901982859670441 L 1.0980785280403231,0.9804909677983873 L 1.0956940335732208,0.9709715322745538 L 1.0923879532511287,0.9617316567634911 L 1.0881921264348355,0.9528603263174003 L 1.0831469612302547,0.9444429766980399 L 1.0773010453362737,0.9365606715836355 L 1.0707106781186548,0.9292893218813453 L 0.07071067811865475,-0.07071067811865475 z M 0.1,0.24142135623730948 L 0.7585786437626905,0.9 L 0.1,0.9 L 0.1,0.24142135623730948 z\" /></g></svg>",
      "text/plain": [
       "<shapely.geometry.polygon.Polygon at 0x19392fd1588>"
      ]
     },
     "execution_count": 31,
     "metadata": {},
     "output_type": "execute_result"
    }
   ],
   "source": [
    "ring_01.buffer(0.1)"
   ]
  },
  {
   "cell_type": "code",
   "execution_count": 32,
   "metadata": {},
   "outputs": [
    {
     "data": {
      "image/svg+xml": "<svg xmlns=\"http://www.w3.org/2000/svg\" xmlns:xlink=\"http://www.w3.org/1999/xlink\" width=\"100.0\" height=\"100.0\" viewBox=\"-0.09399758800705924 -0.09393728818353961 1.187934876190599 1.187934876190599\" preserveAspectRatio=\"xMinYMin meet\"><g transform=\"matrix(1,0,0,-1,0,1.0000602998235197)\"><path fill-rule=\"evenodd\" fill=\"#66cc99\" stroke=\"#555555\" stroke-width=\"0.02375869752381198\" opacity=\"0.6\" d=\"M -2.272574683137215e-16,-0.049939700176480376 L -0.0048949466002144995,-0.04969922687022206 L -0.009742752188818603,-0.04898012284084253 L -0.014496729747914414,-0.04778931345324692 L -0.01911109587481912,-0.04613826685280046 L -0.023541411701261724,-0.04404288352081925 L -0.027745010863976332,-0.04152334314424345 L -0.03168141040510524,-0.03860391027422019 L -0.03531270064521239,-0.03531270064521219 L -0.038603910274220284,-0.03168141040510512 L -0.041523343144243545,-0.027745010863976183 L -0.044042883520819365,-0.023541411701261505 L -0.04613826685280054,-0.01911109587481892 L -0.047789313453247,-0.014496729747914161 L -0.04898012284084255,-0.009742752188818527 L -0.04969922687022208,-0.004894946600214232 L -0.05,0.0012274311054463391 L -0.05,0.9987725688945538 L -0.04969922687022209,1.0048949466002142 L -0.048980122840842584,1.0097427521888183 L -0.04778931345324696,1.0144967297479142 L -0.04613826685280043,1.019111095874819 L -0.04404288352081959,1.023541411701261 L -0.04152334314424297,1.027745010863977 L -0.038603910274220395,1.031681410405105 L -0.03531270064521205,1.0353127006452125 L -0.031681410405105324,1.0386039102742202 L -0.027745010863977335,1.0415233431442428 L -0.023541411701260482,1.04404288352082 L -0.019111095874818535,1.0461382668528008 L -0.014496729747914274,1.047789313453247 L -0.009742752188819388,1.0489801228408424 L -0.004894946600213557,1.0496992268702223 L 0.0012274311054454037,1.05 L 0.9987725688945547,1.05 L 1.004894946600214,1.049699226870222 L 1.0097427521888187,1.0489801228408426 L 1.0144967297479148,1.0477893134532468 L 1.0191110958748177,1.046138266852801 L 1.0235414117012613,1.0440428835208193 L 1.0277450108639772,1.0415233431442428 L 1.0316814104051044,1.0386039102742208 L 1.0353127006452123,1.0353127006452123 L 1.0386039102742208,1.0316814104051044 L 1.0415233431442428,1.0277450108639772 L 1.0440428835208193,1.0235414117012613 L 1.046138266852801,1.0191110958748177 L 1.0477893134532468,1.0144967297479148 L 1.0489801228408426,1.0097427521888187 L 1.049699226870222,1.004894946600214 L 1.0499397001764805,1.0 L 1.0496992268702223,0.9951050533997866 L 1.0489801228408424,0.9902572478111802 L 1.0477893134532472,0.9855032702520867 L 1.0461382668528003,0.9808889041251801 L 1.0440428835208195,0.9764585882987386 L 1.0415233431442443,0.9722549891360248 L 1.03860391027422,0.9683185895948946 L 1.0344874142012268,0.963776736082572 L 0.036223263917427806,-0.034487414201226946 L 0.03168141040510486,-0.03860391027422049 L 0.027745010863976047,-0.041523343144243635 L 0.0235414117012613,-0.04404288352081947 L 0.019111095874818695,-0.04613826685280064 L 0.01449672974791403,-0.047789313453247044 L 0.009742752188818222,-0.04898012284084261 L 0.004894946600214101,-0.0496992268702221 L -2.272574683137215e-16,-0.049939700176480376 z\" /></g></svg>",
      "text/plain": [
       "<shapely.geometry.polygon.Polygon at 0x19392fd4ac8>"
      ]
     },
     "execution_count": 32,
     "metadata": {},
     "output_type": "execute_result"
    }
   ],
   "source": [
    "ring_01.buffer(0.1).buffer(-0.05).convex_hull"
   ]
  },
  {
   "cell_type": "markdown",
   "metadata": {},
   "source": [
    "Remarque : on peut parfois utiliser un buffer nul pour nettoyer une géométrie"
   ]
  },
  {
   "cell_type": "code",
   "execution_count": 33,
   "metadata": {},
   "outputs": [
    {
     "data": {
      "image/svg+xml": "<svg xmlns=\"http://www.w3.org/2000/svg\" xmlns:xlink=\"http://www.w3.org/1999/xlink\" width=\"100.0\" height=\"100.0\" viewBox=\"-0.08 -0.08 2.16 2.16\" preserveAspectRatio=\"xMinYMin meet\"><g transform=\"matrix(1,0,0,-1,0,2.0)\"><path fill-rule=\"evenodd\" fill=\"#ff3333\" stroke=\"#555555\" stroke-width=\"0.0432\" opacity=\"0.6\" d=\"M 0.0,0.0 L 0.0,2.0 L 1.0,1.0 L 2.0,2.0 L 2.0,0.0 L 1.0,1.0 L 0.0,0.0 z\" /></g></svg>",
      "text/plain": [
       "<shapely.geometry.polygon.Polygon at 0x19392fdbdc8>"
      ]
     },
     "execution_count": 33,
     "metadata": {},
     "output_type": "execute_result"
    },
    {
     "data": {
      "text/plain": [
       "False"
      ]
     },
     "execution_count": 33,
     "metadata": {},
     "output_type": "execute_result"
    }
   ],
   "source": [
    "coords = [(0, 0), (0, 2), (1, 1), (2, 2), (2, 0), (1, 1), (0, 0)]\n",
    "bowtie = geometry.Polygon(coords)\n",
    "bowtie\n",
    "bowtie.is_valid"
   ]
  },
  {
   "cell_type": "code",
   "execution_count": 34,
   "metadata": {},
   "outputs": [
    {
     "data": {
      "image/svg+xml": "<svg xmlns=\"http://www.w3.org/2000/svg\" xmlns:xlink=\"http://www.w3.org/1999/xlink\" width=\"100.0\" height=\"100.0\" viewBox=\"-0.08 -0.08 2.16 2.16\" preserveAspectRatio=\"xMinYMin meet\"><g transform=\"matrix(1,0,0,-1,0,2.0)\"><g><path fill-rule=\"evenodd\" fill=\"#66cc99\" stroke=\"#555555\" stroke-width=\"0.0432\" opacity=\"0.6\" d=\"M 0.0,0.0 L 0.0,2.0 L 1.0,1.0 L 0.0,0.0 z\" /><path fill-rule=\"evenodd\" fill=\"#66cc99\" stroke=\"#555555\" stroke-width=\"0.0432\" opacity=\"0.6\" d=\"M 1.0,1.0 L 2.0,2.0 L 2.0,0.0 L 1.0,1.0 z\" /></g></g></svg>",
      "text/plain": [
       "<shapely.geometry.multipolygon.MultiPolygon at 0x19392fd4908>"
      ]
     },
     "execution_count": 34,
     "metadata": {},
     "output_type": "execute_result"
    },
    {
     "data": {
      "text/plain": [
       "True"
      ]
     },
     "execution_count": 34,
     "metadata": {},
     "output_type": "execute_result"
    },
    {
     "data": {
      "text/plain": [
       "'MultiPolygon'"
      ]
     },
     "execution_count": 34,
     "metadata": {},
     "output_type": "execute_result"
    }
   ],
   "source": [
    "bowtie.buffer(0)\n",
    "bowtie.buffer(0).is_valid\n",
    "bowtie.buffer(0).geom_type"
   ]
  },
  {
   "cell_type": "code",
   "execution_count": 35,
   "metadata": {},
   "outputs": [
    {
     "data": {
      "image/svg+xml": "<svg xmlns=\"http://www.w3.org/2000/svg\" xmlns:xlink=\"http://www.w3.org/1999/xlink\" width=\"100.0\" height=\"100.0\" viewBox=\"-0.08 -0.08 1.1600000000000001 2.16\" preserveAspectRatio=\"xMinYMin meet\"><g transform=\"matrix(1,0,0,-1,0,2.0)\"><path fill-rule=\"evenodd\" fill=\"#66cc99\" stroke=\"#555555\" stroke-width=\"0.0432\" opacity=\"0.6\" d=\"M 0.0,0.0 L 0.0,2.0 L 1.0,1.0 L 0.0,0.0 z\" /></g></svg>",
      "text/plain": [
       "<shapely.geometry.polygon.Polygon at 0x19392fdb688>"
      ]
     },
     "execution_count": 35,
     "metadata": {},
     "output_type": "execute_result"
    },
    {
     "data": {
      "image/svg+xml": "<svg xmlns=\"http://www.w3.org/2000/svg\" xmlns:xlink=\"http://www.w3.org/1999/xlink\" width=\"100.0\" height=\"100.0\" viewBox=\"0.92 -0.08 1.1600000000000001 2.16\" preserveAspectRatio=\"xMinYMin meet\"><g transform=\"matrix(1,0,0,-1,0,2.0)\"><path fill-rule=\"evenodd\" fill=\"#66cc99\" stroke=\"#555555\" stroke-width=\"0.0432\" opacity=\"0.6\" d=\"M 1.0,1.0 L 2.0,2.0 L 2.0,0.0 L 1.0,1.0 z\" /></g></svg>",
      "text/plain": [
       "<shapely.geometry.polygon.Polygon at 0x19392fdeac8>"
      ]
     },
     "execution_count": 35,
     "metadata": {},
     "output_type": "execute_result"
    }
   ],
   "source": [
    "bowtie.buffer(0)[0]\n",
    "bowtie.buffer(0)[1]"
   ]
  },
  {
   "cell_type": "markdown",
   "metadata": {
    "collapsed": true
   },
   "source": [
    "#### `object.convex_hull` \n",
    "#### `object.envelope`"
   ]
  },
  {
   "cell_type": "markdown",
   "metadata": {},
   "source": [
    "### Application\n"
   ]
  },
  {
   "cell_type": "code",
   "execution_count": 36,
   "metadata": {
    "collapsed": true
   },
   "outputs": [],
   "source": [
    "import geopandas as gpd\n",
    "training_folder = r'../'\n",
    "gis_folder = training_folder +'gis/'\n",
    "idf_geodf = gpd.read_file(gis_folder + 'idf/idf_geodf.shp')\n",
    "polygon1 = idf_geodf.geometry[1]\n",
    "polygon2 = idf_geodf.geometry[2]"
   ]
  },
  {
   "cell_type": "markdown",
   "metadata": {},
   "source": [
    "0. Comparer les polygônes : est-ce qu'ils se touchent ? se chevauchent ?\n",
    "1. À l'aide de la méthode `bounds`, créer un point situé dans le polygône\n",
    "2. Confirmer avec une méthode que le point créé est bien dans le polygône"
   ]
  },
  {
   "cell_type": "markdown",
   "metadata": {},
   "source": [
    "\n",
    "## 1.4 Méthodes d'analyse spatiale"
   ]
  },
  {
   "cell_type": "markdown",
   "metadata": {},
   "source": [
    "#### object.boundary\n",
    "--> renvoie un objet de dimension inférieure correspondant à la frontière de l'objet"
   ]
  },
  {
   "cell_type": "code",
   "execution_count": 37,
   "metadata": {},
   "outputs": [
    {
     "data": {
      "image/svg+xml": "<svg xmlns=\"http://www.w3.org/2000/svg\" xmlns:xlink=\"http://www.w3.org/1999/xlink\" width=\"100.0\" height=\"100.0\" viewBox=\"-1.08 -0.08 2.16 1.1600000000000001\" preserveAspectRatio=\"xMinYMin meet\"><g transform=\"matrix(1,0,0,-1,0,1.0)\"><g><circle cx=\"-1.0\" cy=\"0.0\" r=\"0.0648\" stroke=\"#555555\" stroke-width=\"0.0216\" fill=\"#66cc99\" opacity=\"0.6\" /><circle cx=\"0.0\" cy=\"0.0\" r=\"0.0648\" stroke=\"#555555\" stroke-width=\"0.0216\" fill=\"#66cc99\" opacity=\"0.6\" /><circle cx=\"1.0\" cy=\"0.0\" r=\"0.0648\" stroke=\"#555555\" stroke-width=\"0.0216\" fill=\"#66cc99\" opacity=\"0.6\" /><circle cx=\"1.0\" cy=\"1.0\" r=\"0.0648\" stroke=\"#555555\" stroke-width=\"0.0216\" fill=\"#66cc99\" opacity=\"0.6\" /></g></g></svg>",
      "text/plain": [
       "<shapely.geometry.multipoint.MultiPoint at 0x193952ab8c8>"
      ]
     },
     "execution_count": 37,
     "metadata": {},
     "output_type": "execute_result"
    }
   ],
   "source": [
    "coords = [((0, 0), (1, 1)), ((-1, 0), (1, 0))]\n",
    "lines = geometry.MultiLineString(coords)\n",
    "lines.boundary"
   ]
  },
  {
   "cell_type": "code",
   "execution_count": 38,
   "metadata": {},
   "outputs": [
    {
     "name": "stdout",
     "output_type": "stream",
     "text": [
      "MULTIPOINT (-1 0, 0 0, 1 0, 1 1)\n"
     ]
    }
   ],
   "source": [
    "print(lines.boundary)"
   ]
  },
  {
   "cell_type": "code",
   "execution_count": 39,
   "metadata": {},
   "outputs": [
    {
     "data": {
      "image/svg+xml": "<svg xmlns=\"http://www.w3.org/2000/svg\" xmlns:xlink=\"http://www.w3.org/1999/xlink\" width=\"100.0\" height=\"100.0\" viewBox=\"-10.8 -10.8 21.6 21.6\" preserveAspectRatio=\"xMinYMin meet\"><g transform=\"matrix(1,0,0,-1,0,0.0)\"><polyline fill=\"none\" stroke=\"#66cc99\" stroke-width=\"0.43200000000000005\" points=\"10.0,0.0 9.95184726672197,-0.980171403295605 9.807852804032306,-1.9509032201612808 9.56940335732209,-2.902846772544621 9.23879532511287,-3.826834323650894 8.819212643483553,-4.713967368259972 8.314696123025456,-5.555702330196017 7.730104533627374,-6.343932841636449 7.071067811865481,-7.071067811865469 6.3439328416364615,-7.7301045336273635 5.555702330196031,-8.314696123025447 4.713967368259986,-8.819212643483546 3.8268343236509086,-9.238795325112862 2.902846772544636,-9.569403357322084 1.9509032201612964,-9.807852804032303 0.9801714032956209,-9.951847266721966 1.6155445744325867e-14,-10.0 -0.9801714032955888,-9.95184726672197 -1.9509032201612646,-9.807852804032308 -2.902846772544605,-9.569403357322095 -3.8268343236508784,-9.238795325112875 -4.713967368259957,-8.81921264348356 -5.555702330196005,-8.314696123025463 -6.343932841636436,-7.730104533627386 -7.0710678118654595,-7.0710678118654915 -7.730104533627353,-6.343932841636476 -8.314696123025438,-5.555702330196043 -8.819212643483537,-4.713967368260002 -9.238795325112857,-3.8268343236509232 -9.569403357322079,-2.9028467725446534 -9.807852804032299,-1.9509032201613121 -9.951847266721966,-0.9801714032956392 -10.0,-3.2310891488651735e-14 -9.951847266721972,0.980171403295575 -9.807852804032311,1.9509032201612486 -9.569403357322098,2.9028467725445917 -9.238795325112882,3.8268343236508633 -8.819212643483567,4.713967368259945 -8.314696123025474,5.55570233019599 -7.730104533627395,6.343932841636426 -7.071067811865505,7.071067811865445 -6.3439328416364855,7.730104533627344 -5.555702330196058,8.314696123025428 -4.713967368260018,8.819212643483528 -3.826834323650936,9.238795325112852 -2.9028467725446667,9.569403357322075 -1.9509032201613303,9.807852804032295 -0.9801714032956576,9.951847266721964 -4.624589118372729e-14,10.0 0.9801714032955566,9.951847266721973 1.9509032201612306,9.807852804032315 2.9028467725445783,9.569403357322102 3.826834323650851,9.238795325112887 4.713967368259929,8.819212643483576 5.555702330195974,8.314696123025485 6.3439328416364145,7.730104533627403 7.0710678118654355,7.071067811865515 7.730104533627332,6.343932841636501 8.314696123025417,5.555702330196074 8.819212643483525,4.713967368260026 9.238795325112845,3.8268343236509534 9.56940335732207,2.9028467725446845 9.80785280403229,1.9509032201613483 9.951847266721963,0.980171403295667 10.0,0.0\" opacity=\"0.8\" /></g></svg>",
      "text/plain": [
       "<shapely.geometry.linestring.LineString at 0x193952ba488>"
      ]
     },
     "execution_count": 39,
     "metadata": {},
     "output_type": "execute_result"
    }
   ],
   "source": [
    "point = geometry.Point([0,0])\n",
    "point.buffer(10).boundary"
   ]
  },
  {
   "cell_type": "code",
   "execution_count": 40,
   "metadata": {},
   "outputs": [
    {
     "data": {
      "text/plain": [
       "'LineString'"
      ]
     },
     "execution_count": 40,
     "metadata": {},
     "output_type": "execute_result"
    }
   ],
   "source": [
    "point.buffer(10).boundary.geom_type"
   ]
  },
  {
   "cell_type": "markdown",
   "metadata": {},
   "source": [
    "#### object.centroid\n",
    "--> renvoie le centroïde de l'objet"
   ]
  },
  {
   "cell_type": "code",
   "execution_count": 41,
   "metadata": {},
   "outputs": [
    {
     "data": {
      "text/plain": [
       "[(-1.6969772459820656e-16, 3.96845199711431e-16)]"
      ]
     },
     "execution_count": 41,
     "metadata": {},
     "output_type": "execute_result"
    },
    {
     "data": {
      "text/plain": [
       "False"
      ]
     },
     "execution_count": 41,
     "metadata": {},
     "output_type": "execute_result"
    },
    {
     "data": {
      "text/plain": [
       "True"
      ]
     },
     "execution_count": 41,
     "metadata": {},
     "output_type": "execute_result"
    }
   ],
   "source": [
    "center = point.buffer(10).boundary.centroid\n",
    "center.coords[:]\n",
    "point.equals(center)\n",
    "point.almost_equals(center)"
   ]
  },
  {
   "cell_type": "code",
   "execution_count": 42,
   "metadata": {},
   "outputs": [
    {
     "data": {
      "text/plain": [
       "[(0.20710678118654754, 0.20710678118654754)]"
      ]
     },
     "execution_count": 42,
     "metadata": {},
     "output_type": "execute_result"
    }
   ],
   "source": [
    "lines.centroid.coords[:]"
   ]
  },
  {
   "cell_type": "markdown",
   "metadata": {},
   "source": [
    "#### object.difference(other)"
   ]
  },
  {
   "cell_type": "code",
   "execution_count": 43,
   "metadata": {},
   "outputs": [
    {
     "data": {
      "image/svg+xml": "<svg xmlns=\"http://www.w3.org/2000/svg\" xmlns:xlink=\"http://www.w3.org/1999/xlink\" width=\"100.0\" height=\"100.0\" viewBox=\"-0.08 -0.08 2.16 2.16\" preserveAspectRatio=\"xMinYMin meet\"><g transform=\"matrix(1,0,0,-1,0,2.0)\"><path fill-rule=\"evenodd\" fill=\"#66cc99\" stroke=\"#555555\" stroke-width=\"0.0432\" opacity=\"0.6\" d=\"M 1.995184726672197,0.9019828596704395 L 1.9807852804032304,0.8049096779838719 L 1.956940335732209,0.709715322745538 L 1.923879532511287,0.6173165676349106 L 1.8819212643483554,0.5286032631740027 L 1.8314696123025456,0.44442976698039827 L 1.7730104533627373,0.36560671583635507 L 1.7071067811865481,0.2928932188134531 L 1.6343932841636462,0.22698954663726367 L 1.555570233019603,0.16853038769745532 L 1.4713967368259986,0.1180787356516455 L 1.382683432365091,0.0761204674887137 L 1.2902846772544636,0.04305966426779151 L 1.1950903220161297,0.01921471959676979 L 1.098017140329562,0.004815273327803293 L 1.0000000000000016,0.0 L 0.9019828596704411,0.00481527332780296 L 0.8049096779838736,0.019214719596769236 L 0.7097153227455395,0.04305966426779051 L 0.6173165676349122,0.07612046748871248 L 0.5286032631740043,0.11807873565164395 L 0.4444297669803995,0.16853038769745365 L 0.3656067158363564,0.22698954663726145 L 0.2928932188134541,0.2928932188134509 L 0.22698954663726467,0.3656067158363524 L 0.1685303876974562,0.4444297669803957 L 0.11807873565164628,0.5286032631739999 L 0.07612046748871426,0.6173165676349077 L 0.043059664267792064,0.7097153227455346 L 0.019214719596770125,0.8049096779838688 L 0.004815273327803404,0.9019828596704361 L 0.0,0.9999999999999968 L 0.004815273327802849,1.0980171403295576 L 0.019214719596768903,1.1950903220161249 L 0.043059664267790176,1.2902846772544592 L 0.07612046748871182,1.3826834323650863 L 0.11807873565164329,1.4713967368259944 L 0.16853038769745254,1.555570233019599 L 0.22698954663726056,1.6343932841636426 L 0.29289321881344954,1.7071067811865446 L 0.3656067158363514,1.7730104533627344 L 0.44442976698039416,1.8314696123025427 L 0.5286032631739982,1.8819212643483527 L 0.6173165676349064,1.9238795325112852 L 0.7097153227455333,1.9569403357322077 L 0.8049096779838669,1.9807852804032295 L 0.9019828596704342,1.9951847266721963 L 0.9999999999999953,2.0 L 1.0980171403295556,1.9951847266721974 L 1.195090322016123,1.9807852804032313 L 1.2902846772544578,1.9569403357322104 L 1.3826834323650852,1.9238795325112887 L 1.4713967368259928,1.8819212643483576 L 1.5555702330195973,1.8314696123025485 L 1.6343932841636415,1.7730104533627402 L 1.7071067811865435,1.7071067811865515 L 1.7730104533627333,1.6343932841636502 L 1.8314696123025418,1.5555702330196075 L 1.8819212643483523,1.4713967368260026 L 1.9238795325112843,1.3826834323650954 L 1.956940335732207,1.2902846772544685 L 1.980785280403229,1.1950903220161349 L 1.9951847266721963,1.0980171403295667 L 2.0,1.0 L 1.995184726672197,0.9019828596704395 z M 1.4975923633360981,1.0490085701647833 L 1.4903926402016145,1.0975451610080673 L 1.4784701678661034,1.1451423386272341 L 1.4619397662556421,1.1913417161825477 L 1.4409606321741761,1.2356983684130014 L 1.415734806151271,1.2777851165098038 L 1.3865052266813667,1.317196642081825 L 1.3535533905932717,1.3535533905932757 L 1.3171966420818206,1.3865052266813702 L 1.2777851165097986,1.4157348061512742 L 1.2356983684129965,1.4409606321741788 L 1.1913417161825426,1.4619397662556444 L 1.1451423386272288,1.4784701678661052 L 1.0975451610080615,1.4903926402016157 L 1.0490085701647778,1.4975923633360986 L 0.9999999999999977,1.5 L 0.9509914298352171,1.4975923633360981 L 0.9024548389919335,1.4903926402016148 L 0.8548576613727666,1.4784701678661039 L 0.8086582838174532,1.4619397662556426 L 0.764301631586999,1.4409606321741764 L 0.7222148834901971,1.4157348061512713 L 0.6828033579181757,1.386505226681367 L 0.6464466094067247,1.3535533905932722 L 0.6134947733186302,1.3171966420818213 L 0.5842651938487262,1.2777851165097995 L 0.5590393678258216,1.2356983684129972 L 0.5380602337443559,1.1913417161825433 L 0.521529832133895,1.1451423386272297 L 0.5096073597983845,1.0975451610080624 L 0.5024076366639014,1.0490085701647787 L 0.5,0.9999999999999983 L 0.5024076366639016,0.950991429835218 L 0.509607359798385,0.9024548389919343 L 0.521529832133896,0.8548576613727673 L 0.5380602337443572,0.8086582838174539 L 0.5590393678258232,0.7643016315869999 L 0.5842651938487281,0.7222148834901978 L 0.6134947733186323,0.6828033579181763 L 0.646446609406727,0.6464466094067254 L 0.6828033579181783,0.6134947733186307 L 0.7222148834901998,0.5842651938487269 L 0.7643016315870022,0.559039367825822 L 0.8086582838174561,0.5380602337443563 L 0.8548576613727698,0.5215298321338953 L 0.9024548389919368,0.5096073597983846 L 0.9509914298352206,0.5024076366639014 L 1.0000000000000009,0.5 L 1.049008570164781,0.5024076366639016 L 1.0975451610080649,0.5096073597983849 L 1.145142338627232,0.5215298321338957 L 1.1913417161825455,0.5380602337443569 L 1.2356983684129994,0.5590393678258228 L 1.2777851165098015,0.5842651938487277 L 1.317196642081823,0.6134947733186318 L 1.353553390593274,0.6464466094067265 L 1.3865052266813687,0.6828033579181776 L 1.415734806151273,0.7222148834901991 L 1.4409606321741777,0.7643016315870014 L 1.4619397662556435,0.8086582838174553 L 1.4784701678661045,0.854857661372769 L 1.4903926402016152,0.902454838991936 L 1.4975923633360986,0.9509914298352198 L 1.5,1.0 L 1.4975923633360981,1.0490085701647833 z\" /></g></svg>",
      "text/plain": [
       "<shapely.geometry.polygon.Polygon at 0x193952bac88>"
      ]
     },
     "execution_count": 43,
     "metadata": {},
     "output_type": "execute_result"
    }
   ],
   "source": [
    "a = geometry.Point(1, 1).buffer(1)\n",
    "b = geometry.Point(1, 1).buffer(0.5)\n",
    "a.difference(b)"
   ]
  },
  {
   "cell_type": "markdown",
   "metadata": {},
   "source": [
    "#### object.intersection(other)"
   ]
  },
  {
   "cell_type": "code",
   "execution_count": 44,
   "metadata": {},
   "outputs": [
    {
     "data": {
      "image/svg+xml": "<svg xmlns=\"http://www.w3.org/2000/svg\" xmlns:xlink=\"http://www.w3.org/1999/xlink\" width=\"100.0\" height=\"100.0\" viewBox=\"0.46 0.46 1.08 1.08\" preserveAspectRatio=\"xMinYMin meet\"><g transform=\"matrix(1,0,0,-1,0,2.0)\"><path fill-rule=\"evenodd\" fill=\"#66cc99\" stroke=\"#555555\" stroke-width=\"0.0216\" opacity=\"0.6\" d=\"M 1.4975923633360986,0.9509914298352198 L 1.4903926402016152,0.902454838991936 L 1.4784701678661045,0.854857661372769 L 1.4619397662556435,0.8086582838174553 L 1.4409606321741777,0.7643016315870014 L 1.415734806151273,0.7222148834901991 L 1.3865052266813687,0.6828033579181776 L 1.353553390593274,0.6464466094067265 L 1.317196642081823,0.6134947733186318 L 1.2777851165098015,0.5842651938487277 L 1.2356983684129994,0.5590393678258228 L 1.1913417161825455,0.5380602337443569 L 1.145142338627232,0.5215298321338957 L 1.0975451610080649,0.5096073597983849 L 1.049008570164781,0.5024076366639016 L 1.0000000000000009,0.5 L 0.9509914298352206,0.5024076366639014 L 0.9024548389919368,0.5096073597983846 L 0.8548576613727698,0.5215298321338953 L 0.8086582838174561,0.5380602337443563 L 0.7643016315870022,0.559039367825822 L 0.7222148834901998,0.5842651938487269 L 0.6828033579181783,0.6134947733186307 L 0.646446609406727,0.6464466094067254 L 0.6134947733186323,0.6828033579181763 L 0.5842651938487281,0.7222148834901978 L 0.5590393678258232,0.7643016315869999 L 0.5380602337443572,0.8086582838174539 L 0.521529832133896,0.8548576613727673 L 0.509607359798385,0.9024548389919343 L 0.5024076366639016,0.950991429835218 L 0.5,0.9999999999999983 L 0.5024076366639014,1.0490085701647787 L 0.5096073597983845,1.0975451610080624 L 0.521529832133895,1.1451423386272297 L 0.5380602337443559,1.1913417161825433 L 0.5590393678258216,1.2356983684129972 L 0.5842651938487262,1.2777851165097995 L 0.6134947733186302,1.3171966420818213 L 0.6464466094067247,1.3535533905932722 L 0.6828033579181757,1.386505226681367 L 0.7222148834901971,1.4157348061512713 L 0.764301631586999,1.4409606321741764 L 0.8086582838174532,1.4619397662556426 L 0.8548576613727666,1.4784701678661039 L 0.9024548389919335,1.4903926402016148 L 0.9509914298352171,1.4975923633360981 L 0.9999999999999977,1.5 L 1.0490085701647778,1.4975923633360986 L 1.0975451610080615,1.4903926402016157 L 1.1451423386272288,1.4784701678661052 L 1.1913417161825426,1.4619397662556444 L 1.2356983684129965,1.4409606321741788 L 1.2777851165097986,1.4157348061512742 L 1.3171966420818206,1.3865052266813702 L 1.3535533905932717,1.3535533905932757 L 1.3865052266813667,1.317196642081825 L 1.415734806151271,1.2777851165098038 L 1.4409606321741761,1.2356983684130014 L 1.4619397662556421,1.1913417161825477 L 1.4784701678661034,1.1451423386272341 L 1.4903926402016145,1.0975451610080673 L 1.4975923633360981,1.0490085701647833 L 1.5,1.0 L 1.4975923633360986,0.9509914298352198 z\" /></g></svg>",
      "text/plain": [
       "<shapely.geometry.polygon.Polygon at 0x193952c5188>"
      ]
     },
     "execution_count": 44,
     "metadata": {},
     "output_type": "execute_result"
    }
   ],
   "source": [
    "a.intersection(b)"
   ]
  },
  {
   "cell_type": "markdown",
   "metadata": {},
   "source": [
    "#### object.union(other)"
   ]
  },
  {
   "cell_type": "code",
   "execution_count": 45,
   "metadata": {},
   "outputs": [
    {
     "data": {
      "image/svg+xml": "<svg xmlns=\"http://www.w3.org/2000/svg\" xmlns:xlink=\"http://www.w3.org/1999/xlink\" width=\"100.0\" height=\"100.0\" viewBox=\"0.312 0.312 2.3760000000000003 1.3760000000000001\" preserveAspectRatio=\"xMinYMin meet\"><g transform=\"matrix(1,0,0,-1,0,2.0)\"><path fill-rule=\"evenodd\" fill=\"#66cc99\" stroke=\"#555555\" stroke-width=\"0.04752000000000001\" opacity=\"0.6\" d=\"M 1.4988817673815273,0.6666578601882389 L 1.4638062720176426,0.619364029501813 L 1.4242640687119288,0.5757359312880719 L 1.3806359704981876,0.5361937279823582 L 1.3333421398117618,0.5011182326184732 L 1.2828380420955992,0.4708472413909873 L 1.2296100594190544,0.44567228049322827 L 1.1741708063526781,0.4258357985606749 L 1.1170541932096778,0.4115288317580619 L 1.0588102841977372,0.40288916399668195 L 1.0000000000000009,0.4 L 0.9411897158022646,0.40288916399668184 L 0.8829458067903241,0.41152883175806154 L 0.8258291936473237,0.42583579856067433 L 0.7703899405809473,0.4456722804932275 L 0.7171619579044026,0.47084724139098644 L 0.6666578601882397,0.5011182326184722 L 0.6193640295018139,0.5361937279823569 L 0.5757359312880725,0.5757359312880705 L 0.5361937279823588,0.6193640295018115 L 0.5011182326184738,0.6666578601882374 L 0.47084724139098777,0.7171619579044 L 0.4456722804932286,0.7703899405809447 L 0.4258357985606752,0.8258291936473208 L 0.4115288317580621,0.8829458067903213 L 0.40288916399668206,0.9411897158022616 L 0.4,0.9999999999999981 L 0.40288916399668173,1.0588102841977345 L 0.4115288317580613,1.117054193209675 L 0.4258357985606741,1.1741708063526755 L 0.44567228049322716,1.2296100594190518 L 0.470847241390986,1.2828380420955967 L 0.5011182326184715,1.3333421398117593 L 0.5361937279823563,1.3806359704981856 L 0.5757359312880697,1.4242640687119268 L 0.6193640295018108,1.4638062720176406 L 0.6666578601882365,1.4988817673815258 L 0.7171619579043989,1.5291527586090117 L 0.7703899405809438,1.554327719506771 L 0.82582919364732,1.5741642014393245 L 0.8829458067903202,1.5884711682419377 L 0.9411897158022605,1.597110836003318 L 0.9999999999999972,1.6 L 1.0588102841977334,1.5971108360033184 L 1.1170541932096738,1.5884711682419388 L 1.1741708063526748,1.5741642014393262 L 1.229610059419051,1.554327719506773 L 1.2828380420955958,1.5291527586090146 L 1.3333421398117584,1.4988817673815291 L 1.3806359704981848,1.4638062720176441 L 1.4242640687119261,1.4242640687119308 L 1.46380627201764,1.38063597049819 L 1.4988817673815251,1.3333421398117644 L 1.4999999999999998,1.3314764813994435 L 1.5011182326184715,1.3333421398117593 L 1.5361937279823563,1.3806359704981856 L 1.5757359312880697,1.4242640687119268 L 1.6193640295018108,1.4638062720176406 L 1.6666578601882365,1.4988817673815258 L 1.7171619579043989,1.5291527586090117 L 1.7703899405809438,1.554327719506771 L 1.82582919364732,1.5741642014393245 L 1.8829458067903202,1.5884711682419377 L 1.9411897158022606,1.597110836003318 L 1.9999999999999973,1.6 L 2.0588102841977336,1.5971108360033184 L 2.117054193209674,1.5884711682419388 L 2.1741708063526746,1.5741642014393262 L 2.229610059419051,1.554327719506773 L 2.282838042095596,1.5291527586090146 L 2.3333421398117586,1.4988817673815291 L 2.3806359704981848,1.4638062720176441 L 2.424264068711926,1.4242640687119308 L 2.46380627201764,1.38063597049819 L 2.498881767381525,1.3333421398117644 L 2.5291527586090115,1.2828380420956016 L 2.5543277195067704,1.229610059419057 L 2.5741642014393245,1.174170806352681 L 2.5884711682419375,1.117054193209681 L 2.597110836003318,1.05881028419774 L 2.6,1.0 L 2.597110836003318,0.9411897158022637 L 2.5884711682419383,0.8829458067903232 L 2.5741642014393253,0.8258291936473228 L 2.554327719506772,0.7703899405809463 L 2.5291527586090132,0.7171619579044017 L 2.498881767381527,0.6666578601882389 L 2.4638062720176426,0.619364029501813 L 2.424264068711929,0.5757359312880719 L 2.380635970498188,0.5361937279823582 L 2.3333421398117618,0.5011182326184732 L 2.282838042095599,0.4708472413909873 L 2.2296100594190547,0.44567228049322827 L 2.174170806352678,0.4258357985606749 L 2.1170541932096776,0.4115288317580619 L 2.058810284197737,0.40288916399668195 L 2.000000000000001,0.4 L 1.9411897158022646,0.40288916399668184 L 1.8829458067903242,0.41152883175806154 L 1.8258291936473237,0.42583579856067433 L 1.7703899405809473,0.4456722804932275 L 1.7171619579044026,0.47084724139098644 L 1.6666578601882396,0.5011182326184722 L 1.619364029501814,0.5361937279823569 L 1.5757359312880725,0.5757359312880705 L 1.5361937279823588,0.6193640295018115 L 1.5011182326184738,0.6666578601882374 L 1.5,0.6685235186005564 L 1.4988817673815273,0.6666578601882389 z\" /></g></svg>",
      "text/plain": [
       "<shapely.geometry.polygon.Polygon at 0x193952c5f48>"
      ]
     },
     "execution_count": 45,
     "metadata": {},
     "output_type": "execute_result"
    }
   ],
   "source": [
    "a = geometry.Point(1, 1).buffer(0.6)\n",
    "b = geometry.Point(2, 1).buffer(0.6)\n",
    "a.union(b)"
   ]
  },
  {
   "cell_type": "markdown",
   "metadata": {
    "collapsed": true
   },
   "source": [
    "### Application\n",
    "Faire l'union des 4 polygônes suivants"
   ]
  },
  {
   "cell_type": "code",
   "execution_count": 46,
   "metadata": {
    "collapsed": true
   },
   "outputs": [],
   "source": [
    "polygon1 = idf_geodf.geometry[1]\n",
    "polygon2 = idf_geodf.geometry[2]\n",
    "polygon3 = idf_geodf.geometry[3]\n",
    "polygon4 = idf_geodf.geometry[4]"
   ]
  },
  {
   "cell_type": "code",
   "execution_count": 47,
   "metadata": {},
   "outputs": [
    {
     "data": {
      "image/svg+xml": "<svg xmlns=\"http://www.w3.org/2000/svg\" xmlns:xlink=\"http://www.w3.org/1999/xlink\" width=\"300\" height=\"300\" viewBox=\"650542.6845140251 6859712.691774844 3311.541565756779 4165.565045259893\" preserveAspectRatio=\"xMinYMin meet\"><g transform=\"matrix(1,0,0,-1,0,13723590.948594948)\"><path fill-rule=\"evenodd\" fill=\"#66cc99\" stroke=\"#555555\" stroke-width=\"27.770433635065952\" opacity=\"0.6\" d=\"M 651676.0225731826,6863723.976633242 L 652160.9563252041,6863598.034549775 L 652621.0420445413,6863443.954054865 L 653334.0330828434,6863233.029430391 L 653538.0365657948,6862731.984168595 L 653656.9440464028,6861930.039442513 L 653699.9458929205,6861650.016864136 L 653526.0096641303,6861097.006310242 L 653349.0099792558,6860868.041333271 L 653467.0097691722,6860727.008892054 L 653184.9448867376,6860272.028932859 L 652494.9864997364,6859866.971961706 L 651705.9763660076,6860006.983250895 L 651307.9539977129,6860165.0348925805 L 651906.008702183,6861749.976301555 L 652319.0079668901,6862632.024731176 L 652374.9444057639,6862785.9917647485 L 650888.0335914819,6863341.952313391 L 650696.9647008865,6863524.965449096 L 651676.0225731826,6863723.976633242 z\" /></g></svg>",
      "text/plain": [
       "<shapely.geometry.polygon.Polygon at 0x193952c73c8>"
      ]
     },
     "execution_count": 47,
     "metadata": {},
     "output_type": "execute_result"
    }
   ],
   "source": [
    "polygon1.union(polygon2).union(polygon3).union(polygon4)"
   ]
  },
  {
   "cell_type": "code",
   "execution_count": 48,
   "metadata": {
    "collapsed": true
   },
   "outputs": [],
   "source": [
    "from shapely.ops import cascaded_union"
   ]
  },
  {
   "cell_type": "code",
   "execution_count": 49,
   "metadata": {},
   "outputs": [
    {
     "data": {
      "image/svg+xml": "<svg xmlns=\"http://www.w3.org/2000/svg\" xmlns:xlink=\"http://www.w3.org/1999/xlink\" width=\"300\" height=\"300\" viewBox=\"650542.6845140251 6859712.691774844 3311.541565756779 4165.565045259893\" preserveAspectRatio=\"xMinYMin meet\"><g transform=\"matrix(1,0,0,-1,0,13723590.948594948)\"><path fill-rule=\"evenodd\" fill=\"#66cc99\" stroke=\"#555555\" stroke-width=\"27.770433635065952\" opacity=\"0.6\" d=\"M 652494.9864997364,6859866.971961706 L 651705.9763660076,6860006.983250895 L 651307.9539977129,6860165.0348925805 L 651906.008702183,6861749.976301555 L 652319.0079668901,6862632.024731176 L 652374.9444057639,6862785.9917647485 L 650888.0335914819,6863341.952313391 L 650696.9647008865,6863524.965449096 L 651676.0225731826,6863723.976633242 L 652160.9563252041,6863598.034549775 L 652621.0420445413,6863443.954054865 L 653334.0330828434,6863233.029430391 L 653538.0365657948,6862731.984168595 L 653656.9440464028,6861930.039442513 L 653699.9458929205,6861650.016864136 L 653526.0096641303,6861097.006310242 L 653349.0099792558,6860868.041333271 L 653467.0097691722,6860727.008892054 L 653184.9448867376,6860272.028932859 L 652494.9864997364,6859866.971961706 z\" /></g></svg>",
      "text/plain": [
       "<shapely.geometry.polygon.Polygon at 0x193952cd5c8>"
      ]
     },
     "execution_count": 49,
     "metadata": {},
     "output_type": "execute_result"
    }
   ],
   "source": [
    "cascaded_union([polygon1, polygon2, polygon3, polygon4])"
   ]
  },
  {
   "cell_type": "code",
   "execution_count": 50,
   "metadata": {},
   "outputs": [
    {
     "data": {
      "text/plain": [
       "<GeometryArray>\n",
       "[<shapely.geometry.polygon.Polygon object at 0x0000019393A9F988>,\n",
       " <shapely.geometry.polygon.Polygon object at 0x0000019394293588>,\n",
       " <shapely.geometry.polygon.Polygon object at 0x0000019394293548>,\n",
       " <shapely.geometry.polygon.Polygon object at 0x0000019394293A08>,\n",
       " <shapely.geometry.polygon.Polygon object at 0x00000193942933C8>,\n",
       " <shapely.geometry.polygon.Polygon object at 0x0000019394293B88>,\n",
       " <shapely.geometry.polygon.Polygon object at 0x0000019394293BC8>,\n",
       " <shapely.geometry.polygon.Polygon object at 0x0000019394293C48>,\n",
       " <shapely.geometry.polygon.Polygon object at 0x0000019394293988>,\n",
       " <shapely.geometry.polygon.Polygon object at 0x0000019394293C88>,\n",
       " <shapely.geometry.polygon.Polygon object at 0x0000019394293908>,\n",
       " <shapely.geometry.polygon.Polygon object at 0x0000019394293B08>,\n",
       " <shapely.geometry.polygon.Polygon object at 0x0000019394293E08>,\n",
       " <shapely.geometry.polygon.Polygon object at 0x0000019394299348>,\n",
       " <shapely.geometry.polygon.Polygon object at 0x0000019394299488>,\n",
       " <shapely.geometry.polygon.Polygon object at 0x00000193942994C8>,\n",
       " <shapely.geometry.polygon.Polygon object at 0x0000019394299548>,\n",
       " <shapely.geometry.polygon.Polygon object at 0x00000193942995C8>,\n",
       " <shapely.geometry.polygon.Polygon object at 0x0000019394299648>,\n",
       " <shapely.geometry.polygon.Polygon object at 0x00000193942996C8>]\n",
       "Length: 20, dtype: geometry"
      ]
     },
     "execution_count": 50,
     "metadata": {},
     "output_type": "execute_result"
    },
    {
     "data": {
      "image/svg+xml": "<svg xmlns=\"http://www.w3.org/2000/svg\" xmlns:xlink=\"http://www.w3.org/1999/xlink\" width=\"300\" height=\"300\" viewBox=\"642357.075395157 6856780.115611319 19410.792980003287 10990.82720141299\" preserveAspectRatio=\"xMinYMin meet\"><g transform=\"matrix(1,0,0,-1,0,13724551.058424052)\"><path fill-rule=\"evenodd\" fill=\"#66cc99\" stroke=\"#555555\" stroke-width=\"129.40528653335525\" opacity=\"0.6\" d=\"M 648705.0374780298,6858567.953120604 L 647832.9736460138,6858933.979392016 L 647111.0191621315,6859379.99590563 L 646726.9525382211,6859007.048492695 L 646469.9626111437,6858906.975593939 L 646222.0495909831,6859005.0061886385 L 646207.9803852623,6859286.957609735 L 646395.9858197732,6859486.98994591 L 646161.0073919686,6859635.964680679 L 645884.9559603663,6859571.972486917 L 645319.0108141138,6859693.943423608 L 645074.047788701,6860214.957880622 L 645116.0284831905,6860784.987634984 L 644357.9932943146,6861168.033106864 L 644163.9744089714,6861378.957731339 L 643075.9936536757,6861776.9800996315 L 643187.9799927596,6862430.971242973 L 643361.0085308581,6862989.995247699 L 643643.9811039844,6863501.025107103 L 644350.9586914541,6863885.999421704 L 644676.0254204064,6864312.954430793 L 645228.0148222744,6864103.958649038 L 645446.9952016384,6864241.019943479 L 645541.9623402538,6864521.9502125485 L 645733.0312308491,6864687.944147785 L 646898.0522335998,6864482.011822115 L 647189.9882523062,6864525.013668632 L 647339.9841391037,6865084.945364051 L 647527.9895736146,6865306.989199498 L 647970.034940455,6865670.973166853 L 648242.0017639447,6865760.040315973 L 648952.9504981906,6866241.002921216 L 650139.9830002142,6866931.982460242 L 650880.9989886214,6867004.030408893 L 652486.0230541563,6867031.03420697 L 653510.0116156897,6867032.055358998 L 653835.9860353336,6867033.984201717 L 654969.0109412032,6867052.0245542135 L 655239.9566126649,6866967.949703899 L 655645.01358382,6866649.009887117 L 655840.0536211912,6866169.976124593 L 655904.0458149535,6865657.017422469 L 655975.9803022679,6865117.96261296 L 656128.0184931216,6864891.039940044 L 656611.0234024234,6864648.005757352 L 656778.9461803812,6864434.017676794 L 656962.980468116,6863836.984124354 L 656984.9919673889,6862693.9746208815 L 657099.0206105292,6861840.972293394 L 657169.0262551238,6861179.9465471925 L 657139.9801529906,6860890.052832544 L 656880.9479218569,6859502.9879943505 L 657160.9705002352,6859496.974543518 L 657431.0084810053,6859604.989735826 L 657534.0313745092,6859822.948963161 L 657408.9969817324,6860392.978717524 L 657556.9505644736,6860615.022552971 L 657710.0099073555,6860412.040222048 L 657982.9978828735,6860321.9519209005 L 658513.9969374969,6860269.986628803 L 659009.0287484631,6860738.014641691 L 659244.0071762677,6860783.966482956 L 659477.9644520441,6860670.958991844 L 660529.9779636826,6860412.040222048 L 660897.0253871243,6860025.023603392 L 661047.0212739217,6859802.979767945 L 661048.9501166416,6859538.047547316 L 660747.0295003268,6859109.050234171 L 660698.014202977,6858848.996851009 L 660778.0044451798,6858601.991521542 L 660441.0242758996,6857721.985395977 L 660201.9612399826,6857578.002960012 L 658820.0021619241,6857729.019998837 L 657974.0344372933,6858363.949637654 L 657416.0315845929,6858380.968838123 L 656617.9445439472,6858551.047381472 L 656231.9490773171,6858941.013994876 L 655961.0034058555,6858928.987093212 L 655221.0085694764,6858577.030027521 L 654534.0001772232,6858139.9769594865 L 653308.9581274862,6857557.012612768 L 652736.9995304014,6857514.010766251 L 652546.9517918342,6857696.002749928 L 652294.954163561,6857693.052755181 L 652078.0160882534,6857546.006863132 L 651822.9550038957,6857499.033869838 L 650942.9488783275,6857645.966300551 L 650771.0549535936,6857857.004386362 L 649644.0434985564,6858244.021005019 L 648705.0374780298,6858567.953120604 z\" /></g></svg>",
      "text/plain": [
       "<shapely.geometry.polygon.Polygon at 0x193952cd688>"
      ]
     },
     "execution_count": 50,
     "metadata": {},
     "output_type": "execute_result"
    },
    {
     "data": {
      "image/svg+xml": "<svg xmlns=\"http://www.w3.org/2000/svg\" xmlns:xlink=\"http://www.w3.org/1999/xlink\" width=\"300\" height=\"300\" viewBox=\"642357.075395157 6856780.115611319 19410.792980003287 10990.82720141299\" preserveAspectRatio=\"xMinYMin meet\"><g transform=\"matrix(1,0,0,-1,0,13724551.058424052)\"><path fill-rule=\"evenodd\" fill=\"#66cc99\" stroke=\"#555555\" stroke-width=\"129.40528653335525\" opacity=\"0.6\" d=\"M 648705.0374780298,6858567.953120604 L 647832.9736460138,6858933.979392016 L 647111.0191621315,6859379.99590563 L 646726.9525382211,6859007.048492695 L 646469.9626111437,6858906.975593939 L 646222.0495909831,6859005.0061886385 L 646207.9803852623,6859286.957609735 L 646395.9858197732,6859486.98994591 L 646161.0073919686,6859635.964680679 L 645884.9559603663,6859571.972486917 L 645319.0108141138,6859693.943423608 L 645074.047788701,6860214.957880622 L 645116.0284831905,6860784.987634984 L 644357.9932943146,6861168.033106864 L 644163.9744089714,6861378.957731339 L 643075.9936536757,6861776.9800996315 L 643187.9799927596,6862430.971242973 L 643361.0085308581,6862989.995247699 L 643643.9811039844,6863501.025107103 L 644350.9586914541,6863885.999421704 L 644676.0254204064,6864312.954430793 L 645228.0148222744,6864103.958649038 L 645446.9952016384,6864241.019943479 L 645541.9623402538,6864521.9502125485 L 645733.0312308491,6864687.944147785 L 646898.0522335998,6864482.011822115 L 647189.9882523062,6864525.013668632 L 647339.9841391037,6865084.945364051 L 647527.9895736146,6865306.989199498 L 647970.034940455,6865670.973166853 L 648242.0017639447,6865760.040315973 L 648952.9504981906,6866241.002921216 L 650139.9830002142,6866931.982460242 L 650880.9989886214,6867004.030408893 L 652486.0230541563,6867031.03420697 L 653510.0116156897,6867032.055358998 L 653835.9860353336,6867033.984201717 L 654969.0109412032,6867052.0245542135 L 655239.9566126649,6866967.949703899 L 655645.01358382,6866649.009887117 L 655840.0536211912,6866169.976124593 L 655904.0458149535,6865657.017422469 L 655975.9803022679,6865117.96261296 L 656128.0184931216,6864891.039940044 L 656611.0234024234,6864648.005757352 L 656778.9461803812,6864434.017676794 L 656962.980468116,6863836.984124354 L 656984.9919673889,6862693.9746208815 L 657099.0206105292,6861840.972293394 L 657169.0262551238,6861179.9465471925 L 657139.9801529906,6860890.052832544 L 656880.9479218569,6859502.9879943505 L 657160.9705002352,6859496.974543518 L 657431.0084810053,6859604.989735826 L 657534.0313745092,6859822.948963161 L 657408.9969817324,6860392.978717524 L 657556.9505644736,6860615.022552971 L 657710.0099073555,6860412.040222048 L 657982.9978828735,6860321.9519209005 L 658513.9969374969,6860269.986628803 L 659009.0287484631,6860738.014641691 L 659244.0071762677,6860783.966482956 L 659477.9644520441,6860670.958991844 L 660529.9779636826,6860412.040222048 L 660897.0253871243,6860025.023603392 L 661047.0212739217,6859802.979767945 L 661048.9501166416,6859538.047547316 L 660747.0295003268,6859109.050234171 L 660698.014202977,6858848.996851009 L 660778.0044451798,6858601.991521542 L 660441.0242758996,6857721.985395977 L 660201.9612399826,6857578.002960012 L 658820.0021619241,6857729.019998837 L 657974.0344372933,6858363.949637654 L 657416.0315845929,6858380.968838123 L 656617.9445439472,6858551.047381472 L 656231.9490773171,6858941.013994876 L 655961.0034058555,6858928.987093212 L 655221.0085694764,6858577.030027521 L 654534.0001772232,6858139.9769594865 L 653308.9581274862,6857557.012612768 L 652736.9995304014,6857514.010766251 L 652546.9517918342,6857696.002749928 L 652294.954163561,6857693.052755181 L 652078.0160882534,6857546.006863132 L 651822.9550038957,6857499.033869838 L 650942.9488783275,6857645.966300551 L 650771.0549535936,6857857.004386362 L 649644.0434985564,6858244.021005019 L 648705.0374780298,6858567.953120604 z\" /></g></svg>",
      "text/plain": [
       "<shapely.geometry.polygon.Polygon at 0x193952cd448>"
      ]
     },
     "execution_count": 50,
     "metadata": {},
     "output_type": "execute_result"
    }
   ],
   "source": [
    "idf_geodf.geometry.values\n",
    "cascaded_union(idf_geodf.geometry.values)\n",
    "cascaded_union(list(idf_geodf.geometry.values))"
   ]
  },
  {
   "cell_type": "code",
   "execution_count": null,
   "metadata": {
    "collapsed": true
   },
   "outputs": [],
   "source": []
  }
 ],
 "metadata": {
  "anaconda-cloud": {},
  "kernelspec": {
   "display_name": "Python 3",
   "language": "python",
   "name": "python3"
  },
  "language_info": {
   "codemirror_mode": {
    "name": "ipython",
    "version": 3
   },
   "file_extension": ".py",
   "mimetype": "text/x-python",
   "name": "python",
   "nbconvert_exporter": "python",
   "pygments_lexer": "ipython3",
   "version": "3.7.9"
  }
 },
 "nbformat": 4,
 "nbformat_minor": 2
}
