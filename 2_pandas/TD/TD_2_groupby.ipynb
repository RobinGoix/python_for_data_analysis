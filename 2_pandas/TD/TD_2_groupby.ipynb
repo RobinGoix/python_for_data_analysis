{
 "cells": [
  {
   "cell_type": "markdown",
   "metadata": {},
   "source": [
    "# TD 2\n",
    "---\n",
    "# groupby"
   ]
  },
  {
   "cell_type": "markdown",
   "metadata": {},
   "source": [
    "créer le dataframe «distance_matrix» à partir de la table 'stops', du fichier r'../../data/corse/distance_to_node.hdf'"
   ]
  },
  {
   "cell_type": "markdown",
   "metadata": {},
   "source": [
    "restreindre «distance_matrix» aux lignes pour lesquelles le stop est plus petit que 5"
   ]
  },
  {
   "cell_type": "markdown",
   "metadata": {},
   "source": [
    "En utilisant un groupby, afficher la distance minimale pour chaque stop"
   ]
  },
  {
   "cell_type": "markdown",
   "metadata": {},
   "source": [
    "Afficher le numéro du 'stop_node' qui correspond à la distance minimale pour chaque stop:\n",
    "- classer «distance_matrix» par ordre croissant\n",
    "- utiliser un groupby('stop') et faire ressortir le premier élément"
   ]
  }
 ],
 "metadata": {
  "kernelspec": {
   "display_name": "Python 3",
   "language": "python",
   "name": "python3"
  },
  "language_info": {
   "codemirror_mode": {
    "name": "ipython",
    "version": 3
   },
   "file_extension": ".py",
   "mimetype": "text/x-python",
   "name": "python",
   "nbconvert_exporter": "python",
   "pygments_lexer": "ipython3",
   "version": "3.8.3"
  }
 },
 "nbformat": 4,
 "nbformat_minor": 2
}
