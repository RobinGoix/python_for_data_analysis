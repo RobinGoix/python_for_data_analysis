{
 "cells": [
  {
   "cell_type": "code",
   "execution_count": 1,
   "metadata": {
    "collapsed": true
   },
   "outputs": [],
   "source": [
    "import pandas as pd"
   ]
  },
  {
   "cell_type": "markdown",
   "metadata": {},
   "source": [
    "# TD 2\n",
    "---\n",
    "# groupby"
   ]
  },
  {
   "cell_type": "markdown",
   "metadata": {},
   "source": [
    "créer le dataframe «distance_matrix» à partir de la table 'stops', du fichier r'../../data/corse/distance_to_node.hdf'"
   ]
  },
  {
   "cell_type": "code",
   "execution_count": 2,
   "metadata": {
    "collapsed": true
   },
   "outputs": [],
   "source": [
    "distance_matrix = pd.read_hdf(r'../../data/corse/distance_to_node.hdf', 'stops')"
   ]
  },
  {
   "cell_type": "code",
   "execution_count": 3,
   "metadata": {},
   "outputs": [
    {
     "data": {
      "text/html": [
       "<div>\n",
       "<style scoped>\n",
       "    .dataframe tbody tr th:only-of-type {\n",
       "        vertical-align: middle;\n",
       "    }\n",
       "\n",
       "    .dataframe tbody tr th {\n",
       "        vertical-align: top;\n",
       "    }\n",
       "\n",
       "    .dataframe thead th {\n",
       "        text-align: right;\n",
       "    }\n",
       "</style>\n",
       "<table border=\"1\" class=\"dataframe\">\n",
       "  <thead>\n",
       "    <tr style=\"text-align: right;\">\n",
       "      <th></th>\n",
       "      <th>stop_node</th>\n",
       "      <th>stop</th>\n",
       "      <th>distance</th>\n",
       "    </tr>\n",
       "  </thead>\n",
       "  <tbody>\n",
       "    <tr>\n",
       "      <th>202262</th>\n",
       "      <td>1438772679</td>\n",
       "      <td>11</td>\n",
       "      <td>7.085744</td>\n",
       "    </tr>\n",
       "    <tr>\n",
       "      <th>526269</th>\n",
       "      <td>938869755</td>\n",
       "      <td>35</td>\n",
       "      <td>17.101087</td>\n",
       "    </tr>\n",
       "    <tr>\n",
       "      <th>351879</th>\n",
       "      <td>4460494743</td>\n",
       "      <td>22</td>\n",
       "      <td>17.591249</td>\n",
       "    </tr>\n",
       "    <tr>\n",
       "      <th>734776</th>\n",
       "      <td>2313442539</td>\n",
       "      <td>54</td>\n",
       "      <td>22.884806</td>\n",
       "    </tr>\n",
       "    <tr>\n",
       "      <th>446354</th>\n",
       "      <td>2313442539</td>\n",
       "      <td>28</td>\n",
       "      <td>22.884806</td>\n",
       "    </tr>\n",
       "  </tbody>\n",
       "</table>\n",
       "</div>"
      ],
      "text/plain": [
       "         stop_node  stop   distance\n",
       "202262  1438772679    11   7.085744\n",
       "526269   938869755    35  17.101087\n",
       "351879  4460494743    22  17.591249\n",
       "734776  2313442539    54  22.884806\n",
       "446354  2313442539    28  22.884806"
      ]
     },
     "execution_count": 3,
     "metadata": {},
     "output_type": "execute_result"
    }
   ],
   "source": [
    "distance_matrix.head()"
   ]
  },
  {
   "cell_type": "markdown",
   "metadata": {},
   "source": [
    "restreindre «distance_matrix» aux lignes pour lesquelles le stop est plus petit que 5"
   ]
  },
  {
   "cell_type": "code",
   "execution_count": 4,
   "metadata": {},
   "outputs": [
    {
     "data": {
      "text/html": [
       "<div>\n",
       "<style scoped>\n",
       "    .dataframe tbody tr th:only-of-type {\n",
       "        vertical-align: middle;\n",
       "    }\n",
       "\n",
       "    .dataframe tbody tr th {\n",
       "        vertical-align: top;\n",
       "    }\n",
       "\n",
       "    .dataframe thead th {\n",
       "        text-align: right;\n",
       "    }\n",
       "</style>\n",
       "<table border=\"1\" class=\"dataframe\">\n",
       "  <thead>\n",
       "    <tr style=\"text-align: right;\">\n",
       "      <th></th>\n",
       "      <th>stop_node</th>\n",
       "      <th>stop</th>\n",
       "      <th>distance</th>\n",
       "    </tr>\n",
       "  </thead>\n",
       "  <tbody>\n",
       "    <tr>\n",
       "      <th>24303</th>\n",
       "      <td>276984551</td>\n",
       "      <td>1</td>\n",
       "      <td>25.290162</td>\n",
       "    </tr>\n",
       "    <tr>\n",
       "      <th>69328</th>\n",
       "      <td>339875414</td>\n",
       "      <td>4</td>\n",
       "      <td>41.996386</td>\n",
       "    </tr>\n",
       "    <tr>\n",
       "      <th>74673</th>\n",
       "      <td>7516416753</td>\n",
       "      <td>4</td>\n",
       "      <td>61.014134</td>\n",
       "    </tr>\n",
       "    <tr>\n",
       "      <th>83286</th>\n",
       "      <td>339864129</td>\n",
       "      <td>4</td>\n",
       "      <td>63.787473</td>\n",
       "    </tr>\n",
       "    <tr>\n",
       "      <th>40213</th>\n",
       "      <td>245916772</td>\n",
       "      <td>2</td>\n",
       "      <td>67.040466</td>\n",
       "    </tr>\n",
       "  </tbody>\n",
       "</table>\n",
       "</div>"
      ],
      "text/plain": [
       "        stop_node  stop   distance\n",
       "24303   276984551     1  25.290162\n",
       "69328   339875414     4  41.996386\n",
       "74673  7516416753     4  61.014134\n",
       "83286   339864129     4  63.787473\n",
       "40213   245916772     2  67.040466"
      ]
     },
     "execution_count": 4,
     "metadata": {},
     "output_type": "execute_result"
    }
   ],
   "source": [
    "distance_matrix = distance_matrix.loc[distance_matrix['stop'] < 5].copy()\n",
    "distance_matrix.head()"
   ]
  },
  {
   "cell_type": "markdown",
   "metadata": {},
   "source": [
    "En utilisant un groupby, afficher la distance minimale pour chaque stop"
   ]
  },
  {
   "cell_type": "code",
   "execution_count": 5,
   "metadata": {
    "scrolled": true
   },
   "outputs": [
    {
     "data": {
      "text/plain": [
       "stop\n",
       "0    129286.803326\n",
       "1    130846.291498\n",
       "2    131859.052629\n",
       "3    112071.574228\n",
       "4    148881.498108\n",
       "Name: distance, dtype: float64"
      ]
     },
     "execution_count": 5,
     "metadata": {},
     "output_type": "execute_result"
    }
   ],
   "source": [
    "distance_matrix.groupby('stop')['distance'].max()"
   ]
  },
  {
   "cell_type": "markdown",
   "metadata": {},
   "source": [
    "Afficher le numéro du 'stop_node' qui correspond à la distance minimale pour chaque stop:\n",
    "- classer «distance_matrix» par ordre croissant\n",
    "- utiliser un groupby('stop') et faire ressortir le premier élément"
   ]
  },
  {
   "cell_type": "code",
   "execution_count": 6,
   "metadata": {},
   "outputs": [
    {
     "data": {
      "text/html": [
       "<div>\n",
       "<style scoped>\n",
       "    .dataframe tbody tr th:only-of-type {\n",
       "        vertical-align: middle;\n",
       "    }\n",
       "\n",
       "    .dataframe tbody tr th {\n",
       "        vertical-align: top;\n",
       "    }\n",
       "\n",
       "    .dataframe thead th {\n",
       "        text-align: right;\n",
       "    }\n",
       "</style>\n",
       "<table border=\"1\" class=\"dataframe\">\n",
       "  <thead>\n",
       "    <tr style=\"text-align: right;\">\n",
       "      <th></th>\n",
       "      <th>stop_node</th>\n",
       "      <th>distance</th>\n",
       "    </tr>\n",
       "    <tr>\n",
       "      <th>stop</th>\n",
       "      <th></th>\n",
       "      <th></th>\n",
       "    </tr>\n",
       "  </thead>\n",
       "  <tbody>\n",
       "    <tr>\n",
       "      <th>0</th>\n",
       "      <td>394695922</td>\n",
       "      <td>110.163646</td>\n",
       "    </tr>\n",
       "    <tr>\n",
       "      <th>1</th>\n",
       "      <td>276984551</td>\n",
       "      <td>25.290162</td>\n",
       "    </tr>\n",
       "    <tr>\n",
       "      <th>2</th>\n",
       "      <td>245916772</td>\n",
       "      <td>67.040466</td>\n",
       "    </tr>\n",
       "    <tr>\n",
       "      <th>3</th>\n",
       "      <td>258557760</td>\n",
       "      <td>318.828891</td>\n",
       "    </tr>\n",
       "    <tr>\n",
       "      <th>4</th>\n",
       "      <td>339875414</td>\n",
       "      <td>41.996386</td>\n",
       "    </tr>\n",
       "  </tbody>\n",
       "</table>\n",
       "</div>"
      ],
      "text/plain": [
       "      stop_node    distance\n",
       "stop                       \n",
       "0     394695922  110.163646\n",
       "1     276984551   25.290162\n",
       "2     245916772   67.040466\n",
       "3     258557760  318.828891\n",
       "4     339875414   41.996386"
      ]
     },
     "execution_count": 6,
     "metadata": {},
     "output_type": "execute_result"
    }
   ],
   "source": [
    "distance_matrix.sort_values('distance', inplace=True)\n",
    "distance_matrix.groupby('stop').first()"
   ]
  },
  {
   "cell_type": "code",
   "execution_count": null,
   "metadata": {
    "collapsed": true
   },
   "outputs": [],
   "source": []
  }
 ],
 "metadata": {
  "interpreter": {
   "hash": "cd08e8f141c3c7c16b21c92fe06b33acb085612bdb610462ffd7016d01b3a515"
  },
  "kernelspec": {
   "display_name": "Python [conda env:quetzal_env]",
   "language": "python",
   "name": "python3"
  },
  "language_info": {
   "codemirror_mode": {
    "name": "ipython",
    "version": 3
   },
   "file_extension": ".py",
   "mimetype": "text/x-python",
   "name": "python",
   "nbconvert_exporter": "python",
   "pygments_lexer": "ipython3",
   "version": "3.8.3"
  }
 },
 "nbformat": 4,
 "nbformat_minor": 2
}
