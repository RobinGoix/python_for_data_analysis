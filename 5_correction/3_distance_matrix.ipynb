{
 "cells": [
  {
   "cell_type": "code",
   "execution_count": 2,
   "metadata": {
    "collapsed": true
   },
   "outputs": [],
   "source": [
    "import geopandas as gpd\n",
    "import pandas as pd\n",
    "import numpy as np\n",
    "\n",
    "from tqdm import tqdm\n",
    "\n",
    "training_folder = r'../'\n",
    "gis_folder = training_folder + r'gis/corse/'\n",
    "data_folder = training_folder + r'data/corse/'"
   ]
  },
  {
   "cell_type": "markdown",
   "metadata": {},
   "source": [
    "# chargement des données"
   ]
  },
  {
   "cell_type": "code",
   "execution_count": 3,
   "metadata": {
    "collapsed": true
   },
   "outputs": [],
   "source": [
    "nodes = gpd.read_file(gis_folder + r'osmdrive/nodes/nodes.shp')\n",
    "stops = gpd.read_file(gis_folder + r'stops_corse.shp')\n",
    "communes = gpd.read_file(gis_folder + r'communes_corse.shp')"
   ]
  },
  {
   "cell_type": "code",
   "execution_count": 4,
   "metadata": {
    "collapsed": true
   },
   "outputs": [
    {
     "name": "stderr",
     "output_type": "stream",
     "text": [
      "C:\\Users\\rgoix\\AppData\\Local\\Continuum\\anaconda3\\envs\\quetzal_env\\lib\\site-packages\\pyproj\\crs\\crs.py:53: FutureWarning: '+init=<authority>:<code>' syntax is deprecated. '<authority>:<code>' is the preferred initialization method. When making the change, be mindful of axis order changes: https://pyproj4.github.io/pyproj/stable/gotchas.html#axis-order-changes-in-proj-6\n",
      "  return _prepare_from_string(\" \".join(pjargs))\n",
      "C:\\Users\\rgoix\\AppData\\Local\\Continuum\\anaconda3\\envs\\quetzal_env\\lib\\site-packages\\pyproj\\crs\\crs.py:53: FutureWarning: '+init=<authority>:<code>' syntax is deprecated. '<authority>:<code>' is the preferred initialization method. When making the change, be mindful of axis order changes: https://pyproj4.github.io/pyproj/stable/gotchas.html#axis-order-changes-in-proj-6\n",
      "  return _prepare_from_string(\" \".join(pjargs))\n",
      "C:\\Users\\rgoix\\AppData\\Local\\Continuum\\anaconda3\\envs\\quetzal_env\\lib\\site-packages\\pyproj\\crs\\crs.py:53: FutureWarning: '+init=<authority>:<code>' syntax is deprecated. '<authority>:<code>' is the preferred initialization method. When making the change, be mindful of axis order changes: https://pyproj4.github.io/pyproj/stable/gotchas.html#axis-order-changes-in-proj-6\n",
      "  return _prepare_from_string(\" \".join(pjargs))\n"
     ]
    }
   ],
   "source": [
    "nodes.crs = {'init' :'epsg:4326'}\n",
    "stops.crs = {'init' :'epsg:4326'}\n",
    "communes.crs = {'init' :'epsg:4326'}\n",
    "\n",
    "nodes = nodes.to_crs({'init': 'epsg:2154'}) \n",
    "stops = stops.to_crs({'init': 'epsg:2154'}) \n",
    "communes = communes.to_crs({'init': 'epsg:2154'}) "
   ]
  },
  {
   "cell_type": "code",
   "execution_count": 5,
   "metadata": {},
   "outputs": [
    {
     "data": {
      "text/html": [
       "<div>\n",
       "<style scoped>\n",
       "    .dataframe tbody tr th:only-of-type {\n",
       "        vertical-align: middle;\n",
       "    }\n",
       "\n",
       "    .dataframe tbody tr th {\n",
       "        vertical-align: top;\n",
       "    }\n",
       "\n",
       "    .dataframe thead th {\n",
       "        text-align: right;\n",
       "    }\n",
       "</style>\n",
       "<table border=\"1\" class=\"dataframe\">\n",
       "  <thead>\n",
       "    <tr style=\"text-align: right;\">\n",
       "      <th></th>\n",
       "      <th>osmid</th>\n",
       "      <th>highway</th>\n",
       "      <th>geometry</th>\n",
       "    </tr>\n",
       "  </thead>\n",
       "  <tbody>\n",
       "    <tr>\n",
       "      <th>0</th>\n",
       "      <td>939851776</td>\n",
       "      <td>None</td>\n",
       "      <td>POINT (1223345.366 6074305.296)</td>\n",
       "    </tr>\n",
       "  </tbody>\n",
       "</table>\n",
       "</div>"
      ],
      "text/plain": [
       "       osmid highway                         geometry\n",
       "0  939851776    None  POINT (1223345.366 6074305.296)"
      ]
     },
     "execution_count": 5,
     "metadata": {},
     "output_type": "execute_result"
    }
   ],
   "source": [
    "nodes.head(1)"
   ]
  },
  {
   "cell_type": "code",
   "execution_count": 6,
   "metadata": {
    "scrolled": true
   },
   "outputs": [
    {
     "data": {
      "text/html": [
       "<div>\n",
       "<style scoped>\n",
       "    .dataframe tbody tr th:only-of-type {\n",
       "        vertical-align: middle;\n",
       "    }\n",
       "\n",
       "    .dataframe tbody tr th {\n",
       "        vertical-align: top;\n",
       "    }\n",
       "\n",
       "    .dataframe thead th {\n",
       "        text-align: right;\n",
       "    }\n",
       "</style>\n",
       "<table border=\"1\" class=\"dataframe\">\n",
       "  <thead>\n",
       "    <tr style=\"text-align: right;\">\n",
       "      <th></th>\n",
       "      <th>name</th>\n",
       "      <th>stop</th>\n",
       "      <th>geometry</th>\n",
       "    </tr>\n",
       "  </thead>\n",
       "  <tbody>\n",
       "    <tr>\n",
       "      <th>0</th>\n",
       "      <td>Gare de Campo dell'Oro (Ajaccio), corse</td>\n",
       "      <td>0</td>\n",
       "      <td>POINT (1181123.516 6110402.106)</td>\n",
       "    </tr>\n",
       "  </tbody>\n",
       "</table>\n",
       "</div>"
      ],
      "text/plain": [
       "                                      name  stop  \\\n",
       "0  Gare de Campo dell'Oro (Ajaccio), corse     0   \n",
       "\n",
       "                          geometry  \n",
       "0  POINT (1181123.516 6110402.106)  "
      ]
     },
     "execution_count": 6,
     "metadata": {},
     "output_type": "execute_result"
    }
   ],
   "source": [
    "stops.head(1)"
   ]
  },
  {
   "cell_type": "code",
   "execution_count": 7,
   "metadata": {},
   "outputs": [
    {
     "data": {
      "text/html": [
       "<div>\n",
       "<style scoped>\n",
       "    .dataframe tbody tr th:only-of-type {\n",
       "        vertical-align: middle;\n",
       "    }\n",
       "\n",
       "    .dataframe tbody tr th {\n",
       "        vertical-align: top;\n",
       "    }\n",
       "\n",
       "    .dataframe thead th {\n",
       "        text-align: right;\n",
       "    }\n",
       "</style>\n",
       "<table border=\"1\" class=\"dataframe\">\n",
       "  <thead>\n",
       "    <tr style=\"text-align: right;\">\n",
       "      <th></th>\n",
       "      <th>insee</th>\n",
       "      <th>geometry</th>\n",
       "    </tr>\n",
       "  </thead>\n",
       "  <tbody>\n",
       "    <tr>\n",
       "      <th>0</th>\n",
       "      <td>2B047</td>\n",
       "      <td>POLYGON ((1194340.897 6154934.152, 1194481.235...</td>\n",
       "    </tr>\n",
       "  </tbody>\n",
       "</table>\n",
       "</div>"
      ],
      "text/plain": [
       "   insee                                           geometry\n",
       "0  2B047  POLYGON ((1194340.897 6154934.152, 1194481.235..."
      ]
     },
     "execution_count": 7,
     "metadata": {},
     "output_type": "execute_result"
    }
   ],
   "source": [
    "communes.head(1)"
   ]
  },
  {
   "cell_type": "markdown",
   "metadata": {},
   "source": [
    "# Matrices des distances \n",
    "## stop -> node et commune -> node"
   ]
  },
  {
   "cell_type": "code",
   "execution_count": 8,
   "metadata": {
    "collapsed": true
   },
   "outputs": [],
   "source": [
    "nodetuples = nodes[['osmid', 'geometry']].values.tolist()\n",
    "stoptuples = stops[['stop', 'geometry']].values.tolist()\n",
    "communetuples = communes[['insee', 'geometry']].values.tolist()"
   ]
  },
  {
   "cell_type": "markdown",
   "metadata": {},
   "source": [
    "## stop node"
   ]
  },
  {
   "cell_type": "code",
   "execution_count": 9,
   "metadata": {},
   "outputs": [
    {
     "name": "stderr",
     "output_type": "stream",
     "text": [
      "100%|██████████| 50/50 [00:03<00:00, 15.50it/s]\n"
     ]
    }
   ],
   "source": [
    "stop_node_distances = []\n",
    "\n",
    "for stop_id, stop_geometry in tqdm(stoptuples):\n",
    "    for node_id, node_geometry in nodetuples:\n",
    "        distance = node_geometry.distance(stop_geometry)\n",
    "        stop_node_distances.append((node_id, stop_id, distance))\n",
    "        \n",
    "# on transforme les listes de tuples en DataFrames\n",
    "stop_node_distance_dataframe = pd.DataFrame(\n",
    "    stop_node_distances, \n",
    "    columns = ['stop_node', 'stop', 'distance']\n",
    ")\n",
    "\n",
    "stop_node_distance_dataframe.sort_values(by='distance', inplace=True)"
   ]
  },
  {
   "cell_type": "code",
   "execution_count": 13,
   "metadata": {},
   "outputs": [
    {
     "data": {
      "text/plain": [
       "848300"
      ]
     },
     "execution_count": 13,
     "metadata": {},
     "output_type": "execute_result"
    }
   ],
   "source": [
    "len(stops) * len(nodes)"
   ]
  },
  {
   "cell_type": "code",
   "execution_count": 10,
   "metadata": {},
   "outputs": [
    {
     "data": {
      "text/plain": [
       "848300"
      ]
     },
     "execution_count": 10,
     "metadata": {},
     "output_type": "execute_result"
    }
   ],
   "source": [
    "len(stop_node_distance_dataframe)"
   ]
  },
  {
   "cell_type": "code",
   "execution_count": 14,
   "metadata": {},
   "outputs": [
    {
     "data": {
      "text/html": [
       "<div>\n",
       "<style scoped>\n",
       "    .dataframe tbody tr th:only-of-type {\n",
       "        vertical-align: middle;\n",
       "    }\n",
       "\n",
       "    .dataframe tbody tr th {\n",
       "        vertical-align: top;\n",
       "    }\n",
       "\n",
       "    .dataframe thead th {\n",
       "        text-align: right;\n",
       "    }\n",
       "</style>\n",
       "<table border=\"1\" class=\"dataframe\">\n",
       "  <thead>\n",
       "    <tr style=\"text-align: right;\">\n",
       "      <th></th>\n",
       "      <th>stop_node</th>\n",
       "      <th>stop</th>\n",
       "      <th>distance</th>\n",
       "    </tr>\n",
       "  </thead>\n",
       "  <tbody>\n",
       "    <tr>\n",
       "      <th>202262</th>\n",
       "      <td>1438772679</td>\n",
       "      <td>11</td>\n",
       "      <td>7.085744</td>\n",
       "    </tr>\n",
       "    <tr>\n",
       "      <th>526269</th>\n",
       "      <td>938869755</td>\n",
       "      <td>35</td>\n",
       "      <td>17.101087</td>\n",
       "    </tr>\n",
       "    <tr>\n",
       "      <th>351879</th>\n",
       "      <td>4460494743</td>\n",
       "      <td>22</td>\n",
       "      <td>17.591249</td>\n",
       "    </tr>\n",
       "    <tr>\n",
       "      <th>734776</th>\n",
       "      <td>2313442539</td>\n",
       "      <td>54</td>\n",
       "      <td>22.884806</td>\n",
       "    </tr>\n",
       "    <tr>\n",
       "      <th>446354</th>\n",
       "      <td>2313442539</td>\n",
       "      <td>28</td>\n",
       "      <td>22.884806</td>\n",
       "    </tr>\n",
       "  </tbody>\n",
       "</table>\n",
       "</div>"
      ],
      "text/plain": [
       "         stop_node  stop   distance\n",
       "202262  1438772679    11   7.085744\n",
       "526269   938869755    35  17.101087\n",
       "351879  4460494743    22  17.591249\n",
       "734776  2313442539    54  22.884806\n",
       "446354  2313442539    28  22.884806"
      ]
     },
     "execution_count": 14,
     "metadata": {},
     "output_type": "execute_result"
    }
   ],
   "source": [
    "stop_node_distance_dataframe.head()"
   ]
  },
  {
   "cell_type": "markdown",
   "metadata": {},
   "source": [
    "## commune node\n",
    "On fait la même chose avec les communes"
   ]
  },
  {
   "cell_type": "code",
   "execution_count": 15,
   "metadata": {
    "scrolled": true
   },
   "outputs": [
    {
     "name": "stderr",
     "output_type": "stream",
     "text": [
      "100%|██████████| 360/360 [00:37<00:00,  9.57it/s]\n"
     ]
    },
    {
     "data": {
      "text/html": [
       "<div>\n",
       "<style scoped>\n",
       "    .dataframe tbody tr th:only-of-type {\n",
       "        vertical-align: middle;\n",
       "    }\n",
       "\n",
       "    .dataframe tbody tr th {\n",
       "        vertical-align: top;\n",
       "    }\n",
       "\n",
       "    .dataframe thead th {\n",
       "        text-align: right;\n",
       "    }\n",
       "</style>\n",
       "<table border=\"1\" class=\"dataframe\">\n",
       "  <thead>\n",
       "    <tr style=\"text-align: right;\">\n",
       "      <th></th>\n",
       "      <th>commune_node</th>\n",
       "      <th>commune</th>\n",
       "      <th>distance</th>\n",
       "    </tr>\n",
       "  </thead>\n",
       "  <tbody>\n",
       "    <tr>\n",
       "      <th>4393951</th>\n",
       "      <td>1797913766</td>\n",
       "      <td>2B037</td>\n",
       "      <td>0.0</td>\n",
       "    </tr>\n",
       "    <tr>\n",
       "      <th>60235</th>\n",
       "      <td>6286905402</td>\n",
       "      <td>2B341</td>\n",
       "      <td>0.0</td>\n",
       "    </tr>\n",
       "    <tr>\n",
       "      <th>4759110</th>\n",
       "      <td>338462238</td>\n",
       "      <td>2B207</td>\n",
       "      <td>0.0</td>\n",
       "    </tr>\n",
       "    <tr>\n",
       "      <th>2296602</th>\n",
       "      <td>1900438245</td>\n",
       "      <td>2A130</td>\n",
       "      <td>0.0</td>\n",
       "    </tr>\n",
       "    <tr>\n",
       "      <th>3441934</th>\n",
       "      <td>386850990</td>\n",
       "      <td>2A041</td>\n",
       "      <td>0.0</td>\n",
       "    </tr>\n",
       "  </tbody>\n",
       "</table>\n",
       "</div>"
      ],
      "text/plain": [
       "        commune_node commune  distance\n",
       "4393951   1797913766   2B037       0.0\n",
       "60235     6286905402   2B341       0.0\n",
       "4759110    338462238   2B207       0.0\n",
       "2296602   1900438245   2A130       0.0\n",
       "3441934    386850990   2A041       0.0"
      ]
     },
     "execution_count": 15,
     "metadata": {},
     "output_type": "execute_result"
    }
   ],
   "source": [
    "commune_node_distances = []\n",
    "        \n",
    "for commune_id, commune_geometry in tqdm(communetuples):\n",
    "    for node_id, node_geometry in nodetuples:\n",
    "        distance = node_geometry.distance(commune_geometry)\n",
    "        commune_node_distances.append((node_id, commune_id, distance))\n",
    "        \n",
    "commune_node_distance_dataframe = pd.DataFrame(\n",
    "    commune_node_distances, \n",
    "    columns = ['commune_node', 'commune', 'distance']\n",
    ")\n",
    "\n",
    "commune_node_distance_dataframe.sort_values(by='distance', inplace=True)\n",
    "\n",
    "commune_node_distance_dataframe.head() # quand le nœud est dans la commune, la distance est nulle"
   ]
  },
  {
   "cell_type": "code",
   "execution_count": 16,
   "metadata": {},
   "outputs": [
    {
     "data": {
      "text/plain": [
       "6107760"
      ]
     },
     "execution_count": 16,
     "metadata": {},
     "output_type": "execute_result"
    }
   ],
   "source": [
    "# la table est assez large, on va la stocker au format hdf, plus rapide et leger que CSV\n",
    "len(commune_node_distance_dataframe)"
   ]
  },
  {
   "cell_type": "code",
   "execution_count": 17,
   "metadata": {
    "collapsed": true
   },
   "outputs": [],
   "source": [
    "def top(df, n=5, column='data'):\n",
    "    return df.sort_values(by=column)[:n]\n",
    "commune_node_distance_dataframe = commune_node_distance_dataframe.groupby('commune').apply(top, n=20, column='distance')"
   ]
  },
  {
   "cell_type": "code",
   "execution_count": 18,
   "metadata": {
    "collapsed": true
   },
   "outputs": [],
   "source": [
    "commune_node_distance_dataframe.to_hdf(data_folder + 'distance_to_node.hdf', 'communes', index=False, mode='w')\n",
    "stop_node_distance_dataframe.to_hdf(data_folder + 'distance_to_node.hdf', 'stops', index=False, mode='a')"
   ]
  }
 ],
 "metadata": {
  "kernelspec": {
   "display_name": "Python [conda env:quetzal_env]",
   "language": "python",
   "name": "conda-env-quetzal_env-py"
  },
  "language_info": {
   "codemirror_mode": {
    "name": "ipython",
    "version": 3
   },
   "file_extension": ".py",
   "mimetype": "text/x-python",
   "name": "python",
   "nbconvert_exporter": "python",
   "pygments_lexer": "ipython3",
   "version": "3.7.9"
  }
 },
 "nbformat": 4,
 "nbformat_minor": 2
}
