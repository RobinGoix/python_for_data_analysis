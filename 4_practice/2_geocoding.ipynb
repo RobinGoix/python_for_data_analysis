{
 "cells": [
  {
   "cell_type": "markdown",
   "metadata": {},
   "source": [
    "# geocoding à partir d'une liste récupérée sur internet\n",
    "### http://www.horaires.tv/gares/liste_gare_corse.html"
   ]
  },
  {
   "cell_type": "code",
   "execution_count": 28,
   "metadata": {
    "collapsed": true
   },
   "outputs": [],
   "source": [
    "import matplotlib.pyplot as plt\n",
    "%matplotlib inline\n",
    "\n",
    "import requests\n",
    "import json\n",
    "\n",
    "import pandas as pd\n",
    "import numpy as np\n",
    "\n",
    "import geopandas as gpd\n",
    "\n",
    "from tqdm import tqdm\n",
    "from shapely import geometry"
   ]
  },
  {
   "cell_type": "markdown",
   "metadata": {},
   "source": [
    "# Chargement des données "
   ]
  },
  {
   "cell_type": "code",
   "execution_count": 29,
   "metadata": {
    "collapsed": true
   },
   "outputs": [],
   "source": [
    "training_folder = r'../'\n",
    "gis_folder = training_folder + r'gis/corse/'\n",
    "data_folder = training_folder + r'data/corse/'"
   ]
  },
  {
   "cell_type": "code",
   "execution_count": 30,
   "metadata": {},
   "outputs": [
    {
     "data": {
      "image/svg+xml": "<svg xmlns=\"http://www.w3.org/2000/svg\" xmlns:xlink=\"http://www.w3.org/1999/xlink\" width=\"100.0\" height=\"100.0\" viewBox=\"8.46693445576744 41.26540847146444 1.1609010667132829 1.8301285718676041\" preserveAspectRatio=\"xMinYMin meet\"><g transform=\"matrix(1,0,0,-1,0,84.36094551479648)\"><path fill-rule=\"evenodd\" fill=\"#66cc99\" stroke=\"#555555\" stroke-width=\"0.036602571437352086\" opacity=\"0.6\" d=\"M 9.262094469284984,41.33319101116324 L 9.248442322754578,41.33600656711126 L 8.908084585488592,41.456000269790536 L 8.907401596378078,41.45638530334388 L 8.787850205106315,41.5556769586281 L 8.658559908344827,41.74099791856617 L 8.585672582484994,41.87410440410921 L 8.538058728323165,42.23687760519854 L 8.53471699546624,42.37221786530556 L 8.709210696987679,42.57672196511447 L 9.346738047268087,43.00059596936695 L 9.357945877910405,43.007188473993885 L 9.406515449703008,43.02775450363325 L 9.471008019232745,42.98465438843622 L 9.471867976454233,42.98345619466961 L 9.533103075100692,42.546294211141856 L 9.560052982781922,42.282120717031766 L 9.558943383742976,42.196632170502944 L 9.55659455876959,42.14290849594631 L 9.554831165866863,42.12376907788862 L 9.38374189960918,41.50892197484087 L 9.306241095944696,41.368731389681784 L 9.262094469284984,41.33319101116324 z\" /></g></svg>",
      "text/plain": [
       "<shapely.geometry.polygon.Polygon at 0x2171b5471d0>"
      ]
     },
     "execution_count": 30,
     "metadata": {},
     "output_type": "execute_result"
    }
   ],
   "source": [
    "# création de la géométrie : corse\n",
    "communes = gpd.read_file(gis_folder + r'communes_corse.shp')\n",
    "convex_corse = communes.dissolve([0] * len(communes)).convex_hull[0]\n",
    "convex_corse"
   ]
  },
  {
   "cell_type": "code",
   "execution_count": 31,
   "metadata": {
    "collapsed": true
   },
   "outputs": [],
   "source": [
    "# lecture de la table des gares\n",
    "gares = pd.read_csv(data_folder + 'gares_corse.txt', encoding='latin', header=None)\n",
    "gares.columns = ['name']"
   ]
  },
  {
   "cell_type": "code",
   "execution_count": 32,
   "metadata": {},
   "outputs": [
    {
     "data": {
      "text/html": [
       "<div>\n",
       "<style>\n",
       "    .dataframe thead tr:only-child th {\n",
       "        text-align: right;\n",
       "    }\n",
       "\n",
       "    .dataframe thead th {\n",
       "        text-align: left;\n",
       "    }\n",
       "\n",
       "    .dataframe tbody tr th {\n",
       "        vertical-align: top;\n",
       "    }\n",
       "</style>\n",
       "<table border=\"1\" class=\"dataframe\">\n",
       "  <thead>\n",
       "    <tr style=\"text-align: right;\">\n",
       "      <th></th>\n",
       "      <th>name</th>\n",
       "    </tr>\n",
       "  </thead>\n",
       "  <tbody>\n",
       "    <tr>\n",
       "      <th>0</th>\n",
       "      <td>Gare de Campo dell'Oro (Ajaccio)</td>\n",
       "    </tr>\n",
       "    <tr>\n",
       "      <th>1</th>\n",
       "      <td>Gare de Salines (Ajaccio)</td>\n",
       "    </tr>\n",
       "  </tbody>\n",
       "</table>\n",
       "</div>"
      ],
      "text/plain": [
       "                               name\n",
       "0  Gare de Campo dell'Oro (Ajaccio)\n",
       "1         Gare de Salines (Ajaccio)"
      ]
     },
     "execution_count": 32,
     "metadata": {},
     "output_type": "execute_result"
    }
   ],
   "source": [
    "gares.head(2)"
   ]
  },
  {
   "cell_type": "code",
   "execution_count": 33,
   "metadata": {
    "collapsed": true
   },
   "outputs": [],
   "source": [
    "gares['name'] += ', corse'"
   ]
  },
  {
   "cell_type": "code",
   "execution_count": 34,
   "metadata": {},
   "outputs": [
    {
     "data": {
      "text/html": [
       "<div>\n",
       "<style>\n",
       "    .dataframe thead tr:only-child th {\n",
       "        text-align: right;\n",
       "    }\n",
       "\n",
       "    .dataframe thead th {\n",
       "        text-align: left;\n",
       "    }\n",
       "\n",
       "    .dataframe tbody tr th {\n",
       "        vertical-align: top;\n",
       "    }\n",
       "</style>\n",
       "<table border=\"1\" class=\"dataframe\">\n",
       "  <thead>\n",
       "    <tr style=\"text-align: right;\">\n",
       "      <th></th>\n",
       "      <th>name</th>\n",
       "    </tr>\n",
       "  </thead>\n",
       "  <tbody>\n",
       "    <tr>\n",
       "      <th>0</th>\n",
       "      <td>Gare de Campo dell'Oro (Ajaccio), corse</td>\n",
       "    </tr>\n",
       "    <tr>\n",
       "      <th>1</th>\n",
       "      <td>Gare de Salines (Ajaccio), corse</td>\n",
       "    </tr>\n",
       "  </tbody>\n",
       "</table>\n",
       "</div>"
      ],
      "text/plain": [
       "                                      name\n",
       "0  Gare de Campo dell'Oro (Ajaccio), corse\n",
       "1         Gare de Salines (Ajaccio), corse"
      ]
     },
     "execution_count": 34,
     "metadata": {},
     "output_type": "execute_result"
    }
   ],
   "source": [
    "gares.head(2)"
   ]
  },
  {
   "cell_type": "markdown",
   "metadata": {},
   "source": [
    "# création de la requête "
   ]
  },
  {
   "cell_type": "code",
   "execution_count": 35,
   "metadata": {
    "collapsed": true
   },
   "outputs": [],
   "source": [
    "url_root = 'https://api-adresse.data.gouv.fr/search/?q='"
   ]
  },
  {
   "cell_type": "markdown",
   "metadata": {},
   "source": [
    "<font color='#D22328'>\n",
    "# Exercice\n",
    "</font>\n",
    "\n",
    "* définir la fonction geocoding_response(address) qui pour une adresse donnée renvoit la réponse de la geocoding API gouvernementale\n",
    "* remplir la colonne 'response' de gares en utilisant cette fonction avec apply\n",
    "* définir la fonction response_to_geometry(response)  qui pour une réponse de la geocoding API de google renvoit une geometrie de point (shapely)\n",
    "* remplir la colonne 'geometry' de gares en utilisant la fonction response_to_geometry avec apply\n"
   ]
  },
  {
   "cell_type": "code",
   "execution_count": 40,
   "metadata": {
    "collapsed": true
   },
   "outputs": [],
   "source": [
    "gares['stop'] = gares.index"
   ]
  },
  {
   "cell_type": "code",
   "execution_count": 41,
   "metadata": {
    "collapsed": true
   },
   "outputs": [],
   "source": [
    "gares = gpd.geodataframe.GeoDataFrame(gares[['name','stop', 'geometry']].dropna())"
   ]
  },
  {
   "cell_type": "code",
   "execution_count": 43,
   "metadata": {
    "collapsed": true
   },
   "outputs": [],
   "source": [
    "gares = gares.loc[gares.intersects(convex_corse)] # on ne garde que les gares qui sont codées en corse"
   ]
  },
  {
   "cell_type": "code",
   "execution_count": 44,
   "metadata": {
    "collapsed": true
   },
   "outputs": [],
   "source": [
    "gares.to_file(gis_folder + 'stops_corse.shp')"
   ]
  },
  {
   "cell_type": "markdown",
   "metadata": {
    "scrolled": false
   },
   "source": [
    "<font color='#D22328'>\n",
    "# Exercice\n",
    "</font>\n",
    "\n",
    "Afficher une carte avec les communes et les gares"
   ]
  }
 ],
 "metadata": {
  "kernelspec": {
   "display_name": "Python 3",
   "language": "python",
   "name": "python3"
  },
  "language_info": {
   "codemirror_mode": {
    "name": "ipython",
    "version": 3
   },
   "file_extension": ".py",
   "mimetype": "text/x-python",
   "name": "python",
   "nbconvert_exporter": "python",
   "pygments_lexer": "ipython3",
   "version": "3.8.3"
  }
 },
 "nbformat": 4,
 "nbformat_minor": 2
}
