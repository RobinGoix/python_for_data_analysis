{
 "cells": [
  {
   "cell_type": "code",
   "execution_count": 10,
   "metadata": {
    "collapsed": true
   },
   "outputs": [],
   "source": [
    "import geopandas as gpd\n",
    "import pandas as pd\n",
    "import numpy as np\n",
    "\n",
    "import requests\n",
    "import json"
   ]
  },
  {
   "cell_type": "code",
   "execution_count": 11,
   "metadata": {
    "collapsed": true
   },
   "outputs": [],
   "source": [
    "%matplotlib inline\n",
    "training_folder = r'../'\n",
    "gis_folder = training_folder +'gis/'\n",
    "data_folder = training_folder + 'data/'\n",
    "communes = gpd.read_file(gis_folder + r'communes\\communes_arrond_pop_epci_simplified.shp')"
   ]
  },
  {
   "cell_type": "markdown",
   "metadata": {},
   "source": [
    "# Isoler les communes de Corse"
   ]
  },
  {
   "cell_type": "code",
   "execution_count": 12,
   "metadata": {},
   "outputs": [
    {
     "data": {
      "text/html": [
       "<div>\n",
       "<style>\n",
       "    .dataframe thead tr:only-child th {\n",
       "        text-align: right;\n",
       "    }\n",
       "\n",
       "    .dataframe thead th {\n",
       "        text-align: left;\n",
       "    }\n",
       "\n",
       "    .dataframe tbody tr th {\n",
       "        vertical-align: top;\n",
       "    }\n",
       "</style>\n",
       "<table border=\"1\" class=\"dataframe\">\n",
       "  <thead>\n",
       "    <tr style=\"text-align: right;\">\n",
       "      <th></th>\n",
       "      <th>insee</th>\n",
       "      <th>nom</th>\n",
       "      <th>Area</th>\n",
       "      <th>pop_2014</th>\n",
       "      <th>epci</th>\n",
       "      <th>num_mnv</th>\n",
       "      <th>epci_simpl</th>\n",
       "      <th>adapted_ep</th>\n",
       "      <th>density</th>\n",
       "      <th>geometry</th>\n",
       "    </tr>\n",
       "  </thead>\n",
       "  <tbody>\n",
       "    <tr>\n",
       "      <th>0</th>\n",
       "      <td>76551</td>\n",
       "      <td>Sainneville</td>\n",
       "      <td>1.081932e+07</td>\n",
       "      <td>851</td>\n",
       "      <td>247600539</td>\n",
       "      <td>76</td>\n",
       "      <td>247600539_1</td>\n",
       "      <td>76_247600539_1</td>\n",
       "      <td>78.655608</td>\n",
       "      <td>POLYGON ((0.2722377706189721 49.55065829026471...</td>\n",
       "    </tr>\n",
       "    <tr>\n",
       "      <th>1</th>\n",
       "      <td>76296</td>\n",
       "      <td>Gainneville</td>\n",
       "      <td>7.093305e+06</td>\n",
       "      <td>2609</td>\n",
       "      <td>247600596</td>\n",
       "      <td>76</td>\n",
       "      <td>247600596_1</td>\n",
       "      <td>76_247600596_1</td>\n",
       "      <td>367.811607</td>\n",
       "      <td>POLYGON ((0.2329478855428514 49.52156941619999...</td>\n",
       "    </tr>\n",
       "    <tr>\n",
       "      <th>2</th>\n",
       "      <td>14238</td>\n",
       "      <td>Englesqueville-en-Auge</td>\n",
       "      <td>5.614284e+06</td>\n",
       "      <td>119</td>\n",
       "      <td>241400878</td>\n",
       "      <td>14</td>\n",
       "      <td>241400878_1</td>\n",
       "      <td>14_241400878_1</td>\n",
       "      <td>21.195937</td>\n",
       "      <td>POLYGON ((0.1348509582017156 49.33427339714586...</td>\n",
       "    </tr>\n",
       "    <tr>\n",
       "      <th>3</th>\n",
       "      <td>14299</td>\n",
       "      <td>Genneville</td>\n",
       "      <td>1.460741e+07</td>\n",
       "      <td>773</td>\n",
       "      <td>241400886</td>\n",
       "      <td>14</td>\n",
       "      <td>241400886_2</td>\n",
       "      <td>14_241400886_2</td>\n",
       "      <td>52.918344</td>\n",
       "      <td>POLYGON ((0.2502462039799705 49.36161241136908...</td>\n",
       "    </tr>\n",
       "    <tr>\n",
       "      <th>4</th>\n",
       "      <td>14059</td>\n",
       "      <td>Benerville-sur-Mer</td>\n",
       "      <td>4.726867e+06</td>\n",
       "      <td>475</td>\n",
       "      <td>241400415</td>\n",
       "      <td>14</td>\n",
       "      <td>241400415_1</td>\n",
       "      <td>14_241400415_1</td>\n",
       "      <td>100.489388</td>\n",
       "      <td>POLYGON ((0.031042362621091 49.34140219540441,...</td>\n",
       "    </tr>\n",
       "  </tbody>\n",
       "</table>\n",
       "</div>"
      ],
      "text/plain": [
       "   insee                     nom          Area  pop_2014       epci  num_mnv  \\\n",
       "0  76551             Sainneville  1.081932e+07       851  247600539       76   \n",
       "1  76296             Gainneville  7.093305e+06      2609  247600596       76   \n",
       "2  14238  Englesqueville-en-Auge  5.614284e+06       119  241400878       14   \n",
       "3  14299              Genneville  1.460741e+07       773  241400886       14   \n",
       "4  14059      Benerville-sur-Mer  4.726867e+06       475  241400415       14   \n",
       "\n",
       "    epci_simpl      adapted_ep     density  \\\n",
       "0  247600539_1  76_247600539_1   78.655608   \n",
       "1  247600596_1  76_247600596_1  367.811607   \n",
       "2  241400878_1  14_241400878_1   21.195937   \n",
       "3  241400886_2  14_241400886_2   52.918344   \n",
       "4  241400415_1  14_241400415_1  100.489388   \n",
       "\n",
       "                                            geometry  \n",
       "0  POLYGON ((0.2722377706189721 49.55065829026471...  \n",
       "1  POLYGON ((0.2329478855428514 49.52156941619999...  \n",
       "2  POLYGON ((0.1348509582017156 49.33427339714586...  \n",
       "3  POLYGON ((0.2502462039799705 49.36161241136908...  \n",
       "4  POLYGON ((0.031042362621091 49.34140219540441,...  "
      ]
     },
     "execution_count": 12,
     "metadata": {},
     "output_type": "execute_result"
    }
   ],
   "source": [
    "communes.head()"
   ]
  },
  {
   "cell_type": "code",
   "execution_count": 13,
   "metadata": {
    "collapsed": true
   },
   "outputs": [],
   "source": [
    "communes['corse'] = communes['insee'].apply(lambda s: '2A' in s or '2B' in s)"
   ]
  },
  {
   "cell_type": "code",
   "execution_count": 14,
   "metadata": {
    "collapsed": true
   },
   "outputs": [],
   "source": [
    "corse = communes.loc[communes['corse'] == True].copy()"
   ]
  },
  {
   "cell_type": "code",
   "execution_count": 15,
   "metadata": {
    "collapsed": true
   },
   "outputs": [],
   "source": [
    "corse.drop('corse', axis=1, inplace=True)"
   ]
  },
  {
   "cell_type": "code",
   "execution_count": 17,
   "metadata": {
    "collapsed": true
   },
   "outputs": [],
   "source": [
    "corse[['insee', 'geometry']].to_file(gis_folder +r'\\corse/communes_corse.shp')"
   ]
  }
 ],
 "metadata": {
  "kernelspec": {
   "display_name": "Python 3",
   "language": "python",
   "name": "python3"
  },
  "language_info": {
   "codemirror_mode": {
    "name": "ipython",
    "version": 3
   },
   "file_extension": ".py",
   "mimetype": "text/x-python",
   "name": "python",
   "nbconvert_exporter": "python",
   "pygments_lexer": "ipython3",
   "version": "3.6.8"
  }
 },
 "nbformat": 4,
 "nbformat_minor": 2
}
