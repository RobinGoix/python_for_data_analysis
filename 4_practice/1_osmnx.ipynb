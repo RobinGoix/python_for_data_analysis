{
 "cells": [
  {
   "cell_type": "markdown",
   "metadata": {},
   "source": [
    "# OSMNX"
   ]
  },
  {
   "cell_type": "code",
   "execution_count": 1,
   "metadata": {
    "collapsed": true
   },
   "outputs": [],
   "source": [
    "import geopandas as gpd\n",
    "\n",
    "\n",
    "from shapely import geometry\n",
    "import osmnx as ox\n",
    "\n",
    "training_folder = '../'\n",
    "gis_folder = training_folder + r'gis/corse/'\n",
    "data_folder = training_folder + r'data/corse/'"
   ]
  },
  {
   "cell_type": "code",
   "execution_count": 2,
   "metadata": {
    "collapsed": true
   },
   "outputs": [],
   "source": [
    "communes = gpd.read_file(gis_folder + r'communes_corse.shp')\n",
    "multi_corse = geometry.MultiPolygon(list(communes['geometry']))\n",
    "buffer_corse = multi_corse.buffer(0)\n",
    "convex_corse = buffer_corse.convex_hull"
   ]
  },
  {
   "cell_type": "code",
   "execution_count": 3,
   "metadata": {},
   "outputs": [
    {
     "data": {
      "image/svg+xml": "<svg xmlns=\"http://www.w3.org/2000/svg\" xmlns:xlink=\"http://www.w3.org/1999/xlink\" width=\"100.0\" height=\"100.0\" viewBox=\"8.474078306092316 41.29871029529879 1.1518541374310836 1.7787454400199039\" preserveAspectRatio=\"xMinYMin meet\"><g transform=\"matrix(1,0,0,-1,0,84.37616603061748)\"><path fill-rule=\"evenodd\" fill=\"#66cc99\" stroke=\"#555555\" stroke-width=\"0.035574908800398077\" opacity=\"0.6\" d=\"M 9.200383533032522,41.36458975604027 L 9.180471117118616,41.36574249856019 L 9.096060382457155,41.3919237634749 L 8.843093091650058,41.51866941883758 L 8.84097845747124,41.52002557684003 L 8.787850205106315,41.5556769586281 L 8.658559908344827,41.74099791856617 L 8.60723691037487,41.89557300943171 L 8.590628947233595,41.962232276116545 L 8.539957766833794,42.23688518719643 L 8.543165650713384,42.36849947096744 L 8.545350353484364,42.3757682097791 L 8.709210696987679,42.57672196511447 L 9.346738047268087,43.00059596936695 L 9.357945877910405,43.007188473993885 L 9.383285106287206,43.010179900586984 L 9.420335760854602,43.011576274577216 L 9.427338487820426,43.010128664132566 L 9.46358443155631,42.986580005717336 L 9.485954817750622,42.85174710562759 L 9.492924666377052,42.80706000248874 L 9.533103075100692,42.546294211141856 L 9.560052982781922,42.282120717031766 L 9.558943383742976,42.196632170502944 L 9.55659455876959,42.14290849594631 L 9.554831165866863,42.12376907788862 L 9.548994272476767,42.104247114288796 L 9.397643777788574,41.671306020514045 L 9.369321064690153,41.59395208911735 L 9.367140404337952,41.589542169960694 L 9.259783553216584,41.41364172064062 L 9.220024657730626,41.36637468468441 L 9.200383533032522,41.36458975604027 z\" /></g></svg>",
      "text/plain": [
       "<shapely.geometry.polygon.Polygon at 0x299d6bf4ac0>"
      ]
     },
     "execution_count": 3,
     "metadata": {},
     "output_type": "execute_result"
    }
   ],
   "source": [
    "convex_corse"
   ]
  },
  {
   "cell_type": "code",
   "execution_count": 4,
   "metadata": {
    "collapsed": true
   },
   "outputs": [],
   "source": [
    "drive = ox.graph_from_polygon(convex_corse, network_type='drive')"
   ]
  },
  {
   "cell_type": "code",
   "execution_count": 9,
   "metadata": {
    "collapsed": true
   },
   "outputs": [
    {
     "name": "stderr",
     "output_type": "stream",
     "text": [
      "C:\\Users\\rgoix\\AppData\\Local\\Continuum\\anaconda3\\lib\\site-packages\\osmnx\\io.py:108: UserWarning: Column names longer than 10 characters will be truncated when saved to ESRI Shapefile.\n",
      "  gdf_nodes.to_file(filepath_nodes, driver=\"ESRI Shapefile\", index=True, encoding=encoding)\n"
     ]
    }
   ],
   "source": [
    "ox.save_graph_shapefile(drive, filepath=gis_folder + '/osmdrive')"
   ]
  }
 ],
 "metadata": {
  "kernelspec": {
   "display_name": "Python 3",
   "language": "python",
   "name": "python3"
  },
  "language_info": {
   "codemirror_mode": {
    "name": "ipython",
    "version": 3
   },
   "file_extension": ".py",
   "mimetype": "text/x-python",
   "name": "python",
   "nbconvert_exporter": "python",
   "pygments_lexer": "ipython3",
   "version": "3.7.9"
  }
 },
 "nbformat": 4,
 "nbformat_minor": 2
}
